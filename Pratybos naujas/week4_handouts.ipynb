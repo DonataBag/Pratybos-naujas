{
 "cells": [
  {
   "cell_type": "markdown",
   "metadata": {
    "id": "YM88gAs2NLEj"
   },
   "source": [
    "# Writing custom functions\n",
    "\n",
    "Functions are fundamental to programming. A function in Python has a **name** and **parameters**:\n",
    "\n",
    "```python\n",
    "function_name(param1, param2, ...)\n",
    "```\n",
    "\n",
    "Functions are **callable objects**, which means they can be called by providing **arguments** (parameter values) in round brackets. You could also just print out the object itself:"
   ]
  },
  {
   "cell_type": "code",
   "execution_count": 9,
   "metadata": {
    "id": "_Jk3eqgRORk5"
   },
   "outputs": [
    {
     "name": "stdout",
     "output_type": "stream",
     "text": [
      "Help on built-in function sorted in module builtins:\n",
      "\n",
      "sorted(iterable, /, *, key=None, reverse=False)\n",
      "    Return a new list containing all items from the iterable in ascending order.\n",
      "\n",
      "    A custom key function can be supplied to customize the sort order, and the\n",
      "    reverse flag can be set to request the result in descending order.\n",
      "\n"
     ]
    }
   ],
   "source": [
    "# sorted\n",
    "help(sorted)"
   ]
  },
  {
   "cell_type": "markdown",
   "metadata": {
    "id": "Eu445OHKHDO-"
   },
   "source": [
    "## Examples of Python in-built functions:\n",
    "\n",
    "With strictly one parameter:\n",
    "```python\n",
    "\",\".join([\"comma\", \"separated\", \"values\"])\n",
    "# output: \"comma,separated,values\"\n",
    "```\n",
    "\n",
    "With strictly two parameters:\n",
    "```python\n",
    "isinstance(5, int)  # output: True\n",
    "\n",
    "```\n",
    "\n",
    "With one required and one optional parameter (**note:** optional parameters always go after required ones!):\n",
    "```python\n",
    "sorted(list(\"hello\"))\n",
    "# output: ['e', 'h', 'l', 'l', 'o']\n",
    "sorted(list(\"hello\"), reverse=True)\n",
    "# output: ['o', 'l', 'l', 'h', 'e']\n",
    "```\n",
    "\n",
    "With two optional parameters:\n",
    "```python\n",
    "int(\"101010\")     # output: 101010\n",
    "int()             # output: 0\n",
    "int(\"101010\", 2)  # output: 42\n",
    "# use int() to convert non-decimal numbers to decimal!\n",
    "```\n",
    "\n",
    "With any number of parameters:\n",
    "```python\n",
    "print(\"1st param\", \"2nd param\", \"and\", \"many\", \"more\")\n",
    "print()  # prints an empty row\n",
    "```"
   ]
  },
  {
   "cell_type": "code",
   "execution_count": 11,
   "metadata": {},
   "outputs": [
    {
     "data": {
      "text/plain": [
       "682"
      ]
     },
     "execution_count": 11,
     "metadata": {},
     "output_type": "execute_result"
    }
   ],
   "source": [
    "int('1010101010', 2)"
   ]
  },
  {
   "cell_type": "markdown",
   "metadata": {
    "id": "vHKabLNfNR4v"
   },
   "source": [
    "## Functions are objects\n",
    "\n",
    "The name of the function can be seen as a variable which stores the function as a value.\n",
    "\n",
    "- This is why you can assign a custom value to a function name, which will replace the function making it inaccesible:\n",
    "\n",
    "```python\n",
    "list = []\n",
    "list()\n",
    "```\n",
    "\n",
    "```\n",
    "TypeError                                 Traceback (most recent call last)\n",
    "\n",
    "<ipython-input-14-1178054a73db> in <cell line: 2>()\n",
    "      1 list = []\n",
    "----> 2 list()\n",
    "\n",
    "TypeError: 'list' object is not callable\n",
    "```\n",
    "\n",
    "Use `del list` to remove your custom value and restore the original function."
   ]
  },
  {
   "cell_type": "markdown",
   "metadata": {
    "id": "5NQ-HNYNNXr2"
   },
   "source": [
    "## ❔But what is the difference between `sorted([...])` and `[...].sort()`?\n",
    "\n",
    "The `sorted()` object is a standalone function, while `.sort()` is actually a *class method*. It's not required to know the difference between these two, and we won't write classes during this course. You can think of **classes as custom objects with their own dedicated functions**. In code, you'll see the keyword `class` which means a custom class is being defined.\n",
    "- The `int()` function actually *initializes* (creates) an object of class `int` (same for similar functions like `float()`, `list()` etc.)"
   ]
  },
  {
   "cell_type": "markdown",
   "metadata": {
    "id": "R9FyBDmHNxJ6"
   },
   "source": [
    "## Creating a custom function\n",
    "\n",
    "Use the `def` keyword to define a new function. In the example below, the function does not have any parameters and always returns a string \"completed!\":"
   ]
  },
  {
   "cell_type": "code",
   "execution_count": null,
   "metadata": {
    "id": "CodNy9C-OCky"
   },
   "outputs": [],
   "source": [
    "def my_first_function():\n",
    "  return \"completed!\"\n",
    "\n",
    "result = my_first_function()\n",
    "print(result)"
   ]
  },
  {
   "cell_type": "code",
   "execution_count": 15,
   "metadata": {},
   "outputs": [
    {
     "name": "stdout",
     "output_type": "stream",
     "text": [
      "hi\n",
      "None\n"
     ]
    }
   ],
   "source": [
    "def some_func():\n",
    "    print('hi')\n",
    "    return None\n",
    "\n",
    "var = some_func()\n",
    "print(var)"
   ]
  },
  {
   "cell_type": "markdown",
   "metadata": {
    "id": "Ru_nRDeVPMWl"
   },
   "source": [
    "A more useful example of a function would be the calculation of energy out of mass:\n",
    "- `mass` is a required parameter;\n",
    "- `c` is optional: in case the speed of light changes, we can provide a new value to the function:"
   ]
  },
  {
   "cell_type": "code",
   "execution_count": 16,
   "metadata": {
    "id": "I1Xe5a1bPLJo"
   },
   "outputs": [
    {
     "name": "stdout",
     "output_type": "stream",
     "text": [
      "Energy of a 250g object: 22468879468.42044\n",
      "Energy of a 250g object if light has the speed of sound: 0.02941225\n"
     ]
    }
   ],
   "source": [
    "def mass_energy_eq(mass, c=299792458):\n",
    "    return mass * c ** 2 / 1000000   # return MJ instead of J\n",
    "\n",
    "energy = mass_energy_eq(0.25)\n",
    "print('Energy of a 250g object:', energy)\n",
    "\n",
    "energy_with_slow_light = mass_energy_eq(0.25, 343)\n",
    "print('Energy of a 250g object if light has the speed of sound:', energy_with_slow_light)"
   ]
  },
  {
   "cell_type": "markdown",
   "metadata": {
    "id": "IsWYJ9MERWS6"
   },
   "source": [
    "# Exercises\n",
    "\n",
    "1. Write a function with zero parameters which returns the length of your name.\n",
    "2. Write a function with one required parameter which returns the length of a given name.\n",
    "3. Write a function with one optional parameter which returns the length of a given name, and if none provided, then the length of your name.\n",
    "4. Write a function with one required parameter which returns lengths of each name in a provided **list**.\n",
    "5. Write a function with one required parameter which detects whether the provided value is a string or list, and returns the same output as in points 2 or 4, respectively."
   ]
  },
  {
   "cell_type": "code",
   "execution_count": 28,
   "metadata": {
    "id": "HdBNjAMnkAuo"
   },
   "outputs": [
    {
     "data": {
      "text/plain": [
       "6"
      ]
     },
     "execution_count": 28,
     "metadata": {},
     "output_type": "execute_result"
    }
   ],
   "source": [
    "# def len_name():\n",
    "#     return 'name length is 6'\n",
    "# result = len_name()\n",
    "# print(result)\n",
    "\n",
    "def namelength():\n",
    "    name = 'Donata'\n",
    "    name_len = len(name)\n",
    "    return name_len\n",
    "namelength()"
   ]
  },
  {
   "cell_type": "code",
   "execution_count": 33,
   "metadata": {},
   "outputs": [
    {
     "ename": "IndentationError",
     "evalue": "unexpected indent (3290880034.py, line 3)",
     "output_type": "error",
     "traceback": [
      "\u001b[1;36m  Cell \u001b[1;32mIn[33], line 3\u001b[1;36m\u001b[0m\n\u001b[1;33m    return name_len\u001b[0m\n\u001b[1;37m    ^\u001b[0m\n\u001b[1;31mIndentationError\u001b[0m\u001b[1;31m:\u001b[0m unexpected indent\n"
     ]
    }
   ],
   "source": [
    "def length_of_name(name = 'martynas'):\n",
    "   name_len = len(name) \n",
    "    return name_len\n",
    "    \n",
    "length_of_name('Jonas')"
   ]
  },
  {
   "cell_type": "code",
   "execution_count": 34,
   "metadata": {},
   "outputs": [
    {
     "ename": "AttributeError",
     "evalue": "'int' object has no attribute 'append'",
     "output_type": "error",
     "traceback": [
      "\u001b[1;31m---------------------------------------------------------------------------\u001b[0m",
      "\u001b[1;31mAttributeError\u001b[0m                            Traceback (most recent call last)",
      "Cell \u001b[1;32mIn[34], line 8\u001b[0m\n\u001b[0;32m      6\u001b[0m         name_length\u001b[38;5;241m.\u001b[39mappend(name_length)\n\u001b[0;32m      7\u001b[0m         \u001b[38;5;28;01mreturn\u001b[39;00m name_legths\n\u001b[1;32m----> 8\u001b[0m namelength([\u001b[38;5;124m'\u001b[39m\u001b[38;5;124mjohn\u001b[39m\u001b[38;5;124m'\u001b[39m])\n",
      "Cell \u001b[1;32mIn[34], line 6\u001b[0m, in \u001b[0;36mnamelength\u001b[1;34m(names)\u001b[0m\n\u001b[0;32m      4\u001b[0m \u001b[38;5;28;01mfor\u001b[39;00m name \u001b[38;5;129;01min\u001b[39;00m names:\n\u001b[0;32m      5\u001b[0m     name_length \u001b[38;5;241m=\u001b[39m \u001b[38;5;28mlen\u001b[39m(name)\n\u001b[1;32m----> 6\u001b[0m     name_length\u001b[38;5;241m.\u001b[39mappend(name_length)\n\u001b[0;32m      7\u001b[0m     \u001b[38;5;28;01mreturn\u001b[39;00m name_legths\n",
      "\u001b[1;31mAttributeError\u001b[0m: 'int' object has no attribute 'append'"
     ]
    }
   ],
   "source": [
    "def namelength(names):\n",
    "    name_lengths = []\n",
    "\n",
    "    for name in names:\n",
    "        name_length = len(name)\n",
    "        name_length.append(name_length)\n",
    "        return name_legths\n",
    "namelength(['john'])"
   ]
  },
  {
   "cell_type": "code",
   "execution_count": 35,
   "metadata": {},
   "outputs": [
    {
     "data": {
      "text/plain": [
       "True"
      ]
     },
     "execution_count": 35,
     "metadata": {},
     "output_type": "execute_result"
    }
   ],
   "source": [
    "isinstance('word', str)"
   ]
  },
  {
   "cell_type": "code",
   "execution_count": 37,
   "metadata": {},
   "outputs": [],
   "source": [
    "def namelength(names):\n",
    "    if isinstance(names, str):\n",
    "        pass\n",
    "    elif isinstance(names, list):\n",
    "        pass\n",
    "    else:\n",
    "        print('unsuported type encountered')\n",
    "        return None\n",
    "namelength('name')"
   ]
  },
  {
   "cell_type": "markdown",
   "metadata": {
    "id": "l0M3SZ37S10Z"
   },
   "source": [
    "## Functions with any number of parameters\n",
    "\n",
    "There are special keywords `*args` and `**kwargs` (keyword args) which allow the function to take any number of arguments:"
   ]
  },
  {
   "cell_type": "code",
   "execution_count": 42,
   "metadata": {
    "id": "L1dmgOiRQLU5"
   },
   "outputs": [
    {
     "data": {
      "text/plain": [
       "[4, 9, 25, 49]"
      ]
     },
     "execution_count": 42,
     "metadata": {},
     "output_type": "execute_result"
    }
   ],
   "source": [
    "def square_everything(*args):\n",
    "  result = []\n",
    "  for element in args:\n",
    "    result.append(element ** 2)\n",
    "  return result\n",
    "\n",
    "square_everything(2, 3, 5, 7)"
   ]
  },
  {
   "cell_type": "markdown",
   "metadata": {
    "id": "E44IiZ1dUs-y"
   },
   "source": [
    "You can use both `*args` and `**kwargs` at the same time:"
   ]
  },
  {
   "cell_type": "code",
   "execution_count": null,
   "metadata": {
    "id": "FPY5Xn6IUwZj"
   },
   "outputs": [],
   "source": [
    "def michaelis_menten_velocity(*args, **kwargs):\n",
    "    vmax = kwargs.get('vmax', 1.0)\n",
    "    km = kwargs.get('km', 1.0)\n",
    "    velocities = []\n",
    "\n",
    "    for substrate_conc in args:\n",
    "        velocity = (vmax * substrate_conc) / (km + substrate_conc)\n",
    "        velocities.append(velocity)\n",
    "\n",
    "    return velocities\n",
    "\n",
    "velocities = michaelis_menten_velocity(0.2, 0.5, 1.2, 2.0, vmax=10, km=0.5)\n",
    "print(f\"Reaction velocities: {velocities}\")"
   ]
  },
  {
   "cell_type": "markdown",
   "metadata": {
    "id": "euQosk3hT8e0"
   },
   "source": [
    "## Exercises\n",
    "\n",
    "1. Using `*args`, write a function which returns a list of given strings uppercased (use the `.uppercase()` function).\n",
    "  - E.g. `uppercase_all('word', 'another')` should return `['WORD', 'ANOTHER']`.\n",
    "\n",
    "1. Write the same function as in the previous point, but this time it should also ignore any non-string arguments instead of rising an error. **Write two versions of this function:** one using the `continue` keyword, and another using `pass`.\n",
    "\n",
    "1. Using `**kwargs`, write a function which calculates the mass of a DNA molecule when base counts are provided. Unknown bases can be ignored. If no arguments were provided, return zero. Use this dictionary of base weights:\n",
    "```python\n",
    "dna_base_weights = {\n",
    "    'A': 313.2,  # Adenine\n",
    "    'T': 304.2,  # Thymine\n",
    "    'G': 329.2,  # Guanine\n",
    "    'C': 289.2   # Cytosine\n",
    "}\n",
    "```\n",
    "  - ❓Where will you put this dictionary: inside the function, or outside it? What will be the difference?\n",
    "\n",
    "1. Write a function which will return food ingredients which are possible to make based on input ingredients:\n",
    "  - `flour` is required for all results. If not provided, the function should raise an error (`TypeError`);\n",
    "  - If `eggs` are provided, return pasta 🍝 as `(flour / 2) * (eggs / 3)`;\n",
    "  - If `eggs` and `milk` are provided, return pancakes 🥞 as `flour * milk * egg`;\n",
    "  - If `water` and `yeast` are provided, return pizza 🍕 as `(flour / 2) * water * yeast`;\n",
    "  - If `water` and `oil` are provided, return tortilla 🫓 as `(flour / 2) * water * (oil * 4)`.\n",
    "  - Several results can be returned at the same time depending on the provided ingredients. So, for the return, **choose a collection which you thihk is more convenient**."
   ]
  },
  {
   "cell_type": "code",
   "execution_count": 53,
   "metadata": {
    "scrolled": true
   },
   "outputs": [
    {
     "ename": "IndentationError",
     "evalue": "expected an indented block after 'if' statement on line 4 (259663287.py, line 5)",
     "output_type": "error",
     "traceback": [
      "\u001b[1;36m  Cell \u001b[1;32mIn[53], line 5\u001b[1;36m\u001b[0m\n\u001b[1;33m    result.append(element.upper())\u001b[0m\n\u001b[1;37m    ^\u001b[0m\n\u001b[1;31mIndentationError\u001b[0m\u001b[1;31m:\u001b[0m expected an indented block after 'if' statement on line 4\n"
     ]
    }
   ],
   "source": [
    "def uppercase_all(*args):\n",
    "    # result = []\n",
    "    # for element in args:\n",
    "    #     if isinstance (element, str):\n",
    "    #     result.append(element.upper())\n",
    "    # return result\n",
    "    return[arg.upper()for arg in args if \n",
    "uppercase_all('word', 'elevate', 4)\n",
    "    "
   ]
  },
  {
   "cell_type": "code",
   "execution_count": 55,
   "metadata": {
    "scrolled": true
   },
   "outputs": [
    {
     "ename": "IndentationError",
     "evalue": "expected an indented block after 'if' statement on line 11 (3670294887.py, line 12)",
     "output_type": "error",
     "traceback": [
      "\u001b[1;36m  Cell \u001b[1;32mIn[55], line 12\u001b[1;36m\u001b[0m\n\u001b[1;33m    dna_mass += weight.get(arg)\u001b[0m\n\u001b[1;37m    ^\u001b[0m\n\u001b[1;31mIndentationError\u001b[0m\u001b[1;31m:\u001b[0m expected an indented block after 'if' statement on line 11\n"
     ]
    }
   ],
   "source": [
    "dna_base_weights = {\n",
    "    'A': 313.2,  # Adenine\n",
    "    'T': 304.2,  # Thymine\n",
    "    'G': 329.2,  # Guanine\n",
    "    'C': 289.2   # Cytosine\n",
    "}\n",
    "def calculate_dna_weight(*arg, **kwargs):\n",
    "    dna_mass = 0\n",
    "    weights = kwargs.get('weights')\n",
    "    for arg in args:\n",
    "        if arg in weights.keys():\n",
    "        dna_mass += weight.get(arg)\n",
    "\n",
    "    return dna_mass\n",
    "\n",
    "calculate_dna_weight('A', 'G', 'T', 'C', weights)"
   ]
  },
  {
   "cell_type": "code",
   "execution_count": 61,
   "metadata": {},
   "outputs": [
    {
     "ename": "TypeError",
     "evalue": "",
     "output_type": "error",
     "traceback": [
      "\u001b[1;31m---------------------------------------------------------------------------\u001b[0m",
      "\u001b[1;31mTypeError\u001b[0m                                 Traceback (most recent call last)",
      "Cell \u001b[1;32mIn[61], line 7\u001b[0m\n\u001b[0;32m      4\u001b[0m     \u001b[38;5;28;01melse\u001b[39;00m: \n\u001b[0;32m      5\u001b[0m         \u001b[38;5;28;01mraise\u001b[39;00m \u001b[38;5;167;01mTypeError\u001b[39;00m \n\u001b[1;32m----> 7\u001b[0m get_recipes(chicken \u001b[38;5;241m=\u001b[39m \u001b[38;5;241m5\u001b[39m, bread \u001b[38;5;241m=\u001b[39m \u001b[38;5;241m5\u001b[39m)\n",
      "Cell \u001b[1;32mIn[61], line 5\u001b[0m, in \u001b[0;36mget_recipes\u001b[1;34m(**kwargs)\u001b[0m\n\u001b[0;32m      3\u001b[0m     \u001b[38;5;28mprint\u001b[39m(\u001b[38;5;124m'\u001b[39m\u001b[38;5;124mflour found!\u001b[39m\u001b[38;5;124m'\u001b[39m)\n\u001b[0;32m      4\u001b[0m \u001b[38;5;28;01melse\u001b[39;00m: \n\u001b[1;32m----> 5\u001b[0m     \u001b[38;5;28;01mraise\u001b[39;00m \u001b[38;5;167;01mTypeError\u001b[39;00m\n",
      "\u001b[1;31mTypeError\u001b[0m: "
     ]
    }
   ],
   "source": [
    "def get_recipes(**kwargs):\n",
    "    if 'flour' in kwargs.keys():\n",
    "        print('flour found!')\n",
    "    else: \n",
    "        raise TypeError \n",
    "\n",
    "get_recipes(chicken = 5, bread = 5)\n",
    "              "
   ]
  },
  {
   "cell_type": "markdown",
   "metadata": {
    "id": "NL66emcpblC_"
   },
   "source": [
    "## Type hints\n",
    "\n",
    "Type hints improve readability of custom functions:\n",
    "\n",
    "```python\n",
    "def mass_energy_eq(mass: float, c: float = 299792458.0) -> float:\n",
    "    return mass * c ** 2 / 10000000\n",
    "```\n",
    "\n",
    "You can also indicate what type is expected inside a collection:\n",
    "\n",
    "```python\n",
    "def square_all_ints(ints: list[int]) -> list[int]:\n",
    "  return [x ** 2 for x in ints]\n",
    "\n",
    "def euclidean_distance(p1: tuple[float, float], p2: tuple[float, float]) -> float:\n",
    "  return ((p1[0] - p2[0]) ** 2 + (p1[1] - p2[1]) ** 2) ** 0.5\n",
    "```\n",
    "\n",
    "To allow several different types for the same parameter, use `Union`:\n",
    "\n",
    "```python\n",
    "from typing import Union\n",
    "\n",
    "def list_or_int(x: Union[list, int]) -> None:\n",
    "  if isinstance(x, list):\n",
    "    print('Received a list!')\n",
    "  elif isinstance(x, int):\n",
    "    print('Received an integer!')\n",
    "  else:\n",
    "    print('Received some other type')\n",
    "```\n",
    "\n",
    "Functions with optional output can use the `Optional` type hint:\n",
    "\n",
    "```python\n",
    "from typing import Optional\n",
    "\n",
    "def squared_int(x: int) -> Optional[int]:\n",
    "  if isinstance(x, int):\n",
    "    return x ** 2\n",
    "```"
   ]
  },
  {
   "cell_type": "markdown",
   "metadata": {
    "id": "iLO4bnZ4cCjQ"
   },
   "source": [
    "## Exercises\n",
    "\n",
    "Analyze written functions and add correct type hints to each:"
   ]
  },
  {
   "cell_type": "code",
   "execution_count": 65,
   "metadata": {
    "id": "g2MCrLLNdX_7"
   },
   "outputs": [
    {
     "name": "stdout",
     "output_type": "stream",
     "text": [
      "Hello name!\n",
      "Hello John!\n"
     ]
    }
   ],
   "source": [
    "# 1st function\n",
    "\n",
    "def greet_every_person(names_list: list):\n",
    "  for name in names_list:\n",
    "    print(f\"Hello {name}!\")\n",
    "greet_every_person(['name', 'John'])"
   ]
  },
  {
   "cell_type": "code",
   "execution_count": null,
   "metadata": {
    "id": "qHZUp-gBcB5I"
   },
   "outputs": [],
   "source": [
    "# 2nd function\n",
    "\n",
    "def euros_to_dollars(amount_euros: float, exchange_rate: float = 1.1):\n",
    "    return amount_euros * exchange_rate"
   ]
  },
  {
   "cell_type": "code",
   "execution_count": 71,
   "metadata": {},
   "outputs": [
    {
     "ename": "ModuleNotFoundError",
     "evalue": "No module named 'functions'",
     "output_type": "error",
     "traceback": [
      "\u001b[1;31m---------------------------------------------------------------------------\u001b[0m",
      "\u001b[1;31mModuleNotFoundError\u001b[0m                       Traceback (most recent call last)",
      "Cell \u001b[1;32mIn[71], line 1\u001b[0m\n\u001b[1;32m----> 1\u001b[0m \u001b[38;5;28;01mfrom\u001b[39;00m \u001b[38;5;21;01mfunctions\u001b[39;00m \u001b[38;5;28;01mimport\u001b[39;00m\u001b[38;5;241m*\u001b[39m\n\u001b[0;32m      2\u001b[0m get_ipython()\u001b[38;5;241m.\u001b[39mrun_line_magic(\u001b[38;5;124m'\u001b[39m\u001b[38;5;124mpinfo\u001b[39m\u001b[38;5;124m'\u001b[39m, \u001b[38;5;124m'\u001b[39m\u001b[38;5;124meuros_to_dollars\u001b[39m\u001b[38;5;124m'\u001b[39m)\n",
      "\u001b[1;31mModuleNotFoundError\u001b[0m: No module named 'functions'"
     ]
    }
   ],
   "source": [
    "from functions import*\n",
    "euros_to_dollars"
   ]
  },
  {
   "cell_type": "code",
   "execution_count": 68,
   "metadata": {
    "id": "9UgWlLYedn2v"
   },
   "outputs": [
    {
     "name": "stdout",
     "output_type": "stream",
     "text": [
      "Unsupported collection / not a collection!\n"
     ]
    }
   ],
   "source": [
    "# 3rd function\n",
    "from typing import Union,Optional\n",
    "\n",
    "def add_element_to_collection(element: Union[int, float, str], \\\n",
    "                              collection: [list, tuple, set, dict]) -> Optional[Union[list, tuple, set, dict]]:\n",
    "  if isinstance(collection, list):\n",
    "    return collection + [element]\n",
    "  elif isinstance(collection, tuple):\n",
    "    return tuple(list(collection) + [element])\n",
    "  elif isinstance(collection, set):\n",
    "    return set(list(collection) + [element])\n",
    "  elif isinstance(collection, dict):\n",
    "    return dict(list(collection.items()) + [(element, None)])\n",
    "  else:\n",
    "    print('Unsupported collection / not a collection!')\n",
    "\n",
    "add_element_to_collection(1,'hdh')"
   ]
  },
  {
   "cell_type": "markdown",
   "metadata": {
    "id": "hv9QiSqTgF11"
   },
   "source": [
    "## Saving custom function to modules\n",
    "\n",
    "You can write your custom functions in a separate .py file and then import it.\n",
    "- The .py file should be in the same directory as this Notebook!\n",
    "\n",
    "## Exercise\n",
    "\n",
    "Examine the usage of a custom function below, then write and save that function in a separate file so the cell below would work properly without raising any errors:"
   ]
  },
  {
   "cell_type": "code",
   "execution_count": null,
   "metadata": {
    "id": "GfSdKIYzfR_U"
   },
   "outputs": [],
   "source": [
    "from my_custom_functions import add_element_to_collection\n",
    "\n",
    "print(add_element_to_collection(5, [1, 2, 3, 4]))  # output: [1, 2, 3, 4, 5]\n",
    "print(add_element_to_collection(5, (1, 2, 3, 4)))  # output: (1, 2, 3, 4, 5)"
   ]
  }
 ],
 "metadata": {
  "colab": {
   "authorship_tag": "ABX9TyNZez27cmcnBVeILn93Ocfi",
   "provenance": []
  },
  "kernelspec": {
   "display_name": "Python 3 (ipykernel)",
   "language": "python",
   "name": "python3"
  },
  "language_info": {
   "codemirror_mode": {
    "name": "ipython",
    "version": 3
   },
   "file_extension": ".py",
   "mimetype": "text/x-python",
   "name": "python",
   "nbconvert_exporter": "python",
   "pygments_lexer": "ipython3",
   "version": "3.12.4"
  }
 },
 "nbformat": 4,
 "nbformat_minor": 4
}
