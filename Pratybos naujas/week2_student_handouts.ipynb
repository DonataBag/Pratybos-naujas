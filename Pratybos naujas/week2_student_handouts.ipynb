{
 "cells": [
  {
   "cell_type": "markdown",
   "metadata": {
    "id": "CCnMAt039PkR"
   },
   "source": [
    "# Week 2\n",
    "Here, collections are covered, with information mostly taken from last year Python programming fundamentals notebook, with added exercises."
   ]
  },
  {
   "cell_type": "markdown",
   "metadata": {
    "id": "L8gPnDDnq54E"
   },
   "source": [
    "## Collections: lists, tuples, sets, dictionaries\n",
    "\n",
    "We can store several values together in a collection. The simplest and most intuitive Python collection is a list. To create a list, square brackets are used:\n",
    "```python\n",
    "my_list = []\n",
    "type(my_list)\n",
    "```\n",
    "\n",
    "Lists can store any values: numbers, strings, booleans, other variables, even other lists or collections.\n",
    "\n",
    "A list can be created with elements already provided:\n",
    "```python\n",
    "my_list = [1, 2.0, \"three\", [4, 5]]\n",
    "```\n",
    "\n",
    "Elements in lists are ordered, so each element can be accessed using an index. The process of getting a value by an index is called indexation:\n",
    "```python\n",
    "my_list[0]\n",
    "```\n",
    "\n",
    "You can select multiple elements by specifying a range:\n",
    "\n",
    "```python\n",
    "my_list[1:3]\n",
    "```\n",
    "Here, the syntax is **start:end**. Remember that numbering begins at 0 in Python. To select elements counting from the back of the list, use negative numbers.\n",
    "\n",
    "If you try to get an element by a non-existing index (bigger than the length of the list), you will get an error (`IndexError`):\n",
    "\n",
    "```python\n",
    "my_list[4]\n",
    "```\n",
    "\n",
    "Main functions to know and use with lists:\n",
    "* `len(x)` returns the length of the `x` list. Returns a new value.\n",
    "* `x.append(a)` appends the value of the `a` variable to the end of the `x` list. Does it **in-place**.\n",
    "* `x.insert(index, a)` inserts `a` in the place specified by the index. Does it **in-place**.\n",
    "* `x.extend([a])` extends the list x with another list. Does it **in-place**.\n",
    "* `x.remove(a)` will remove first occurence of the `a` value from list. Does it **in-place**.\n",
    "* `x.pop(a)` removes the element of index `a`, and also returns the value of `a`. Does it **in-place**.\n",
    "* `x.clear()` removes everything from the list. Does it **in-place**.\n",
    "* `x.index(a)` finds the index of the `a` value inside `x`. Returns a new value.\n",
    "  * If there are copies of `a` values, will return the index for first occurence: `[1, 2, 2, 3].index(2)` will always return 1.\n",
    "* `x.count(a)` counts the number of `a` values inside `x`. Returns a new value.\n",
    "* `sorted(x)`  returns a new list with is a sorted copy of `x`. Values are sorted from smaller to bigger.\n",
    "* `x.sort()` sorts the list **in-place**.\n",
    "* `''.join(x)` converts the list to string by concatenating all values together.  Returns a new value.\n",
    "  * You can add a symbol between values, e.g. `','.join(['a', 'b', 'c'])` will return `'a,b,c'`.\n",
    "\n",
    "**Understand the difference between inplace changes and creating copies**\n",
    "\n",
    "Let's check two very similar functions: `sorted(x)` and `x.sort()`:\n",
    "```python\n",
    "x = [5, 7, 6, 8]\n",
    "print('The sorted function returns a copy:', sorted(x))\n",
    "print('You can see that the original lis}t remains unchanged:', x)\n",
    "print('But .sort() does not return anything: ', x.sort())\n",
    "print('And the original list is now changed:', x)\n",
    "```"
   ]
  },
  {
   "cell_type": "code",
   "execution_count": 1,
   "metadata": {},
   "outputs": [
    {
     "data": {
      "text/plain": [
       "[2, 3, 5, 6, 7, 8, 10]"
      ]
     },
     "execution_count": 1,
     "metadata": {},
     "output_type": "execute_result"
    }
   ],
   "source": [
    "my_list = [5, 6, 7, 8, 2, 10, 3]\n",
    "len(my_list)\n",
    "sorted(my_list)"
   ]
  },
  {
   "cell_type": "markdown",
   "metadata": {
    "id": "gE3hoUagrKMM"
   },
   "source": [
    "### Exercises:\n",
    "\n",
    "1. Create a list containing 5 elements of 3 types and print it\n",
    "2. Print the 3rd element of this list\n",
    "3. Append an element to the list\n",
    "4. Add an element at the second index in the list\n",
    "5. Add a `True` value to the list in the last element of a given list. Then, print it to the screen.\n",
    "\n",
    "  `test_list = [1, 2, 3, 4, 100, 200, 300, 400, \"a\", \"b\", \"c\", \"d\", [], [], [], []]`\n",
    "6. Remove any three elements from the list.\n",
    "7. When dealing with unknown data structures, indexing often takes getting used to. A messy, multi-level list is given below. Select and print the `'target'` element.\n",
    "\n",
    "  ```python\n",
    "messy_list = [[[[1, 2, 3],[4, 5, 6]],[[7, 8, 9],[10, 11, 12]]],[['target', 14, 15],[16, 17, 18]],[[19, 20, 21],[22, 23, 24]]]\n",
    "```"
   ]
  },
  {
   "cell_type": "code",
   "execution_count": 2,
   "metadata": {},
   "outputs": [
    {
     "name": "stdout",
     "output_type": "stream",
     "text": [
      "[5, True, 'word', 5.0, 9]\n",
      "word\n",
      "[5, True, 'word', 5.0, 9, 'new_element']\n",
      "[5, True, 9.14, 'word', 5.0, 9, 'new_element']\n",
      "[5, True, True, 9.14, 'word', 5.0, 9, 'new_element']\n"
     ]
    }
   ],
   "source": [
    "some_list = [5, True, 'word', 5., 9]\n",
    "print(some_list)\n",
    "print(some_list[2])\n",
    "some_list.append('new_element')\n",
    "print(some_list)\n",
    "some_list.insert(2, 9.14)\n",
    "print(some_list)\n",
    "some_list.insert (1, True)\n",
    "print(some_list)"
   ]
  },
  {
   "cell_type": "code",
   "execution_count": 6,
   "metadata": {},
   "outputs": [
    {
     "name": "stdout",
     "output_type": "stream",
     "text": [
      "[1, 2, 3, 4, 100, 200, 300, 400, 'a', 'b', 'c', 'd', [], [], [], [True]]\n",
      "[1, 3, 200, 300, 400, 'a', 'b', 'c', 'd', [], [], [], [True]]\n"
     ]
    }
   ],
   "source": [
    "test_list = [1, 2, 3, 4, 100, 200, 300, 400, \"a\", \"b\", \"c\", \"d\", [], [], [], []]\n",
    "test_list[-1].append(True)\n",
    "print(test_list)\n",
    "test_list.pop(4)\n",
    "test_list.pop(1)\n",
    "test_list.pop(2)\n",
    "print(test_list)"
   ]
  },
  {
   "cell_type": "code",
   "execution_count": 7,
   "metadata": {},
   "outputs": [
    {
     "name": "stdout",
     "output_type": "stream",
     "text": [
      "target\n"
     ]
    }
   ],
   "source": [
    "messy_list = [[[[1, 2, 3],[4, 5, 6]],[[7, 8, 9],[10, 11, 12]]],[['target', 14, 15],[16, 17, 18]],[[19, 20, 21],[22, 23, 24]]]\n",
    "print(messy_list[1][0][0])\n"
   ]
  },
  {
   "cell_type": "markdown",
   "metadata": {
    "id": "_UEfdXok_5sJ"
   },
   "source": [
    "Lists allow inplace changes. In programming, such objects are called **mutable**. Usually it is very convenient, but sometimes collections are preferred to be stable and unchangeable.\n",
    "\n",
    "There is a way to forbid any changes of a collection: use **tuples** instead of lists!\n",
    "\n",
    "### Tuples\n",
    "\n",
    "Tuples (`tuple` objects) are ordered but **immutable** collections.\n",
    "\n",
    "They are defined with round brackets or the `tuple()` command. Let's see how tuples are immutable:\n",
    "\n",
    "```python\n",
    "my_list = [1, 2, 3]\n",
    "my_list[1] = 100\n",
    "print(my_list)  # we see that the list has a changed element\n",
    "```\n",
    "\n",
    "```python\n",
    "my_tuple = (1, 2, 3)  # round brackets instead of square ones\n",
    "my_tuple[1] = 100  # throws a TypeError!\n",
    "```\n",
    "\n",
    "Some of list-associated commands work with tuples as well, e.g.:\n",
    "* `len(t)` - get length of the `t` tuple\n",
    "* `sorted(t) ` - but not `t.sort()`!\n",
    "* `t.count(a)`\n",
    "* `''.join(t)`\n",
    "* etc.\n",
    "\n",
    "### Sets\n",
    "\n",
    "Both lists and tuples can hold duplicate values inside. If you need a collection of unique values, you should use sets (`set` objects). They are the same as those defined in mathematics (*LT - aibė*).\n",
    "\n",
    "Sets are defined with the `set()` command. You can also sometimes use the curly brackets:\n",
    "* If you will write something like `{1, 2, 3}`, it will be recognized as a set.\n",
    "* However, `{}` will create an empty dictionary instead.\n",
    "\n",
    "```python\n",
    "my_set = {1, 2, 2, 3}\n",
    "print(my_set)  # notice that the duplicated 2 was automatically removed\n",
    "```\n",
    "\n",
    "You can use the `set()` function to get the unique values from any collection:\n",
    "\n",
    "```python\n",
    "my_list = [1, 1, 1, 2, 2, 3]\n",
    "print(set(my_list))\n",
    "my_tuple = (1, 1, 1, 2, 2, 3)\n",
    "print(set(my_tuple))\n",
    "```\n",
    "Sets are **unordered** and cannot be indexed:\n",
    "```python\n",
    "my_set[0]  # returns a TypeError\n",
    "```\n",
    "\n",
    "You can use the `sorted()` function on a set, but it will return a list:\n",
    "\n",
    "```python\n",
    "a = {1, 3, 2}\n",
    "print(type(a))\n",
    "print(type(sorted(a)))\n",
    "```\n",
    "\n",
    "Sets have three main operations:\n",
    "* Union (∪), or `|` in Python\n",
    "* Intersect (∩), or `&` in Python\n",
    "* Except (-, minus, difference), or `-` in Python\n",
    "```python\n",
    "set_0 = {1, 2, 3, 4, 5}\n",
    "set_1 = {3, 4, 5, 6}\n",
    "print('Union:', set_0 | set_1)\n",
    "print('Intersection:', set_0 & set_1)\n",
    "print('Set 0 minus set 1:', set_0 - set_1)\n",
    "```\n",
    ".Sets also have some other functions (not that sets are **mutable**):\n",
    "* `s.add(a)` - add the value of `a` variable (if it is not there already). In-place.\n",
    "* `s.discard(a)` - remove the value of `a` (if it is not there already). In-place.\n",
    "* `s.update(s1)` - add all values from the `s1` set (basically a union of `s` and `s1`). In-place.\n",
    "* `s.union(s1)`\n",
    "* `s.intersection(s1)`\n",
    "* `s.difference(s1)`\n",
    "* `len(s)`"
   ]
  },
  {
   "cell_type": "code",
   "execution_count": 24,
   "metadata": {},
   "outputs": [
    {
     "data": {
      "text/plain": [
       "{5, 6, 7}"
      ]
     },
     "execution_count": 24,
     "metadata": {},
     "output_type": "execute_result"
    }
   ],
   "source": [
    "my_set = set([5, 6, 6, 7])\n",
    "my_set"
   ]
  },
  {
   "cell_type": "markdown",
   "metadata": {
    "id": "BfaEHcSPFWs7"
   },
   "source": [
    "### Exercises\n",
    "\n",
    "You have two tuples of genes sequenced from neural and immune cells.\n",
    "\n",
    "`immune = ('BDNF', 'CD3E', 'CX3CR1', 'FOXP3', 'LCK', 'FOXP3', 'CD8A', 'STAT3', 'CD19', 'IL7R', 'FOXP3', 'CD8A', 'TREM2', 'CCR7', 'CD4', 'FOXP3', 'CX3CR1', 'LCK', 'STAT3', 'GATA3')`\n",
    "  \n",
    "`neuron = ('SNAP25', 'SYN1', 'MAP2', 'BDNF', 'TREM2', 'NEUROD1', 'CX3CR1', 'SYN1', 'GAP43', 'GRIN1', 'CHRNA7', 'SNAP25', 'TH', 'GAP43', 'TREM2', 'BDNF', 'STAT3', 'SLC6A3', 'BCL11B')`\n",
    "\n",
    "1. Print how many unique genes are in each cell type\n",
    "2. Print how many unique genes are found across both cells\n",
    "3. Print how many genes are found in both cells. Print these genes"
   ]
  },
  {
   "cell_type": "code",
   "execution_count": 11,
   "metadata": {
    "scrolled": true
   },
   "outputs": [
    {
     "name": "stdout",
     "output_type": "stream",
     "text": [
      "13\n",
      "14\n",
      "23\n",
      "4\n",
      "{'STAT3', 'CX3CR1', 'TREM2', 'BDNF'}\n"
     ]
    }
   ],
   "source": [
    "immune = ('BDNF', 'CD3E', 'CX3CR1', 'FOXP3', 'LCK', 'FOXP3', 'CD8A', 'STAT3', 'CD19', 'IL7R', 'FOXP3', 'CD8A', 'TREM2', 'CCR7', 'CD4', 'FOXP3', 'CX3CR1', 'LCK', 'STAT3', 'GATA3')\n",
    "neuron = ('SNAP25', 'SYN1', 'MAP2', 'BDNF', 'TREM2', 'NEUROD1', 'CX3CR1', 'SYN1', 'GAP43', 'GRIN1', 'CHRNA7', 'SNAP25', 'TH', 'GAP43', 'TREM2', 'BDNF', 'STAT3', 'SLC6A3', 'BCL11B')\n",
    "# 1\n",
    "immune_set = set(immune)\n",
    "neuron_set = set(neuron)\n",
    "print(len(immune_set))\n",
    "print(len(neuron_set))\n",
    "# 2\n",
    "print(len(immune_set|neuron_set))\n",
    "#3\n",
    "both_set = immune_set&neuron_set\n",
    "print(len(both_set))\n",
    "print(both_set)\n"
   ]
  },
  {
   "cell_type": "code",
   "execution_count": 29,
   "metadata": {},
   "outputs": [
    {
     "name": "stdout",
     "output_type": "stream",
     "text": [
      "my variable is 5\n"
     ]
    }
   ],
   "source": [
    "var = 5\n",
    "#print('my varaiable is')\n",
    "#print( var)\n",
    "print(f'my variable is {var}')\n"
   ]
  },
  {
   "cell_type": "markdown",
   "metadata": {
    "id": "R_iqAtZgBAjD"
   },
   "source": [
    "### Dictionaries\n",
    "\n",
    "Dictionaries, or `dict` objects, are different from lists, tuples and sets in that they store **pairs** of elements instead. In these pairs, one element is called `key` and the other is `value`. Like in paper dictionaries, keys are what you use to find values: e.g. you search for a word to find its translation to another language.\n",
    "\n",
    "Empty dictionaries are created with either `dict()` or curly brackets `{}`. To define key-value pairs, the `:` symbol is used between them, e.g.:\n",
    "\n",
    "```python\n",
    "my_dict = {'vardas': 'name', 'laikas': 'time'}\n",
    "```\n",
    "\n",
    "In this case, `'vardas'` and `'laikas'` are keys, and `'name'` and `'time'` are values.\n",
    "\n",
    "There are almost no exceptions to what can be used as dictionary elements: numbers, strings, booleans, tuples can be both keys and values.\n",
    "* Keys should be immutable. Lists, sets, other dictionaries cannot be keys. Keys should also be unique.\n",
    "* Values can be almost anything, including lists, sets, dictionaries, even function names. Values can repeat in the same dictionary.\n",
    "\n",
    "Dictionaries cannot be indexed. Instead, keys should be used to find respective values. To find a value by its key, square brackets are used:\n",
    "\n",
    "```python\n",
    "my_dict['vardas']\n",
    "```\n",
    "\n",
    "You can add a new key-value pair using square brackets:\n",
    "```python\n",
    "my_dict['simplified_pi'] = 3.14\n",
    "```\n",
    "\n",
    "Main functions for `dict` objects are (examples wit a `d` dictionary):\n",
    "* `d.keys()` - get all keys of the dictionary\n",
    "* `d.values()` - get all values\n",
    "* `d.items()` - will return key-value pairs as tuples\n",
    "* `d.get(key)` - another way to get a value using a `key` (see example below)\n",
    "* `d.update(d1)` - add key-value pairs (with possible owerwrite) from `d1` to `d`\n",
    "* `len(d)`\n",
    "\n",
    "Quite often it may be better to use the `.get()` function instead of square brackets to get values. That is because the square brackets approach can raise a `KeyError` error if the key does not exist in the dictionary:\n",
    "```python\n",
    "my_dict['spring']\n",
    "print('Default is None:', my_dict.get('spring'))\n",
    "print('Custom default:', my_dict.get('spring', 2024))\n",
    "```"
   ]
  },
  {
   "cell_type": "code",
   "execution_count": 34,
   "metadata": {},
   "outputs": [
    {
     "data": {
      "text/plain": [
       "dict_keys(['key1', 'listkey', 'key2'])"
      ]
     },
     "execution_count": 34,
     "metadata": {},
     "output_type": "execute_result"
    }
   ],
   "source": [
    "dictionary = {'key1' : 'value1', 'listkey':[1, 2, 3, 4]}\n",
    "dictionary['key2'] = 10\n",
    "dictionary\n",
    "#dictionary.get('key3','key2')\n",
    "dictionary.values()\n",
    "dictionary.keys()\n",
    "#dictionary.items()- mes naudojame kai norime sukurti list'ą, bet neprarasti info apie keys ir values."
   ]
  },
  {
   "cell_type": "markdown",
   "metadata": {
    "id": "8tsul6kfQvq7"
   },
   "source": [
    "### Exercises\n",
    "\n",
    "You have a dictionary of cell types and a gene commonly used for their identification:\n",
    "```python\n",
    "cells = {\n",
    "    \"t_cell\": \"CD3E\",\n",
    "    \"b_cell\": \"CD19\",\n",
    "    \"macrophage\": \"CD68\",\n",
    "    \"neuron\": \"RBFOX3\",\n",
    "    \"hepatocyte\": \"ALB\",\n",
    "    \"cardiomyocyte\": \"TNNT2\",\n",
    "    \"adipocyte\": \"LEP\",\n",
    "    \"fibroblast\": \"COL1A1\",\n",
    "    \"pancreatic_b\": \"INS\",\n",
    "    \"endothelial\": \"INS\",\n",
    "}\n",
    "```\n",
    "1. Check what cell types are available in this dictionary\n",
    "2. Add another type of cell to this dictionary (use google)\n",
    "3. Print the gene specific to adipocytes\n",
    "4. The endothelial cell gene is wrong. Change it to *PECAM1*\n",
    "\n",
    "Another dictionary holds quick explanations of each gene function. Check one selected gene, and see what happens when you try to look for a gene that is not in the dictionary, such as the one you added. Use `.get()` to prevent a `KeyError`.\n",
    "\n",
    "```python\n",
    "functions = {\n",
    "    \"CD3E\":\"Part of the T-cell receptor complex, essential for T-cell development and activation.\",\n",
    "    \"CD19\":\"A B-cell surface molecule involved in B-cell activation and development.\",\n",
    "    \"CD68\":\"A glycoprotein used as a marker for macrophages, involved in phagocytosis.\",\n",
    "    \"RBFOX3\":\"A neuron-specific protein used to identify mature neurons.\",\n",
    "    \"ALB\":\"The major protein produced by liver cells, involved in maintaining blood osmotic pressure.\",\n",
    "    \"TNNT2\":\" A cardiac-specific protein that regulates muscle contraction in the heart.\",\n",
    "    \"LEP\":\"A hormone secreted by adipocytes that regulates energy balance and fat storage.\",\n",
    "    \"COL1A1\":\"Produces type I collagen, the most abundant protein in connective tissues.\",\n",
    "    \"INS\":\"The gene encoding insulin, a hormone essential for glucose regulation, produced specifically by pancreatic beta cells.\",\n",
    "    \"PECAM1\":\"An adhesion molecule involved in angiogenesis and a marker of endothelial cells.\",\n",
    "}\n",
    "```\n",
    "\n"
   ]
  },
  {
   "cell_type": "code",
   "execution_count": 22,
   "metadata": {},
   "outputs": [
    {
     "name": "stdout",
     "output_type": "stream",
     "text": [
      "Available cell types are ['t_cell', 'b_cell', 'macrophage', 'neuron', 'hepatocyte', 'cardiomyocyte', 'adipocyte', 'fibroblast', 'pancreatic_b', 'endothelial']\n",
      "{'t_cell': 'CD3E', 'b_cell': 'CD19', 'macrophage': 'CD68', 'neuron': 'RBFOX3', 'hepatocyte': 'ALB', 'cardiomyocyte': 'TNNT2', 'adipocyte': 'LEP', 'fibroblast': 'COL1A1', 'pancreatic_b': 'INS', 'endothelial': 'INS', 'plant_cell': 'PL'}\n",
      "LEP\n",
      "{'t_cell': 'CD3E', 'b_cell': 'CD19', 'macrophage': 'CD68', 'neuron': 'RBFOX3', 'hepatocyte': 'ALB', 'cardiomyocyte': 'TNNT2', 'adipocyte': 'LEP', 'fibroblast': 'COL1A1', 'pancreatic_b': 'INS', 'endothelial': 'PECAM1', 'plant_cell': 'PL'}\n"
     ]
    }
   ],
   "source": [
    "cells = {\n",
    "    \"t_cell\": \"CD3E\",\n",
    "    \"b_cell\": \"CD19\",\n",
    "    \"macrophage\": \"CD68\",\n",
    "    \"neuron\": \"RBFOX3\",\n",
    "    \"hepatocyte\": \"ALB\",\n",
    "    \"cardiomyocyte\": \"TNNT2\",\n",
    "    \"adipocyte\": \"LEP\",\n",
    "    \"fibroblast\": \"COL1A1\",\n",
    "    \"pancreatic_b\": \"INS\",\n",
    "    \"endothelial\": \"INS\",\n",
    "}\n",
    "print(f'Available cell types are {list(cells.keys())}')\n",
    "cells['plant_cell'] = 'PL'\n",
    "print(cells)\n",
    "print(cells.get('adipocyte'))\n",
    "cells['endothelial'] = 'PECAM1'\n",
    "print(cells)"
   ]
  }
 ],
 "metadata": {
  "colab": {
   "authorship_tag": "ABX9TyPqPQTvvaJImuDAKGnNcKQR",
   "provenance": []
  },
  "kernelspec": {
   "display_name": "Python 3 (ipykernel)",
   "language": "python",
   "name": "python3"
  },
  "language_info": {
   "codemirror_mode": {
    "name": "ipython",
    "version": 3
   },
   "file_extension": ".py",
   "mimetype": "text/x-python",
   "name": "python",
   "nbconvert_exporter": "python",
   "pygments_lexer": "ipython3",
   "version": "3.12.4"
  }
 },
 "nbformat": 4,
 "nbformat_minor": 4
}
