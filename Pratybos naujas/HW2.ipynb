{
 "cells": [
  {
   "cell_type": "markdown",
   "metadata": {
    "id": "blcYkSbbuBon"
   },
   "source": [
    "Python for Data Analysis, Vilnius University, 2024\n",
    "\n",
    "# HW2: working with Numpy and Pandas\n",
    "\n",
    "Instructions are the same as for HW1. There are some `assert` statements, but they only check for basic and obvious errors.\n",
    "\n",
    "There are 25 points to collect (5 per task), and one bonus task with 4 points.\n",
    "\n",
    "**Do not import any libraries except for the ones imported in the code cell below**.\n",
    "\n",
    "Don't hesitate to contact me or Martynas if you are stuck."
   ]
  },
  {
   "cell_type": "code",
   "execution_count": 1,
   "metadata": {
    "id": "F-nIeWBZt8Yk"
   },
   "outputs": [],
   "source": [
    "import json\n",
    "import numpy as np\n",
    "import pandas as pd\n",
    "from matplotlib import pyplot as plt\n",
    "# !pip install seaborn\n",
    "import seaborn as sns"
   ]
  },
  {
   "cell_type": "markdown",
   "metadata": {
    "id": "1QiiqJfaubuU"
   },
   "source": [
    "## Task 1: Load and examine the data\n",
    "\n",
    "The Snail lab needs your help again. They have sent you a data file about plants edible by snails, with the name \"plantdata.npy\". You need to correctly load it into Python and examine it to see if the data looks good.\n",
    "\n",
    "```bash\n",
    "!wget https://github.com/Tallivm/vu-python/raw/refs/heads/main/plantdata.npy\n",
    "```\n",
    "\n",
    "- ❗️*(1 point)* Load \"plantdata.npy\" into notebook using the `np.load()` function. Name the loaded array as `raw_data`.\n",
    "- ❗️*(1 point)* Print out the shape and type of data.\n",
    "- ❗️*(1 point)* Calculate and save the total number of missing values (NaNs) in `raw_data` into a new variable `n_missing`.\n",
    "- ❗️*(2 points)* For each data column, print out the minimum, average, median, and maximum values. *Do not use Pandas functions yet.*"
   ]
  },
  {
   "cell_type": "code",
   "execution_count": 2,
   "metadata": {
    "id": "PPDQb3MtwvVx"
   },
   "outputs": [
    {
     "name": "stdout",
     "output_type": "stream",
     "text": [
      "[[9.41000000e+01 3.00000000e-01 1.42000000e+02 ... 2.30000000e+00\n",
      "  2.30181028e+01 7.05942576e+00]\n",
      " [1.09400000e+02 1.00000000e-01 1.38000000e+02 ... 9.00000000e-01\n",
      "  8.86022843e+00 2.94636232e+00]\n",
      " [8.72000000e+01 4.00000000e-01 1.17000000e+02 ... 4.00000000e-01\n",
      "  4.16375095e+00 1.17932854e+00]\n",
      " ...\n",
      " [1.03600000e+02 2.00000000e-01 1.35000000e+02 ... 1.60000000e+00\n",
      "  1.57373750e+01 4.48979110e+00]\n",
      " [1.15800000e+02 2.00000000e-01 1.41000000e+02 ... 1.60000000e+00\n",
      "  1.60109638e+01 5.29007045e+00]\n",
      " [1.19300000e+02 1.00000000e-01 1.21000000e+02 ... 1.50000000e+00\n",
      "  1.48038238e+01 4.32911361e+00]]\n",
      "(15434, 12)\n",
      "<class 'numpy.ndarray'>\n",
      "20873\n",
      "Column 11:\n",
      "  Minimum: 0.0\n",
      "  Average: 4.582037803839972\n",
      "  Median: 3.684335855678124\n",
      "  Maximum: 28.12385211008675\n"
     ]
    }
   ],
   "source": [
    "# code\n",
    "import requests #I use this importation because wget function not working for me \n",
    "url = 'https://github.com/Tallivm/vu-python/raw/refs/heads/main/plantdata.npy'\n",
    "response = requests.get(url)\n",
    "with open('plantdata.npy', 'rb') as file:\n",
    "    data = file.read()\n",
    "raw_data = np.load('plantdata.npy')\n",
    "\n",
    "print(raw_data)\n",
    "print(raw_data.shape)\n",
    "print(type(raw_data))\n",
    "\n",
    "n_missing = np.isnan(raw_data).sum()\n",
    "print(n_missing)\n",
    "\n",
    "\n",
    "for i in range(raw_data.shape[1]):\n",
    "    column = raw_data[:, i]\n",
    "    column_cleaned = column[~np.isnan(column)] \n",
    "    minimum = np.min(column_cleaned)\n",
    "    maximum = np.max(column_cleaned)\n",
    "    average = np.mean(column_cleaned)\n",
    "    median = np.median(column_cleaned)\n",
    "\n",
    "print(f\"Column {i}:\")\n",
    "print(f\"  Minimum: {minimum}\")\n",
    "print(f\"  Average: {average}\")\n",
    "print(f\"  Median: {median}\")\n",
    "print(f\"  Maximum: {maximum}\") "
   ]
  },
  {
   "cell_type": "code",
   "execution_count": 3,
   "metadata": {
    "id": "oED9eBpA3Tdz"
   },
   "outputs": [],
   "source": [
    "assert type(raw_data) == np.ndarray\n",
    "assert n_missing == 20873"
   ]
  },
  {
   "cell_type": "markdown",
   "metadata": {
    "id": "QaMDW_ou3ZcS"
   },
   "source": [
    "## Task 2. Making data convenient to work with\n",
    "\n",
    "Because the dataset is a table, it will be much easier to work with it using Pandas. Create a DataFrame containing data from the Numpy array. Name it `raw_df`.\n",
    "\n",
    "- ❗ *(4 points)* Download the data sheet which is in JSON format. Inside you will find the names of each column (in the same order), as well as some mapping for categorical values to convert to readable strings. Load the data sheet using JSON into a new variable  `datasheet`, and use it to change the names of `raw_df` columns. Then, use it to replace some numerical values in categorical columns into strings. To download the data sheet, run:\n",
    "```bash\n",
    "!wget https://raw.githubusercontent.com/Tallivm/vu-python/refs/heads/main/plant_datasheet.json\n",
    "```\n",
    "- ❗ *(1 point)* Count and print out the number of red flowers with either ovate smooth or reniform waxy leaves. Save it into a variable `n_certain_red_flowers`.\n"
   ]
  },
  {
   "cell_type": "code",
   "execution_count": 4,
   "metadata": {
    "id": "R0tvl8RHCZV2"
   },
   "outputs": [
    {
     "name": "stdout",
     "output_type": "stream",
     "text": [
      "{'column names': ['plant_height', 'stem_bending', 'leaf_size', 'leaf_shape_type', 'leaf_surface_type', 'flower_radius', 'n_petals', 'petal_size', 'petal_color', 'snail_age', 'snail_body_length', 'snail_eye_length'], 'mapping': {'leaf_shape_type': {'cordate': 0, 'ovate': 1, 'elliptical': 2, 'lanceolate': 3, 'reniform': 4}, 'leaf_surface_type': {'smooth': 0, 'hairy': 1, 'waxy': 2}, 'petal_color': {'white': 0, 'red': 1, 'yellow': 2, 'blue': 3, 'purple': 4}}}\n",
      "       plant_height  stem_bending  leaf_size  leaf_shape_type  \\\n",
      "0              94.1           0.3      142.0              3.0   \n",
      "1             109.4           0.1      138.0              2.0   \n",
      "2              87.2           0.4      117.0              0.0   \n",
      "3             106.2           0.2      151.0              1.0   \n",
      "4             103.1           0.2      115.0              0.0   \n",
      "...             ...           ...        ...              ...   \n",
      "15429          91.1           0.3      187.0              0.0   \n",
      "15430          84.4           0.5      113.0              3.0   \n",
      "15431         103.6           0.2      135.0              1.0   \n",
      "15432         115.8           0.2      141.0              1.0   \n",
      "15433         119.3           0.1      121.0              0.0   \n",
      "\n",
      "       leaf_surface_type  flower_radius  n_petals  petal_size  petal_color  \\\n",
      "0                    2.0            NaN       0.0         NaN          NaN   \n",
      "1                    1.0           39.2       7.0        36.0          1.0   \n",
      "2                    1.0           30.6       6.0        28.0          4.0   \n",
      "3                    0.0            NaN       0.0         NaN          NaN   \n",
      "4                    1.0           48.5       5.0        44.0          0.0   \n",
      "...                  ...            ...       ...         ...          ...   \n",
      "15429                0.0            NaN       0.0         NaN          NaN   \n",
      "15430                1.0            NaN       0.0         NaN          NaN   \n",
      "15431                1.0           28.0       8.0        25.0          0.0   \n",
      "15432                0.0            NaN       0.0         NaN          NaN   \n",
      "15433                0.0            NaN       0.0         NaN          NaN   \n",
      "\n",
      "       snail_age  snail_body_length  snail_eye_length  \n",
      "0            2.3          23.018103          7.059426  \n",
      "1            0.9           8.860228          2.946362  \n",
      "2            0.4           4.163751          1.179329  \n",
      "3            3.6          35.867042         10.859839  \n",
      "4            2.3          22.520190          6.842169  \n",
      "...          ...                ...               ...  \n",
      "15429        3.1          31.429531          9.286463  \n",
      "15430        1.6          16.237903          4.751757  \n",
      "15431        1.6          15.737375          4.489791  \n",
      "15432        1.6          16.010964          5.290070  \n",
      "15433        1.5          14.803824          4.329114  \n",
      "\n",
      "[15434 rows x 12 columns]\n",
      "Specific red flowers number:201\n"
     ]
    }
   ],
   "source": [
    "# code\n",
    "raw_df = pd.DataFrame(raw_data)\n",
    "url = \"https://raw.githubusercontent.com/Tallivm/vu-python/refs/heads/main/plant_datasheet.json\"\n",
    "response = requests.get(url)\n",
    "\n",
    "with open(\"plant_datasheet.json\", \"wb\") as file:\n",
    "    file.write(response.content)\n",
    "    # print(\"JSON file downloaded successfully.\")\n",
    "\n",
    "with open (\"plant_datasheet.json\", \"r\") as f:\n",
    "    datasheet = json.load(f)\n",
    "    print(datasheet)\n",
    "    \n",
    "    columns_names = datasheet['column names']\n",
    "    raw_df.columns = columns_names\n",
    "    print(raw_df)\n",
    "for column, mapping in datasheet['mapping'].items():\n",
    "    raw_df[column] = raw_df[column].map({v: k for k, v in mapping.items()})\n",
    "    \n",
    "n_certain_red_flowers = len(raw_df[(raw_df['petal_color'] == 'red') &\n",
    "                                   ((raw_df['leaf_shape_type'] == 'ovate') & (raw_df['leaf_surface_type'] == 'smooth') |\n",
    "                                    (raw_df['leaf_shape_type'] == 'reniform') & (raw_df['leaf_surface_type'] == 'waxy'))])\n",
    "print(f'Specific red flowers number:{n_certain_red_flowers}')\n",
    "    "
   ]
  },
  {
   "cell_type": "code",
   "execution_count": 5,
   "metadata": {
    "id": "H8PaMeglIEee"
   },
   "outputs": [],
   "source": [
    "assert type(raw_df) == pd.DataFrame\n",
    "assert type(datasheet) == dict\n",
    "assert raw_df.columns[0] == 'plant_height'\n",
    "assert raw_df.loc[1, 'petal_color'] == 'red'\n",
    "assert n_certain_red_flowers == 201"
   ]
  },
  {
   "cell_type": "markdown",
   "metadata": {
    "id": "DvjQSqoijiKO"
   },
   "source": [
    "## Task 3. Detecting problematic values\n",
    "\n",
    "- ❗ *(1 point)* Print out the number of NaNs for each column, using a Pandas function.\n",
    "- ❗ *(1 point)* Create a new DataFrame `numeric_df` containing only numerical columns from `raw_df` (with integer and float types). *You cannot write the names of numerical columns by hand, please write an automated solution.*\n",
    "- ❗ *(1 point)* Plot and show a **boxplot** for each numerical feature.\n",
    "- ❗ *(2 points)* Using the approach described in theory slides (week 6, \"Finding outliers\" slide), count and print out the number of outliers in each numerical column. Save the total number of outliers into a variable `n_outliers_total` (should be an integer)."
   ]
  },
  {
   "cell_type": "code",
   "execution_count": 9,
   "metadata": {
    "id": "iRZEqYLIjM1I"
   },
   "outputs": [
    {
     "data": {
      "image/png": "[encoded data removed]",
      "text/plain": [
       "<Figure size 640x480 with 1 Axes>"
      ]
     },
     "metadata": {},
     "output_type": "display_data"
    },
    {
     "name": "stdout",
     "output_type": "stream",
     "text": [
      "Number of outliers in each column: \n",
      "plant_height          148\n",
      "stem_bending            6\n",
      "leaf_size             130\n",
      "flower_radius          65\n",
      "n_petals                0\n",
      "petal_size             36\n",
      "snail_age            2386\n",
      "snail_body_length     577\n",
      "snail_eye_length      569\n",
      "dtype: int64\n",
      "Total number of outliers: 3917\n"
     ]
    }
   ],
   "source": [
    "# code\n",
    "raw_df.isna()\n",
    "numeric_df = raw_df.select_dtypes([int, float]) \n",
    "fig, ax = plt.subplots()\n",
    "ax.boxplot(numeric_df)\n",
    "plt.show()\n",
    "\n",
    "Q1 = numeric_df.quantile(0.25)\n",
    "Q3 = numeric_df.quantile(0.75)\n",
    "IQR = Q3 - Q1\n",
    "\n",
    "outliers = ((numeric_df < (Q1 - 1.5 * IQR)) | (numeric_df > (Q3 + 1.5 * IQR))).sum()\n",
    "n_outliers_total = outliers.sum()\n",
    "\n",
    "print(f\"Number of outliers in each column: \\n{outliers}\")\n",
    "print(f\"Total number of outliers: {n_outliers_total}\")"
   ]
  },
  {
   "cell_type": "code",
   "execution_count": 7,
   "metadata": {
    "id": "i0nTniWzJmup"
   },
   "outputs": [],
   "source": [
    "assert len(numeric_df.columns) == 9\n",
    "assert n_outliers_total == 3917"
   ]
  },
  {
   "cell_type": "markdown",
   "metadata": {
    "id": "ATc10pPL5kSa"
   },
   "source": [
    "## Task 4. Data cleaning\n",
    "\n",
    "The `snail_age` column certainly looks strange. Some data cleaning may be needed. After sending the initial analysis to the researcher from the Snail lab and asking how to interpret missing values and outliers, they responded with some additional information:\n",
    "- The data array was collected by several independent biologists. Some of them recorded snail age in years, and some in days. It should be possible to distinguish between year and day values using common sense (snails normally live up to 10-15 years). In the clean data, the lab wants to have all ages in years.\n",
    "- Body length was measured from the tip of snail's tail to the tip of the right eye tentacle. Snails should not have eyes longer than a half of their body.\n",
    "- Some (not all!) missing values are present in the data because the researcher forgot to make a measurement. All samples containing such missing values should be removed.\n",
    "\n",
    "Based on these facts, you need to decide which values are errogenous and should be corrected (if possible) or removed.\n",
    "\n",
    "Make a copy of `raw_df` and name it `clean_df`. Only make changes in this new DataFrame - the old one should remain unchanged.\n",
    "\n",
    "- ❗*(1 point)* Remove rows with errogenous \"snail_body_length\" or \"snail_eye_length\" values.\n",
    "- ❗*(2 points)* Find \"snail_age\" values which were obviously recorded in days, and convert them into years.\n",
    "- ❗*(2 points)* Explore the NaN values in data. Most NaNs should not be removed and instead replaced with zeros or a similar constant. Other NaNs cannot be replaced and the whole sample should be removed. Write a comment explaining how you made your decision which NaNs should be removed and which should be replaced."
   ]
  },
  {
   "cell_type": "code",
   "execution_count": null,
   "metadata": {
    "id": "-ru9NeI3id6n"
   },
   "outputs": [],
   "source": [
    "# code"
   ]
  },
  {
   "cell_type": "code",
   "execution_count": null,
   "metadata": {
    "id": "4vYmtsxRgcrH"
   },
   "outputs": [],
   "source": [
    "assert list(raw_df.columns) == list(clean_df.columns)\n",
    "assert len(raw_df) > len(clean_df)\n",
    "assert clean_df.isnull().sum().sum() == 0"
   ]
  },
  {
   "cell_type": "markdown",
   "metadata": {
    "id": "lDlGNt3KcfAe"
   },
   "source": [
    "## Task 5. Data visualization\n",
    "\n",
    "The Snail lab asked you for several publication-ready data visualizations. Use Matplotlib and Seaborn to create beautiful and descriptive plots.\n",
    "\n",
    "- ❗ *(3 points)* For each feature in `clean_df`, plot either a histogram or a barplot (depending on whether the feature is numerical).\n",
    "  - Each feature should have its own plot with a corresponding title (feature name), and all plots should be in a single figure with 3 rows and 4 columns.\n",
    "  - For numerical features, add a red dashed vertical line to each plot which shows *average* of the corresponding feature, and a green dashed vertical line which shows *median*.\n",
    "\n",
    "- ❗ *(2 points)* Calculate Spearman's correlation coefficients between all numerical features. Plot a heatmap of these coefficients.\n",
    "  - The heatmap should have visible values (rounded to two digits after floating point), feature names, and a colorbar.\n",
    "  - Use a [diverging](https://matplotlib.org/stable/users/explain/colors/colormaps.html#diverging) colormap, and suitable values for `vmin` and `vmax` parameters, so that the zero correlation is in the middle of the colorbar.\n",
    "  - The title of the figure should be \"Spearman correlation between features\"."
   ]
  },
  {
   "cell_type": "code",
   "execution_count": null,
   "metadata": {
    "id": "n-IFy7LdqWR7"
   },
   "outputs": [],
   "source": [
    "# code"
   ]
  },
  {
   "cell_type": "markdown",
   "metadata": {
    "id": "n2FX2yssD67U"
   },
   "source": [
    "## Bonus: Task 6. More statistics\n",
    "\n",
    "The Snail lab submitted beautiful graphs for publication. However, reviewers noted that there is not enough data statistics. Due to a lack of time to do normality tests and test other assumptions, bootstrapping was chosen as a good way to estimate the real parameters of every variable.\n",
    "- ❕ *(bonus 3 points)* Write a function that performs boostraping using the Monte Carlo method (google it!) only using `Numpy`. This function should return the resampled means, and have the number of resamples included as a parameter.\n",
    "- ❕ *(bonus 1 point)* Add an option to instead calculate the median and interquartile range (*non-parametric*). Visualize plots from Task 5 again, now including these new parameters. How do they compare? How many resamples provide a smooth distribution?"
   ]
  },
  {
   "cell_type": "code",
   "execution_count": null,
   "metadata": {
    "id": "K5ROynavFEyc"
   },
   "outputs": [],
   "source": [
    "# code"
   ]
  }
 ],
 "metadata": {
  "colab": {
   "provenance": []
  },
  "kernelspec": {
   "display_name": "Python 3 (ipykernel)",
   "language": "python",
   "name": "python3"
  },
  "language_info": {
   "codemirror_mode": {
    "name": "ipython",
    "version": 3
   },
   "file_extension": ".py",
   "mimetype": "text/x-python",
   "name": "python",
   "nbconvert_exporter": "python",
   "pygments_lexer": "ipython3",
   "version": "3.12.4"
  }
 },
 "nbformat": 4,
 "nbformat_minor": 4
}
