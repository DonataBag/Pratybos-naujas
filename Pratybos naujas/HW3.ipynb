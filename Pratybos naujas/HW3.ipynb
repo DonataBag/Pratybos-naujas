{
 "cells": [
  {
   "cell_type": "markdown",
   "metadata": {
    "id": "AmOiwlvgL7LA"
   },
   "source": [
    "Python for Data Analysis, Vilnius University, 2024\n",
    "\n",
    "# HW3: Training a successful ML model\n",
    "\n",
    "There are 30 points to collect, and 5 bonus points.\n",
    "\n",
    "In this homework, you need to write all code from scratch. There are minimal pre-written `assert` statements. Main rules for a successful submission:\n",
    "\n",
    "**1. You can only import libraries from this list (but you won't need all of them):**\n",
    "\n",
    "- Native Python libraries (e.g. itertools, re)\n",
    "- Numpy\n",
    "- Pandas\n",
    "- Matplotlib\n",
    "- Seaborn\n",
    "- Scipy\n",
    "- Scikit-Learn\n",
    "- tqdm\n",
    "\n",
    "**2. Do not leave unused code and ensure the overall structure of the Notebook is clean and readable, as you are given much more freedom this time. Do not repeat same code or create same variables more than 2 times.**\n",
    "\n",
    "**3. Explain your choices (e.g. in comments).** Some code may be self-explanatory, like renaming columns or printing out some statistics. But there are things which should always be explained, such as:\n",
    "- Any hardcoded values such as chosen thresholds or lists of column names;\n",
    "- Removal of columns or samples;\n",
    "- Imported functions which were not mentioned during lectures;\n",
    "- Any additional steps which were not requested in tasks.\n",
    "\n",
    "Don't hesitate to contact me or Martynas if you are stuck."
   ]
  },
  {
   "cell_type": "markdown",
   "metadata": {
    "id": "2pHDq8xPSKGj"
   },
   "source": [
    "## The goal\n",
    "\n",
    "Some researchers who collected data for the Snail Lab complained that measuring a sample takes a lot of time and is quite difficult. Sometimes snails are found on single leaves, not on whole plants, making several measurements impossible to make. Moreover, one should be careful when measuring snail features, because if they hide inside their shell, the researcher is forced to wait until the snail fully appears again.\n",
    "\n",
    "An intern from the Snail Lab suggested that they could use AI to solve this issue. After several discussions, they decided to train a model which would predict the genus of a snail from only easy-to-measure features. The intern prepared some useful data but then got sick. So, the Snail Lab asks for your help once more.\n",
    "\n",
    "You need to train a Logistic regression-based model to predict snail genus. For that, use data available here:\n",
    "\n",
    "https://raw.githubusercontent.com/Tallivm/vu-python/refs/heads/main/hw3_data.csv\n",
    "\n",
    "- Do not use any other datasets (e.g. from previous homeworks)."
   ]
  },
  {
   "cell_type": "code",
   "execution_count": null,
   "metadata": {
    "id": "b-_h_DfYgZeI"
   },
   "outputs": [],
   "source": [
    "import pandas as pd\n",
    "# put all your imports into this cell"
   ]
  },
  {
   "cell_type": "markdown",
   "metadata": {
    "id": "USnz7Brlw_Le"
   },
   "source": [
    "This variable contains the name of the column you need to predict. Use it through this Notebook instead of writing the column name itself. Do not rewrite it."
   ]
  },
  {
   "cell_type": "code",
   "execution_count": null,
   "metadata": {
    "id": "q9FlT1Y7k04h"
   },
   "outputs": [],
   "source": [
    "to_predict = 'snail_genus'"
   ]
  },
  {
   "cell_type": "markdown",
   "metadata": {
    "id": "IWmwz7ACa6nm"
   },
   "source": [
    "## Task 1: EDA (exploratory data analysis)\n",
    "*(3 points in total)*\n",
    "\n",
    "- Write code to load `'hw3_data.csv'` into the variable `raw` as a DataFrame. Make sure to not use global paths (e.g. `\"C://Users/JonasJonas/Desktop/vel_sraiges/hw3_data.csv\"`) or paths which obviously won't work on another computers (e.g. `\"folderiux/hw3_data.csv\"`).\n",
    "\n",
    "The Snail Lab assured you that this time the data should be completely clean. However, you always need to check it for yourself.\n",
    "- Check if there are any NaNs.\n",
    "- Check if mininum, maximum, and average values of numerical columns look OK. For example, if the measurement is about length, it cannot contain negative or zero values.\n",
    "- Print out unique values and their counts in categorical columns.\n",
    "- Plot a correlation matrix for numerical values. Make sure to follow the standard steps to make the plot easy to read (as mentioned in HW2, e.g. use a diverging colormap)."
   ]
  },
  {
   "cell_type": "code",
   "execution_count": null,
   "metadata": {
    "id": "F8nT5mCQ6P3P"
   },
   "outputs": [],
   "source": [
    "# your code"
   ]
  },
  {
   "cell_type": "code",
   "execution_count": null,
   "metadata": {
    "id": "DtTJZkdR6c-R"
   },
   "outputs": [],
   "source": [
    "assert type(raw) == pd.DataFrame\n",
    "assert to_predict in raw"
   ]
  },
  {
   "cell_type": "markdown",
   "metadata": {
    "id": "n6fqU3Kwh9Is"
   },
   "source": [
    "## Task 2. Data transformation and scaling\n",
    "\n",
    "There are some things to do before model training. Make sure that you make all changes in the new DataFrame named `transformed`.\n",
    "- *(1 point)* Convert the values of snail genera into integers.\n",
    "- *(2 points)* Logistic regression is sensitive to data variance. You need to standardize continuous features. Use a relevant scaler from Scikit-learn.\n",
    "- *(1 point)* Obtain the same result by writing your own scaler function without Scikit-learn, using only math operators.\n",
    "- *(2 points)* Categorical columns should not be standardized. Instead, they should be one-hot encoded. Use relevant function from either Scikit-learn or Pandas.\n",
    "  - Make sure that from each categorical column with N unique values you get N-1 columns with integer values.\n",
    "  - Do not encode snail genera like this.\n",
    "- *(2 points)* Obtain the same result by writing your own one-hot encoding function.\n",
    "\n",
    "Make sure `transformed` has correct column names. Print out 5 random samples from it."
   ]
  },
  {
   "cell_type": "code",
   "execution_count": null,
   "metadata": {
    "id": "4QbanCWW6m1Q"
   },
   "outputs": [],
   "source": [
    "# your code"
   ]
  },
  {
   "cell_type": "code",
   "execution_count": null,
   "metadata": {
    "id": "38BIYl73zM3r"
   },
   "outputs": [],
   "source": [
    "assert raw.shape[1] < transformed.shape[1]\n",
    "assert transformed[to_predict].dtype == int\n",
    "assert 2 in transformed[to_predict]"
   ]
  },
  {
   "cell_type": "markdown",
   "metadata": {
    "id": "OZxk8s3xlwUY"
   },
   "source": [
    "## Task 3.\n",
    "\n",
    "- *(1 point)* Split `transformed` into `X` (features to train the model with) and `y` (feature to be predicted).\n",
    "  - `X` should have 2 dimensions and `y` only one dimension.\n",
    "\n",
    "- *(3 points)* Train a Logistic regression model from Scikit-learn on transformed data to predict `y`.\n",
    "  - For reproducibility, fix the random seed of the model.\n",
    "  - Print out its **accuracy**.\n",
    "\n",
    "- *(2 points)* Obtain model predictions of snail genera and plot a confusion matrix.\n",
    "\n",
    "- *(1 point)* Obtain and print out the **precision** metric for each snail genus. Which snail genus is the easiest to predict?"
   ]
  },
  {
   "cell_type": "code",
   "execution_count": null,
   "metadata": {
    "id": "v5NSE48s0Oox"
   },
   "outputs": [],
   "source": [
    "# your code"
   ]
  },
  {
   "cell_type": "code",
   "execution_count": null,
   "metadata": {
    "id": "pj5QTnc-7Xky"
   },
   "outputs": [],
   "source": [
    "assert X.ndim == 2\n",
    "assert y.ndim == 1"
   ]
  },
  {
   "cell_type": "markdown",
   "metadata": {
    "id": "dogIDDpq0O9m"
   },
   "source": [
    "## Task 4.\n",
    "\n",
    "Someone from the lab theorized that knowing the genus of the plant which the leaf belongs to should help predict the genus of the snail, as certain snails are attracted to certain plants. However, the dataset does not contain plant names, and either way, plant identification requires additional time and skill.\n",
    "\n",
    "Instead, you can use unsupervised learning to cluster plant features and use this information as a new feature.\n",
    "\n",
    "- *(1 point)* Create a separate DataFrame `plants` containing only plant features. **This is the only place in the whole Notebook where it is allowed to write column names as strings instead of obtaining them automatically.**\n",
    "  - Use transformed features for this step.\n",
    "\n",
    "- *(5 points)* Collect new features: generate a dictionary `plant_clusters` with **at least** 20 elements which are Numpy arrays containing differently predicted plant clusters. Use Affinity Propagation, DBSCAN, and **at least** one more clustering method of your choice from [this Scikit-learn page](https://scikit-learn.org/1.5/modules/clustering.html).\n",
    "  - Different clustering methods use different parameters. Run each clustering method several times with different parameters (no need to change every possible parameter, only the main ones). For example, DBSCAN has `eps` and `min_samples` parameters worth trying.\n",
    "  - Use `for` loops; `itertools` can also be useful here.\n",
    "  - Ensure the keys of `plant_clusters` dictionary are informative, i.e. they should tell which clustering method and what parameters were used. Create those keys automatically using string formatting.\n",
    "  - The number of clusters in single clustering can be anywhere from 2 to 50."
   ]
  },
  {
   "cell_type": "code",
   "execution_count": null,
   "metadata": {
    "id": "Y4EovMzw2uSJ"
   },
   "outputs": [],
   "source": [
    "# your code"
   ]
  },
  {
   "cell_type": "code",
   "execution_count": null,
   "metadata": {
    "id": "YVUayp7O9gMM"
   },
   "outputs": [],
   "source": [
    "assert type(plant_clusters) == dict\n",
    "assert len(plant_clusters) >= 20\n",
    "assert len(set([len(x) for x in plant_clusters.values()])) == 1"
   ]
  },
  {
   "cell_type": "markdown",
   "metadata": {
    "id": "FkPk1Sy72uzL"
   },
   "source": [
    "## Task 5.\n",
    "\n",
    "For each plant clustering result from Task 4, check if it improves the accuracy of logistic regression.\n",
    "\n",
    "- *(3 points)* For each feature in `plant_clusters`:\n",
    "  - Create a new variable `XX` containing the `X` from Task 3 but joined with this new feature. If the shape of `X` was (M, N), then the shape of `XX` should be (M, N+1).\n",
    "  - Create and fit a new logistic regression model on `XX` and the same `y` from Task 3.\n",
    "  - Obtain model accuracy.\n",
    "  - Print out the name of the added feature (key from `plant_clusters`) and the accuracy of the resulting predictions.\n",
    "\n",
    "- *(2 points)* Choose the model with highest accuracy and plot a confusion matrix for it.\n",
    "  - The best model should be selected automatically by saving all accuracy values and finding the highest one!\n",
    "\n",
    "- *(1 point)* Print out precision metric again for each snail genus. Which genus is the easiest to predict with the new model? Calculate which genus got the biggest improvement in prediction."
   ]
  },
  {
   "cell_type": "code",
   "execution_count": null,
   "metadata": {
    "id": "4PdFiVvt7ese"
   },
   "outputs": [],
   "source": [
    "# your code"
   ]
  },
  {
   "cell_type": "markdown",
   "metadata": {
    "id": "uIs2_7y5F6MP"
   },
   "source": [
    "## Bonus: Task 6.\n",
    "\n",
    "*(5 points)* By using any models from Scikit-learn, get a model which can predict snail genera with accuracy higher than 90%. For this task, you are free to try anything you want, including new feature generation or creating pipelines of models. The only rules are:\n",
    "- You cannot use any other dataset files except for `hw3_data.csv`.\n",
    "- The result should be reproducible (use fixed seeds for all random states).\n",
    "- The column with snail genera should not be used in any way for model training. So, for example, if you use PCA on dataset, make sure to drop this column beforehand so its information won't be leaked into the result."
   ]
  },
  {
   "cell_type": "code",
   "execution_count": null,
   "metadata": {
    "id": "3nL5j6lxGjHg"
   },
   "outputs": [],
   "source": [
    "# bonus code"
   ]
  }
 ],
 "metadata": {
  "colab": {
   "provenance": []
  },
  "kernelspec": {
   "display_name": "Python 3 (ipykernel)",
   "language": "python",
   "name": "python3"
  },
  "language_info": {
   "codemirror_mode": {
    "name": "ipython",
    "version": 3
   },
   "file_extension": ".py",
   "mimetype": "text/x-python",
   "name": "python",
   "nbconvert_exporter": "python",
   "pygments_lexer": "ipython3",
   "version": "3.12.4"
  }
 },
 "nbformat": 4,
 "nbformat_minor": 4
}
