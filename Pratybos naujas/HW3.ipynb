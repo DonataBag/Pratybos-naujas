{
 "cells": [
  {
   "cell_type": "markdown",
   "metadata": {
    "id": "AmOiwlvgL7LA"
   },
   "source": [
    "Python for Data Analysis, Vilnius University, 2024\n",
    "\n",
    "# HW3: Training a successful ML model\n",
    "\n",
    "There are 30 points to collect, and 5 bonus points.\n",
    "\n",
    "In this homework, you need to write all code from scratch. There are minimal pre-written `assert` statements. Main rules for a successful submission:\n",
    "\n",
    "**1. You can only import libraries from this list (but you won't need all of them):**\n",
    "\n",
    "- Native Python libraries (e.g. itertools, re)\n",
    "- Numpy\n",
    "- Pandas\n",
    "- Matplotlib\n",
    "- Seaborn\n",
    "- Scipy\n",
    "- Scikit-Learn\n",
    "- tqdm\n",
    "\n",
    "**2. Do not leave unused code and ensure the overall structure of the Notebook is clean and readable, as you are given much more freedom this time. Do not repeat same code or create same variables more than 2 times.**\n",
    "\n",
    "**3. Explain your choices (e.g. in comments).** Some code may be self-explanatory, like renaming columns or printing out some statistics. But there are things which should always be explained, such as:\n",
    "- Any hardcoded values such as chosen thresholds or lists of column names;\n",
    "- Removal of columns or samples;\n",
    "- Imported functions which were not mentioned during lectures;\n",
    "- Any additional steps which were not requested in tasks.\n",
    "\n",
    "Don't hesitate to contact me or Martynas if you are stuck."
   ]
  },
  {
   "cell_type": "markdown",
   "metadata": {
    "id": "2pHDq8xPSKGj"
   },
   "source": [
    "## The goal\n",
    "\n",
    "Some researchers who collected data for the Snail Lab complained that measuring a sample takes a lot of time and is quite difficult. Sometimes snails are found on single leaves, not on whole plants, making several measurements impossible to make. Moreover, one should be careful when measuring snail features, because if they hide inside their shell, the researcher is forced to wait until the snail fully appears again.\n",
    "\n",
    "An intern from the Snail Lab suggested that they could use AI to solve this issue. After several discussions, they decided to train a model which would predict the genus of a snail from only easy-to-measure features. The intern prepared some useful data but then got sick. So, the Snail Lab asks for your help once more.\n",
    "\n",
    "You need to train a Logistic regression-based model to predict snail genus. For that, use data available here:\n",
    "\n",
    "https://raw.githubusercontent.com/Tallivm/vu-python/refs/heads/main/hw3_data.csv\n",
    "\n",
    "- Do not use any other datasets (e.g. from previous homeworks)."
   ]
  },
  {
   "cell_type": "code",
   "execution_count": 1,
   "metadata": {
    "id": "b-_h_DfYgZeI"
   },
   "outputs": [],
   "source": [
    "import pandas as pd\n",
    "import numpy as np\n",
    "import seaborn as sns\n",
    "import matplotlib.pyplot as plt\n",
    "# put all your imports into this cell"
   ]
  },
  {
   "cell_type": "markdown",
   "metadata": {
    "id": "USnz7Brlw_Le"
   },
   "source": [
    "This variable contains the name of the column you need to predict. Use it through this Notebook instead of writing the column name itself. Do not rewrite it."
   ]
  },
  {
   "cell_type": "code",
   "execution_count": 2,
   "metadata": {
    "id": "q9FlT1Y7k04h"
   },
   "outputs": [],
   "source": [
    "to_predict = 'snail_genus'"
   ]
  },
  {
   "cell_type": "markdown",
   "metadata": {
    "id": "IWmwz7ACa6nm"
   },
   "source": [
    "## Task 1: EDA (exploratory data analysis)\n",
    "*(3 points in total)*\n",
    "\n",
    "- Write code to load `'hw3_data.csv'` into the variable `raw` as a DataFrame. Make sure to not use global paths (e.g. `\"C://Users/JonasJonas/Desktop/vel_sraiges/hw3_data.csv\"`) or paths which obviously won't work on another computers (e.g. `\"folderiux/hw3_data.csv\"`).\n",
    "\n",
    "The Snail Lab assured you that this time the data should be completely clean. However, you always need to check it for yourself.\n",
    "- Check if there are any NaNs.\n",
    "- Check if mininum, maximum, and average values of numerical columns look OK. For example, if the measurement is about length, it cannot contain negative or zero values.\n",
    "- Print out unique values and their counts in categorical columns.\n",
    "- Plot a correlation matrix for numerical values. Make sure to follow the standard steps to make the plot easy to read (as mentioned in HW2, e.g. use a diverging colormap)."
   ]
  },
  {
   "cell_type": "code",
   "execution_count": 7,
   "metadata": {
    "id": "F8nT5mCQ6P3P"
   },
   "outputs": [
    {
     "name": "stdout",
     "output_type": "stream",
     "text": [
      "Check for NaNs in the dataset: \n",
      "Unnamed: 0         0\n",
      "snail_genus        0\n",
      "leaf_width_mm      0\n",
      "leaf_length_mm     0\n",
      "leaf_surface       0\n",
      "shell_height_mm    0\n",
      "shell_color        0\n",
      "shell_radius_mm    0\n",
      "dtype: int64\n",
      "Statistics for numerical columns:\n",
      "        Unnamed: 0  leaf_width_mm  leaf_length_mm  shell_height_mm  \\\n",
      "count  2606.000000    2606.000000     2606.000000      2606.000000   \n",
      "mean   1302.500000      46.637759       62.246738         6.439371   \n",
      "std     752.431724      21.311582       35.296715         2.201197   \n",
      "min       0.000000       1.000000        2.000000         1.000000   \n",
      "25%     651.250000      27.000000       28.000000         5.000000   \n",
      "50%    1302.500000      47.000000       63.000000         6.000000   \n",
      "75%    1953.750000      68.000000      100.000000         8.000000   \n",
      "max    2605.000000      83.000000      133.000000        12.000000   \n",
      "\n",
      "       shell_radius_mm  \n",
      "count      2606.000000  \n",
      "mean          6.527629  \n",
      "std           2.282497  \n",
      "min           0.000000  \n",
      "25%           5.000000  \n",
      "50%           7.000000  \n",
      "75%           8.000000  \n",
      "max          13.000000  \n",
      "Check for unrealistic values in numerical columns:\n",
      "Warning: Column 'Unnamed: 0' contains non-positive values (min: 0)\n",
      "Warning: Column 'shell_radius_mm' contains non-positive values (min: 0.0)\n",
      "\n",
      "Unique values in categorical columns:\n",
      "\n",
      "Column 'snail_genus':\n",
      "snail_genus\n",
      "Flexorus       440\n",
      "Caracolus      415\n",
      "Slimospira     403\n",
      "Mollisphora    391\n",
      "Lunaspira      382\n",
      "Helixoda       300\n",
      "Spiralina      275\n",
      "Name: count, dtype: int64\n",
      "\n",
      "Column 'leaf_surface':\n",
      "leaf_surface\n",
      "waxy      968\n",
      "smooth    845\n",
      "hairy     793\n",
      "Name: count, dtype: int64\n",
      "\n",
      "Column 'shell_color':\n",
      "shell_color\n",
      "dark       1085\n",
      "yellow      936\n",
      "striped     451\n",
      "white        74\n",
      "brown        60\n",
      "Name: count, dtype: int64\n"
     ]
    },
    {
     "data": {
      "image/png": "[encoded data removed]",
      "text/plain": [
       "<Figure size 1000x800 with 2 Axes>"
      ]
     },
     "metadata": {},
     "output_type": "display_data"
    }
   ],
   "source": [
    "# your code\n",
    "raw = pd.read_csv('hw3_data.csv')\n",
    "\n",
    "print(f\"\"\"Check for NaNs in the dataset: \n",
    "{raw.isna().sum()}\"\"\")\n",
    "\n",
    "print(f\"\"\"Statistics for numerical columns:\n",
    "{raw.describe()}\"\"\")\n",
    "\n",
    "print(\"Check for unrealistic values in numerical columns:\")\n",
    "numerical_columns = raw.select_dtypes(include=[np.number]).columns\n",
    "for col in numerical_columns:\n",
    "    min_value = raw[col].min()\n",
    "    max_value = raw[col].max()\n",
    "    if min_value <= 0:\n",
    "        print(f\"Warning: Column '{col}' contains non-positive values (min: {min_value})\")\n",
    "    if max_value < 0:\n",
    "        print(f\"Warning: Column '{col}' contains negative values (max: {max_value})\")\n",
    "print(\"\\nUnique values in categorical columns:\")\n",
    "categorical_columns = raw.select_dtypes(include=['object']).columns\n",
    "for col in categorical_columns:\n",
    "    print(f\"\\nColumn '{col}':\")\n",
    "    print(raw[col].value_counts())\n",
    "\n",
    "plt.figure(figsize=(10, 8))\n",
    "correlation_matrix = raw[numerical_columns].corr()\n",
    "sns.heatmap(correlation_matrix, annot=True, cmap='coolwarm', fmt='.2f', linewidths=0.5)\n",
    "plt.title('Correlation Matrix of Numerical Columns')\n",
    "plt.show()\n"
   ]
  },
  {
   "cell_type": "code",
   "execution_count": 8,
   "metadata": {
    "id": "DtTJZkdR6c-R"
   },
   "outputs": [],
   "source": [
    "assert type(raw) == pd.DataFrame\n",
    "assert to_predict in raw"
   ]
  },
  {
   "cell_type": "markdown",
   "metadata": {
    "id": "n6fqU3Kwh9Is"
   },
   "source": [
    "## Task 2. Data transformation and scaling\n",
    "\n",
    "There are some things to do before model training. Make sure that you make all changes in the new DataFrame named `transformed`.\n",
    "- *(1 point)* Convert the values of snail genera into integers.\n",
    "- *(2 points)* Logistic regression is sensitive to data variance. You need to standardize continuous features. Use a relevant scaler from Scikit-learn.\n",
    "- *(1 point)* Obtain the same result by writing your own scaler function without Scikit-learn, using only math operators.\n",
    "- *(2 points)* Categorical columns should not be standardized. Instead, they should be one-hot encoded. Use relevant function from either Scikit-learn or Pandas.\n",
    "  - Make sure that from each categorical column with N unique values you get N-1 columns with integer values.\n",
    "  - Do not encode snail genera like this.\n",
    "- *(2 points)* Obtain the same result by writing your own one-hot encoding function.\n",
    "\n",
    "Make sure `transformed` has correct column names. Print out 5 random samples from it."
   ]
  },
  {
   "cell_type": "code",
   "execution_count": null,
   "metadata": {
    "id": "4QbanCWW6m1Q"
   },
   "outputs": [],
   "source": [
    "# your code"
   ]
  },
  {
   "cell_type": "code",
   "execution_count": null,
   "metadata": {
    "id": "38BIYl73zM3r"
   },
   "outputs": [],
   "source": [
    "assert raw.shape[1] < transformed.shape[1]\n",
    "assert transformed[to_predict].dtype == int\n",
    "assert 2 in transformed[to_predict]"
   ]
  },
  {
   "cell_type": "markdown",
   "metadata": {
    "id": "OZxk8s3xlwUY"
   },
   "source": [
    "## Task 3.\n",
    "\n",
    "- *(1 point)* Split `transformed` into `X` (features to train the model with) and `y` (feature to be predicted).\n",
    "  - `X` should have 2 dimensions and `y` only one dimension.\n",
    "\n",
    "- *(3 points)* Train a Logistic regression model from Scikit-learn on transformed data to predict `y`.\n",
    "  - For reproducibility, fix the random seed of the model.\n",
    "  - Print out its **accuracy**.\n",
    "\n",
    "- *(2 points)* Obtain model predictions of snail genera and plot a confusion matrix.\n",
    "\n",
    "- *(1 point)* Obtain and print out the **precision** metric for each snail genus. Which snail genus is the easiest to predict?"
   ]
  },
  {
   "cell_type": "code",
   "execution_count": null,
   "metadata": {
    "id": "v5NSE48s0Oox"
   },
   "outputs": [],
   "source": [
    "# your code"
   ]
  },
  {
   "cell_type": "code",
   "execution_count": null,
   "metadata": {
    "id": "pj5QTnc-7Xky"
   },
   "outputs": [],
   "source": [
    "assert X.ndim == 2\n",
    "assert y.ndim == 1"
   ]
  },
  {
   "cell_type": "markdown",
   "metadata": {
    "id": "dogIDDpq0O9m"
   },
   "source": [
    "## Task 4.\n",
    "\n",
    "Someone from the lab theorized that knowing the genus of the plant which the leaf belongs to should help predict the genus of the snail, as certain snails are attracted to certain plants. However, the dataset does not contain plant names, and either way, plant identification requires additional time and skill.\n",
    "\n",
    "Instead, you can use unsupervised learning to cluster plant features and use this information as a new feature.\n",
    "\n",
    "- *(1 point)* Create a separate DataFrame `plants` containing only plant features. **This is the only place in the whole Notebook where it is allowed to write column names as strings instead of obtaining them automatically.**\n",
    "  - Use transformed features for this step.\n",
    "\n",
    "- *(5 points)* Collect new features: generate a dictionary `plant_clusters` with **at least** 20 elements which are Numpy arrays containing differently predicted plant clusters. Use Affinity Propagation, DBSCAN, and **at least** one more clustering method of your choice from [this Scikit-learn page](https://scikit-learn.org/1.5/modules/clustering.html).\n",
    "  - Different clustering methods use different parameters. Run each clustering method several times with different parameters (no need to change every possible parameter, only the main ones). For example, DBSCAN has `eps` and `min_samples` parameters worth trying.\n",
    "  - Use `for` loops; `itertools` can also be useful here.\n",
    "  - Ensure the keys of `plant_clusters` dictionary are informative, i.e. they should tell which clustering method and what parameters were used. Create those keys automatically using string formatting.\n",
    "  - The number of clusters in single clustering can be anywhere from 2 to 50."
   ]
  },
  {
   "cell_type": "code",
   "execution_count": null,
   "metadata": {
    "id": "Y4EovMzw2uSJ"
   },
   "outputs": [],
   "source": [
    "# your code"
   ]
  },
  {
   "cell_type": "code",
   "execution_count": null,
   "metadata": {
    "id": "YVUayp7O9gMM"
   },
   "outputs": [],
   "source": [
    "assert type(plant_clusters) == dict\n",
    "assert len(plant_clusters) >= 20\n",
    "assert len(set([len(x) for x in plant_clusters.values()])) == 1"
   ]
  },
  {
   "cell_type": "markdown",
   "metadata": {
    "id": "FkPk1Sy72uzL"
   },
   "source": [
    "## Task 5.\n",
    "\n",
    "For each plant clustering result from Task 4, check if it improves the accuracy of logistic regression.\n",
    "\n",
    "- *(3 points)* For each feature in `plant_clusters`:\n",
    "  - Create a new variable `XX` containing the `X` from Task 3 but joined with this new feature. If the shape of `X` was (M, N), then the shape of `XX` should be (M, N+1).\n",
    "  - Create and fit a new logistic regression model on `XX` and the same `y` from Task 3.\n",
    "  - Obtain model accuracy.\n",
    "  - Print out the name of the added feature (key from `plant_clusters`) and the accuracy of the resulting predictions.\n",
    "\n",
    "- *(2 points)* Choose the model with highest accuracy and plot a confusion matrix for it.\n",
    "  - The best model should be selected automatically by saving all accuracy values and finding the highest one!\n",
    "\n",
    "- *(1 point)* Print out precision metric again for each snail genus. Which genus is the easiest to predict with the new model? Calculate which genus got the biggest improvement in prediction."
   ]
  },
  {
   "cell_type": "code",
   "execution_count": null,
   "metadata": {
    "id": "4PdFiVvt7ese"
   },
   "outputs": [],
   "source": [
    "# your code"
   ]
  },
  {
   "cell_type": "markdown",
   "metadata": {
    "id": "uIs2_7y5F6MP"
   },
   "source": [
    "## Bonus: Task 6.\n",
    "\n",
    "*(5 points)* By using any models from Scikit-learn, get a model which can predict snail genera with accuracy higher than 90%. For this task, you are free to try anything you want, including new feature generation or creating pipelines of models. The only rules are:\n",
    "- You cannot use any other dataset files except for `hw3_data.csv`.\n",
    "- The result should be reproducible (use fixed seeds for all random states).\n",
    "- The column with snail genera should not be used in any way for model training. So, for example, if you use PCA on dataset, make sure to drop this column beforehand so its information won't be leaked into the result."
   ]
  },
  {
   "cell_type": "code",
   "execution_count": null,
   "metadata": {
    "id": "3nL5j6lxGjHg"
   },
   "outputs": [],
   "source": [
    "# bonus code"
   ]
  }
 ],
 "metadata": {
  "colab": {
   "provenance": []
  },
  "kernelspec": {
   "display_name": "Python 3 (ipykernel)",
   "language": "python",
   "name": "python3"
  },
  "language_info": {
   "codemirror_mode": {
    "name": "ipython",
    "version": 3
   },
   "file_extension": ".py",
   "mimetype": "text/x-python",
   "name": "python",
   "nbconvert_exporter": "python",
   "pygments_lexer": "ipython3",
   "version": "3.12.4"
  }
 },
 "nbformat": 4,
 "nbformat_minor": 4
}
