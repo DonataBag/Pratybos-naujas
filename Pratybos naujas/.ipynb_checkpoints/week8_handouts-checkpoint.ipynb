{
 "cells": [
  {
   "cell_type": "markdown",
   "metadata": {
    "id": "8LPqdZaJ3BxS"
   },
   "source": [
    "# Week 8: working with Scikit-Learn\n",
    "\n",
    "In this Notebook, you will create simple linear regression models to predict temperature out of other weather features."
   ]
  },
  {
   "cell_type": "code",
   "execution_count": null,
   "metadata": {
    "id": "MnC-hjk_2hdq"
   },
   "outputs": [],
   "source": [
    "import os\n",
    "import numpy as np\n",
    "import pandas as pd\n",
    "from matplotlib import pyplot as plt"
   ]
  },
  {
   "cell_type": "markdown",
   "metadata": {
    "id": "kol3elRn3-d5"
   },
   "source": [
    "Download data from Kaggle:"
   ]
  },
  {
   "cell_type": "code",
   "execution_count": null,
   "metadata": {
    "id": "cwN9wz9n32UT"
   },
   "outputs": [],
   "source": [
    "import kagglehub\n",
    "\n",
    "data_path = kagglehub.dataset_download(\"budincsevity/szeged-weather\")\n",
    "print(\"Path to dataset file:\", data_path)\n",
    "\n",
    "data_files = os.listdir(data_path)\n",
    "print('Downloaded files:', data_files)"
   ]
  },
  {
   "cell_type": "markdown",
   "metadata": {
    "id": "7kM_g6aF4LYb"
   },
   "source": [
    "## 1. Loading and exploring data\n",
    "\n",
    "Using Pandas, explore the dataset:\n",
    "1. How many samples and features does it have?\n",
    "2. What data types do columns have?\n",
    "3. Does it have empty values? How many? Check for both numbers and empty strings."
   ]
  },
  {
   "cell_type": "code",
   "execution_count": null,
   "metadata": {
    "id": "56BMWH3R4JUZ"
   },
   "outputs": [],
   "source": []
  },
  {
   "cell_type": "markdown",
   "metadata": {
    "id": "LYDUW_7LMe3y"
   },
   "source": [
    "Look into the pressure column values by plotting a histogram. Does it look strange? Get all unique values of this column and sort them from smallest to largest. Is there a value which should not be present in such data?"
   ]
  },
  {
   "cell_type": "code",
   "execution_count": null,
   "metadata": {
    "id": "TGgy3-0rMmv-"
   },
   "outputs": [],
   "source": []
  },
  {
   "cell_type": "markdown",
   "metadata": {
    "id": "nIJY9RkyNCP7"
   },
   "source": [
    "Remove all rows which have NaNs, empty strings, or weird pressure values. Leave only numerical columns. Save result into new DataFrame `df`. What percentage of data was dropped?"
   ]
  },
  {
   "cell_type": "code",
   "execution_count": null,
   "metadata": {
    "id": "ppq6G4d0NJos"
   },
   "outputs": [],
   "source": []
  },
  {
   "cell_type": "markdown",
   "metadata": {
    "id": "yBKr2dTsGkol"
   },
   "source": [
    "## Feature selection\n",
    "\n",
    "Our features have different units and magnitudes:"
   ]
  },
  {
   "cell_type": "code",
   "execution_count": null,
   "metadata": {
    "id": "NMIcGIzlGpYm"
   },
   "outputs": [],
   "source": [
    "df.describe()"
   ]
  },
  {
   "cell_type": "markdown",
   "metadata": {
    "id": "Cn2NJoSIGuwJ"
   },
   "source": [
    "We can fully remove the \"Loud cover\" feature, as it only contains zeros.\n",
    "\n",
    "Another thing we need to do is data standartization.\n",
    "\n",
    "1. Apply [StandardScaler](https://scikit-learn.org/dev/modules/generated/sklearn.preprocessing.StandardScaler.html) on data.\n",
    "\n",
    "2. The result will be a Numpy array. Convert it back into DataFrame with correct column names."
   ]
  },
  {
   "cell_type": "code",
   "execution_count": null,
   "metadata": {
    "id": "20ijmYJEG6_8"
   },
   "outputs": [],
   "source": [
    "from sklearn.preprocessing import StandardScaler\n",
    "\n"
   ]
  },
  {
   "cell_type": "markdown",
   "metadata": {
    "id": "IkcM0eB7P6FR"
   },
   "source": [
    "We are interested in whether we can predict apparent temperature from other features. We will try to predict it:\n",
    "- From one feature;\n",
    "- From three features;\n",
    "- From two features obtained with PCA.\n",
    "\n",
    "From feature names it may be quite obvious that \"Temperature (C)\" may be the best predictor in this dataset. :)\n",
    "\n",
    "1. Save values of apparent temperature from the scaled data into a new variable `y` which should be a Numpy array.\n",
    "2. Choose any feature to use as a predictor. Save its values into variable `X` which should be a Numpy array. Make sure it has 2 dimensions, with second one having size 1.\n",
    "3. Choose three features instead of one, and save result as `X3`. The second dimension should have size 3."
   ]
  },
  {
   "cell_type": "code",
   "execution_count": null,
   "metadata": {
    "id": "-WPFLfirP4Vm"
   },
   "outputs": [],
   "source": [
    "from sklearn.preprocessing import StandardScaler\n",
    "\n"
   ]
  },
  {
   "cell_type": "markdown",
   "metadata": {
    "id": "sHckzA438oj0"
   },
   "source": [
    "### Running PCA\n",
    "\n",
    "Let's create two new features out of all features we have by applying PCA.\n",
    "\n",
    "1. Create a new Numpy array `X_init` containing only numerical columns **without apparent temperature**.\n",
    "2. Create a PCA object (`PCA()`) with 2 components to output.\n",
    "3. Fit it on `X_init` and apply transformation. Save the result into `X_PCA`.\n",
    "4. Plot a scatterplot of transformed values. Use smaller size of points and make them half-transparent."
   ]
  },
  {
   "cell_type": "code",
   "execution_count": null,
   "metadata": {
    "id": "yKA4MWDi4bQO"
   },
   "outputs": [],
   "source": [
    "from sklearn.decomposition import PCA\n",
    "\n"
   ]
  },
  {
   "cell_type": "markdown",
   "metadata": {
    "id": "Si7OR7nhLV6f"
   },
   "source": [
    "Use `seaborn.pairplot` to see the relationship between all columns in `X_init`. Are these two components similar to any pair of initial features? (this plot may take longer time to finish)"
   ]
  },
  {
   "cell_type": "code",
   "execution_count": null,
   "metadata": {
    "id": "aDC8n13G57P3"
   },
   "outputs": [],
   "source": [
    "import seaborn as sns\n",
    "sns.pairplot(X_init)"
   ]
  },
  {
   "cell_type": "markdown",
   "metadata": {
    "id": "QZdRv_xGOKGq"
   },
   "source": [
    "## Fitting models\n",
    "\n",
    "Using three different sets of predictor features (`X`, `X3`, and `X_PCA`), fit a [linear regression model](https://scikit-learn.org/stable/modules/generated/sklearn.linear_model.LinearRegression.html#sklearn.linear_model.LinearRegression) for apparent temperature. Print out model's score (it will be R^2). Which one performed the best? Which feature is most imformative? What could we use to detect that before choosing the best predictor?"
   ]
  },
  {
   "cell_type": "code",
   "execution_count": null,
   "metadata": {
    "id": "DkXwx2AuMDrw"
   },
   "outputs": [],
   "source": [
    "from sklearn.linear_model import LinearRegression\n"
   ]
  }
 ],
 "metadata": {
  "colab": {
   "provenance": []
  },
  "kernelspec": {
   "display_name": "Python 3 (ipykernel)",
   "language": "python",
   "name": "python3"
  },
  "language_info": {
   "codemirror_mode": {
    "name": "ipython",
    "version": 3
   },
   "file_extension": ".py",
   "mimetype": "text/x-python",
   "name": "python",
   "nbconvert_exporter": "python",
   "pygments_lexer": "ipython3",
   "version": "3.12.4"
  }
 },
 "nbformat": 4,
 "nbformat_minor": 4
}
