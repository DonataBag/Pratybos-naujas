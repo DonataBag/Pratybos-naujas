{
 "cells": [
  {
   "cell_type": "code",
   "execution_count": 9,
   "id": "4e8624ec-b16f-4f1b-af99-148ba0f8af7c",
   "metadata": {},
   "outputs": [
    {
     "name": "stdout",
     "output_type": "stream",
     "text": [
      "Welcome to the Serial Number Transformer!\n",
      "Enter your serial number to transform it based on predefined rules.\n"
     ]
    },
    {
     "name": "stdin",
     "output_type": "stream",
     "text": [
      "Enter serial number (or type 'exit' to quit):  TP8UN3K\n"
     ]
    },
    {
     "name": "stdout",
     "output_type": "stream",
     "text": [
      "Transformed Serial Number: TP8UN5\n"
     ]
    },
    {
     "name": "stdin",
     "output_type": "stream",
     "text": [
      "Enter serial number (or type 'exit' to quit):  exit\n"
     ]
    },
    {
     "name": "stdout",
     "output_type": "stream",
     "text": [
      "Goodbye!\n"
     ]
    }
   ],
   "source": [
    "def model_number(code: str, new_rules: dict = None) -> str:\n",
    "    extraterrestrial_rules = {\"TP\": \"TP\", \"TPP\": \"T+\", \"V\": \"V1\", \"U\": \"U\", \"8\": \"8\", \"N3K\":\"N5\"}\n",
    "    rules = new_rules if new_rules is not None else extraterrestrial_rules\n",
    "\n",
    "    code = code.upper()\n",
    "    result = \"\"\n",
    "    i = 0\n",
    "\n",
    "    while i < len(code):\n",
    "        match_found = False\n",
    "        for key in sorted(rules.keys(), key=len, reverse=True):  # Sort keys by length (longest first)\n",
    "            if code[i:i+len(key)] == key:  # Check if the substring matches the key\n",
    "                result += rules[key]\n",
    "                i += len(key)  # Move the index forward by the length of the matched key\n",
    "                match_found = True\n",
    "                break\n",
    "        if not match_found:  # If no match is found, the code contains invalid parts\n",
    "            return None\n",
    "\n",
    "    return result\n",
    "\n",
    "# Interactive mode\n",
    "if __name__ == \"__main__\":\n",
    "    print(\"Welcome to the Serial Number Transformer!\")\n",
    "    print(\"Enter your serial number to transform it based on predefined rules.\")\n",
    "    while True:\n",
    "        user_input = input(\"Enter serial number (or type 'exit' to quit): \").strip()\n",
    "        if user_input.lower() == \"exit\":\n",
    "            print(\"Goodbye!\")\n",
    "            break\n",
    "        transformed = model_number(user_input)\n",
    "        if transformed is None:\n",
    "            print(\"Invalid serial number. Please try again.\")\n",
    "        else:\n",
    "            print(f\"Transformed Serial Number: {transformed}\")\n"
   ]
  },
  {
   "cell_type": "code",
   "execution_count": 12,
   "id": "90a00e25-6e1d-499e-9a81-7e4555bdb169",
   "metadata": {},
   "outputs": [
    {
     "name": "stdout",
     "output_type": "stream",
     "text": [
      "Welcome to the Serial Number Transformer!\n",
      "Choose an option:\n",
      "1. Transform a single serial number\n",
      "2. Process a file of serial numbers\n"
     ]
    },
    {
     "name": "stdin",
     "output_type": "stream",
     "text": [
      "Enter your choice (1 or 2):  2\n",
      "Enter the path to the file:  C:\\Users\\donat\\Pratybos naujas\\CODS.txt\n",
      "Enter the output file path (or leave blank to display results):  \n"
     ]
    },
    {
     "name": "stdout",
     "output_type": "stream",
     "text": [
      "TP8UV1\n",
      "T+8UV1N5\n",
      "TP8UN5\n"
     ]
    }
   ],
   "source": [
    "## def model_number(code: str, new_rules: dict = None) -> str:\n",
    "    extraterrestrial_rules = {\"TP\": \"TP\", \"TPP\": \"T+\", \"V\": \"V1\", \"U\": \"U\", \"8\": \"8\", \"N3K\": \"N5\"}\n",
    "    rules = new_rules if new_rules is not None else extraterrestrial_rules\n",
    "\n",
    "    code = code.upper()\n",
    "    result = \"\"\n",
    "    i = 0\n",
    "\n",
    "    while i < len(code):\n",
    "        match_found = False\n",
    "        for key in sorted(rules.keys(), key=len, reverse=True):  # Sort keys by length (longest first)\n",
    "            if code[i:i+len(key)] == key:  # Check if the substring matches the key\n",
    "                result += rules[key]\n",
    "                i += len(key)  # Move the index forward by the length of the matched key\n",
    "                match_found = True\n",
    "                break\n",
    "        if not match_found:  # If no match is found, the code contains invalid parts\n",
    "            return None\n",
    "\n",
    "    return result\n",
    "\n",
    "def process_file(file_path: str, output_path: str = None, new_rules: dict = None):\n",
    "    try:\n",
    "        with open(file_path, \"r\") as file:\n",
    "            serial_numbers = file.readlines()\n",
    "\n",
    "        results = []\n",
    "        for line in serial_numbers:\n",
    "            serial_number = line.strip()  # Remove any leading/trailing whitespace or newline\n",
    "            transformed = model_number(serial_number, new_rules)\n",
    "            if transformed is not None:  # Ignore invalid serial numbers\n",
    "                results.append(transformed)\n",
    "\n",
    "        # If output_path is provided, write the results to a new file\n",
    "        if output_path:\n",
    "            with open(output_path, \"w\") as output_file:\n",
    "                output_file.write(\"\\n\".join(results))\n",
    "            print(f\"Results have been written to {output_path}.\")\n",
    "        else:\n",
    "            # Otherwise, just print the results\n",
    "            for result in results:\n",
    "                print(result)\n",
    "\n",
    "    except FileNotFoundError:\n",
    "        print(f\"File not found: {file_path}\")\n",
    "    except Exception as e:\n",
    "        print(f\"An error occurred: {e}\")\n",
    "\n",
    "if __name__ == \"__main__\":\n",
    "    print(\"Welcome to the Serial Number Transformer!\")\n",
    "    print(\"Choose an option:\")\n",
    "    print(\"1. Transform a single serial number\")\n",
    "    print(\"2. Process a file of serial numbers\")\n",
    "    choice = input(\"Enter your choice (1 or 2): \").strip()\n",
    "\n",
    "    if choice == \"1\":\n",
    "        user_input = input(\"Enter serial number: \").strip()\n",
    "        transformed = model_number(user_input)\n",
    "        if transformed is None:\n",
    "            print(\"Invalid serial number.\")\n",
    "        else:\n",
    "            print(transformed)  # Only print the transformed serial number\n",
    "\n",
    "    elif choice == \"2\":\n",
    "        file_path = input(\"Enter the path to the file: \").strip()\n",
    "        output_path = input(\"Enter the output file path (or leave blank to display results): \").strip()\n",
    "        output_path = output_path if output_path else None\n",
    "        process_file(file_path, output_path)\n",
    "\n",
    "    else:\n",
    "        print(\"Invalid choice. Exiting.\")\n"
   ]
  }
 ],
 "metadata": {
  "kernelspec": {
   "display_name": "Python 3 (ipykernel)",
   "language": "python",
   "name": "python3"
  },
  "language_info": {
   "codemirror_mode": {
    "name": "ipython",
    "version": 3
   },
   "file_extension": ".py",
   "mimetype": "text/x-python",
   "name": "python",
   "nbconvert_exporter": "python",
   "pygments_lexer": "ipython3",
   "version": "3.12.4"
  }
 },
 "nbformat": 4,
 "nbformat_minor": 5
}
