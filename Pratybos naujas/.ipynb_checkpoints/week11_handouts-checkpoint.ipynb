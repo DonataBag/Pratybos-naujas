{
 "cells": [
  {
   "cell_type": "markdown",
   "metadata": {
    "id": "wc1geN8oCkra"
   },
   "source": [
    "# Week 11\n",
    "\n",
    "After last week's Code Café, we'll try to ease back into more complicated topics. This practical covers **string formatting, itertools, iterators, generators and classes**."
   ]
  },
  {
   "cell_type": "markdown",
   "metadata": {
    "id": "C1W-L3LgM3ea"
   },
   "source": [
    "## String formatting\n",
    "\n",
    "As you have probably noticed, there are several ways to print, assign and combine strings. The most simple option is to convert anything that is not a string to a string and use the `+` operator:"
   ]
  },
  {
   "cell_type": "code",
   "execution_count": 4,
   "metadata": {
    "colab": {
     "base_uri": "https://localhost:8080/"
    },
    "id": "JcsPwix2M2YP",
    "outputId": "2cd109fd-6fbc-46f6-94b3-fb08e146422a"
   },
   "outputs": [
    {
     "name": "stdout",
     "output_type": "stream",
     "text": [
      "Partial text with a number: 1\n"
     ]
    }
   ],
   "source": [
    "num = 1\n",
    "first_string = 'Partial text'\n",
    "string_to_add = 'with a number:'\n",
    "print(first_string + ' ' + string_to_add + ' ' + str(num))"
   ]
  },
  {
   "cell_type": "markdown",
   "metadata": {
    "id": "QElxnpj52dEW"
   },
   "source": [
    "As the `print()` function automatically puts spaces between given values, we can aldo do it like this:"
   ]
  },
  {
   "cell_type": "code",
   "execution_count": 5,
   "metadata": {
    "colab": {
     "base_uri": "https://localhost:8080/"
    },
    "id": "fv5u-wr42eo4",
    "outputId": "faedad24-0ce8-493a-a921-1713f4398550"
   },
   "outputs": [
    {
     "name": "stdout",
     "output_type": "stream",
     "text": [
      "Partial text with a number: 1\n"
     ]
    }
   ],
   "source": [
    "print(first_string, string_to_add, num)"
   ]
  },
  {
   "cell_type": "markdown",
   "metadata": {
    "id": "coodhzgEN_U7"
   },
   "source": [
    "However, it is not always the cleanest or easiest way to print things, especially if you have many variables to write somewhere (like whole reports or tables) and you cannot use `print()`. The most recent (*and probably convenient*) is the [f-string](https://docs.python.org/3/tutorial/inputoutput.html) method. Here, the `f` letter is written before parentheses, and any other elements are automatically inserted using `{}` brackets. Let's look at our example again:"
   ]
  },
  {
   "cell_type": "code",
   "execution_count": 7,
   "metadata": {
    "colab": {
     "base_uri": "https://localhost:8080/"
    },
    "id": "fF8pXC_oO7si",
    "outputId": "980e4795-adde-4db7-a2ac-fddfb3cb96c5"
   },
   "outputs": [
    {
     "name": "stdout",
     "output_type": "stream",
     "text": [
      "Partial text with a number: 1\n"
     ]
    }
   ],
   "source": [
    "print(f'{first_string} {string_to_add} {num}')"
   ]
  },
  {
   "cell_type": "code",
   "execution_count": 4,
   "metadata": {},
   "outputs": [
    {
     "name": "stdout",
     "output_type": "stream",
     "text": [
      "skaicius yra     0, number plus one is       1\n",
      "skaicius yra     1, number plus one is       2\n",
      "skaicius yra     2, number plus one is       3\n",
      "skaicius yra     3, number plus one is       4\n",
      "skaicius yra     4, number plus one is       5\n"
     ]
    },
    {
     "data": {
      "text/plain": [
       "'skaicius yra 4.00, number plus one is 5.00'"
      ]
     },
     "execution_count": 4,
     "metadata": {},
     "output_type": "execute_result"
    }
   ],
   "source": [
    "var = 62\n",
    "f'skaicius yra {var}'\n",
    "for var in range(5):    \n",
    "    print(f'skaicius yra {var:5}, number plus one is {var+1:7}')\n",
    "\n",
    "f'skaicius yra {var:.2f}, number plus one is {(var+1):.2f}'"
   ]
  },
  {
   "cell_type": "code",
   "execution_count": 6,
   "metadata": {},
   "outputs": [
    {
     "name": "stdout",
     "output_type": "stream",
     "text": [
      "The value of var =4\n",
      "some text in uppercase is SOME TEXT\n"
     ]
    }
   ],
   "source": [
    "print(f'The value of {var =}')\n",
    "text = \"some text\"\n",
    "print(f'{text} in uppercase is {text.upper()}')"
   ]
  },
  {
   "cell_type": "code",
   "execution_count": 8,
   "metadata": {},
   "outputs": [
    {
     "name": "stdout",
     "output_type": "stream",
     "text": [
      "first line\n",
      "second line\n",
      "third line\n"
     ]
    }
   ],
   "source": [
    "print(f\"\"\"first line\n",
    "second line\n",
    "third line\"\"\") \n",
    "# we always use three \" in the end aand start\n"
   ]
  },
  {
   "cell_type": "markdown",
   "metadata": {
    "id": "Pr3R1Ya9Pe4s"
   },
   "source": [
    "That's better!\n",
    "\n",
    "However, f-strings offer even more capabilities - they can be used with additional keywords which are added after the `:` symbol:\n",
    "- Value padding: all values will take at least that much space, useful in tables. For example, `f'numbers: {num:5} = {num_word:5}'`\n",
    "- Value rounding for floats. For example, `f'the value rounded to 2 digits after the point is {float_val:.2f}'`\n",
    "- Printing both the variable name and value: `f'The name-value pair is {var=}'`. This is mostly useful for debugging.\n",
    "- You can also include if-else expressions: `f'the answer is {'yes' if num == 1 else 'no'}'`\n",
    "- Or include other calculations (but always test it before blindly using, as some functions may not work!): `f'Lowercased: {text.lower()}; uppercased: {text.upper()}'`\n",
    "- Finally, multi-line strings are supported using tripple parentheses:\n",
    "```python3\n",
    "f'''First line\n",
    "Line 2\n",
    "Another line\n",
    "...'''\n",
    "```"
   ]
  },
  {
   "cell_type": "markdown",
   "metadata": {
    "id": "owUdzWB-Qhgy"
   },
   "source": [
    "### Exercises\n",
    "1. Print all names and numbers of days of the week with a separator inbetween and padded values, so all separators line up. It should look something like:\n",
    "```cmd\n",
    "Monday    1\n",
    "Tuesday   2\n",
    "Wednesday 3\n",
    "...\n",
    "```\n",
    "2. Write a function that prints a list of random floats in a given range with a precision of 3 characters after the point. The number of floats, range start and range end is given as a parameter. Use a list comprehension and the `random` in-built package to get the list of random numbers.\n",
    "3. Generate and print a sales report for one product, using a single f-string. All (if any) calculations have to take place in the f-string itself.\n",
    "The report has to look like this:\n",
    "\n",
    "```cmd\n",
    "Product Report for WIRELESS HEADPHONES\n",
    "--------------------------------------\n",
    "Total Sales (before discount): $467,735.57\n",
    "Total Sales (after 10% discount): $420,961.99\n",
    "Profit: $217,515.24\n",
    "\n",
    "Details:\n",
    " - Units Sold: 5,843\n",
    " - Unit Cost: $35.75\n",
    " - Total Cost: $208,152.25`\n",
    "```\n",
    "\n",
    "Variables to use:\n",
    "```python\n",
    "product_name = \"Wireless Headphones\"\n",
    "units_sold = 5843\n",
    "unit_price = 79.99\n",
    "discount = 0.1  # 10% discount\n",
    "cost_per_unit = 35.75\n",
    "```\n",
    "\n",
    "The total sales amount is `units_sold * unit_price`, the profit is discounted sales minus total cost, with a conditional to show `\"Profit\"` if positive or `\"Loss\"` if negative."
   ]
  },
  {
   "cell_type": "code",
   "execution_count": 35,
   "metadata": {
    "id": "GSfz1uAdBypm"
   },
   "outputs": [
    {
     "ename": "TypeError",
     "evalue": "unsupported format string passed to list.__format__",
     "output_type": "error",
     "traceback": [
      "\u001b[1;31m---------------------------------------------------------------------------\u001b[0m",
      "\u001b[1;31mTypeError\u001b[0m                                 Traceback (most recent call last)",
      "Cell \u001b[1;32mIn[35], line 3\u001b[0m\n\u001b[0;32m      1\u001b[0m days \u001b[38;5;241m=\u001b[39m [\u001b[38;5;124m'\u001b[39m\u001b[38;5;124mmon\u001b[39m\u001b[38;5;124m'\u001b[39m, \u001b[38;5;124m'\u001b[39m\u001b[38;5;124mthu\u001b[39m\u001b[38;5;124m'\u001b[39m,\u001b[38;5;124m'\u001b[39m\u001b[38;5;124mwed\u001b[39m\u001b[38;5;124m'\u001b[39m]\n\u001b[0;32m      2\u001b[0m \u001b[38;5;28;01mfor\u001b[39;00m i, day \u001b[38;5;129;01min\u001b[39;00m \u001b[38;5;28menumerate\u001b[39m(days):\n\u001b[1;32m----> 3\u001b[0m     \u001b[38;5;28mprint\u001b[39m(\u001b[38;5;124mf\u001b[39m\u001b[38;5;124m\"\u001b[39m\u001b[38;5;124mThe \u001b[39m\u001b[38;5;132;01m{\u001b[39;00mdays\u001b[38;5;132;01m:\u001b[39;00m\u001b[38;5;124m9\u001b[39m\u001b[38;5;132;01m}\u001b[39;00m\u001b[38;5;124m is number\u001b[39m\u001b[38;5;132;01m{\u001b[39;00m(i\u001b[38;5;250m \u001b[39m\u001b[38;5;241m+\u001b[39m\u001b[38;5;250m \u001b[39m\u001b[38;5;241m1\u001b[39m)\u001b[38;5;132;01m:\u001b[39;00m\u001b[38;5;124m5\u001b[39m\u001b[38;5;132;01m}\u001b[39;00m\u001b[38;5;124m\"\u001b[39m)\n",
      "\u001b[1;31mTypeError\u001b[0m: unsupported format string passed to list.__format__"
     ]
    }
   ],
   "source": [
    "days = ['mon', 'thu','wed']\n",
    "for i, day in enumerate(days):\n",
    "    print(f\"The {days:9} is number{(i + 1):5}\")\n",
    "\n",
    "# Monday = 1\n",
    "# Thuesday = 2\n",
    "# Wednesday = 3\n",
    "# print(f\"\"\"Monday{Monday:6}\n",
    "# Thuesday{Thuesday:4} \n",
    "# Wednesday{Wednesday:3}\"\"\")"
   ]
  },
  {
   "cell_type": "code",
   "execution_count": 24,
   "metadata": {},
   "outputs": [
    {
     "name": "stdout",
     "output_type": "stream",
     "text": [
      "number is 19.031\n",
      "number is 20.472\n",
      "number is 22.647\n",
      "number is 28.277\n",
      "number is 20.523\n",
      "number is 24.944\n",
      "number is 25.441\n",
      "number is 29.310\n",
      "number is 20.953\n",
      "number is 24.728\n"
     ]
    }
   ],
   "source": [
    "import random\n",
    "# random.random()\n",
    "def print_floats(number, range_start, range_end):\n",
    "    number_list = []\n",
    "    for n in range(number):\n",
    "        generated_num = random.random()\n",
    "        range_is = range_end - range_start\n",
    "        output_num = generated_num * range_is + range_start\n",
    "        number_list.append(output_num)\n",
    "    return number_list\n",
    "\n",
    "floats = print_floats(10, 15, 30)\n",
    "for float_specific in floats:\n",
    "    print(f'number is {float_specific:.3f}')"
   ]
  },
  {
   "cell_type": "code",
   "execution_count": null,
   "metadata": {},
   "outputs": [],
   "source": []
  },
  {
   "cell_type": "code",
   "execution_count": null,
   "metadata": {},
   "outputs": [],
   "source": []
  },
  {
   "cell_type": "markdown",
   "metadata": {
    "id": "au2lPK3b5CHH"
   },
   "source": [
    "## Iterators and generators\n",
    "\n",
    "***All generators are iterators, but not all iterators are generators.***\n",
    "\n",
    "[Iterators](https://wiki.python.org/moin/Iterator) are objects that store a current value and output the next one when needed. They can be used in `for` loops in memory efficient ways. Actually, when you write `for x in my_list`, you are creating an iterator!\n",
    "\n",
    "The easiest way to create an iterator is to put an iterable (a collection of items such as `list` or `tuple`) into the `iter()` function. Then, each next value can be obtained using the `next()` function. Note that in this way it is impossible to create infinite iterators, as you cannot have an infinite collection. After reaching the last value, the iterator will throw an `StopIteration` error:"
   ]
  },
  {
   "cell_type": "code",
   "execution_count": 9,
   "metadata": {
    "colab": {
     "base_uri": "https://localhost:8080/",
     "height": 234
    },
    "id": "O4JuR8vB6Fwg",
    "outputId": "675bb331-ad7a-48a7-d2f7-b8e4ae7d60f9"
   },
   "outputs": [
    {
     "name": "stdout",
     "output_type": "stream",
     "text": [
      "a\n",
      "b\n",
      "c\n"
     ]
    },
    {
     "ename": "StopIteration",
     "evalue": "",
     "output_type": "error",
     "traceback": [
      "\u001b[0;31m---------------------------------------------------------------------------\u001b[0m",
      "\u001b[0;31mStopIteration\u001b[0m                             Traceback (most recent call last)",
      "\u001b[0;32m<ipython-input-9-7514665a895b>\u001b[0m in \u001b[0;36m<cell line: 6>\u001b[0;34m()\u001b[0m\n\u001b[1;32m      4\u001b[0m \u001b[0mprint\u001b[0m\u001b[0;34m(\u001b[0m\u001b[0mnext\u001b[0m\u001b[0;34m(\u001b[0m\u001b[0mmy_iterator\u001b[0m\u001b[0;34m)\u001b[0m\u001b[0;34m)\u001b[0m\u001b[0;34m\u001b[0m\u001b[0;34m\u001b[0m\u001b[0m\n\u001b[1;32m      5\u001b[0m \u001b[0mprint\u001b[0m\u001b[0;34m(\u001b[0m\u001b[0mnext\u001b[0m\u001b[0;34m(\u001b[0m\u001b[0mmy_iterator\u001b[0m\u001b[0;34m)\u001b[0m\u001b[0;34m)\u001b[0m\u001b[0;34m\u001b[0m\u001b[0;34m\u001b[0m\u001b[0m\n\u001b[0;32m----> 6\u001b[0;31m \u001b[0mprint\u001b[0m\u001b[0;34m(\u001b[0m\u001b[0mnext\u001b[0m\u001b[0;34m(\u001b[0m\u001b[0mmy_iterator\u001b[0m\u001b[0;34m)\u001b[0m\u001b[0;34m)\u001b[0m\u001b[0;34m\u001b[0m\u001b[0;34m\u001b[0m\u001b[0m\n\u001b[0m",
      "\u001b[0;31mStopIteration\u001b[0m: "
     ]
    }
   ],
   "source": [
    "my_list = ['a', 'b', 'c']\n",
    "my_iterator = iter(my_list)\n",
    "print(next(my_iterator))\n",
    "print(next(my_iterator))\n",
    "print(next(my_iterator))\n",
    "print(next(my_iterator))"
   ]
  },
  {
   "cell_type": "code",
   "execution_count": 26,
   "metadata": {},
   "outputs": [
    {
     "name": "stdout",
     "output_type": "stream",
     "text": [
      "0\n"
     ]
    }
   ],
   "source": [
    "def square_gen(x=0):\n",
    "    while True:\n",
    "        yield x**2\n",
    "        x += 1\n",
    "\n",
    "gen = square_gen()\n",
    "print(next(gen))"
   ]
  },
  {
   "cell_type": "markdown",
   "metadata": {
    "id": "Ssrox0xf6Rmb"
   },
   "source": [
    "If you would need to write your own custom iterator, you would need to use the `class` keyword with `__iter__()` and `__next__()` funcions:\n",
    "\n",
    "```python\n",
    "class CustomIterator:\n",
    "  def __init__(self):\n",
    "    self.stop = 100   # the biggest value that it can output\n",
    "    self.val = 1      # starting value\n",
    "\n",
    "  def __iter__(self):\n",
    "    return self\n",
    "\n",
    "  def __next__(self):\n",
    "    to_return = self.val\n",
    "    self.val += 1\n",
    "    if self.val > self.stop:\n",
    "      raise StopIteration  # you can also provide custom error message\n",
    "    return to_return\n",
    "```\n",
    "\n",
    "**Generators** work in much the same way as iterators and have the same benefit of memory efficiency - they also return values one at a time. Generators are relatively simple to define, as they share the function syntax with the `yield` keyword. `yield` can turn most functions into generators if used instead of return. For example, this function would return 1, then 2, then 3 (and then, if asked again, would raise `StopIteration`):\n",
    "```python\n",
    "def number_gen():\n",
    "    yield 1\n",
    "    yield 2\n",
    "    yield 3\n",
    "\n",
    "gen = number_gen()\n",
    "print(next(gen))  # 1\n",
    "print(next(gen))  # 2\n",
    "print(next(gen))  # 3\n",
    "```\n",
    "\n",
    "You can also use `yield` to create potentially infinite sequences. For example, a sequence of squared values can be created like this:\n",
    "```python\n",
    "def square_gen(x=0):\n",
    "    while True:\n",
    "        yield x**2\n",
    "        x += 1\n",
    "```\n",
    "Note that, althouth this has `while True` inside, it will not run an infinite loop, but instead return next squared value when called, with no limit.\n",
    "\n",
    "Just as there are list comprehensions, there are also generator comprehensions. They look like this:\n",
    "\n",
    "```python\n",
    "gen = (n for n in range(5))\n",
    "```\n",
    "\n",
    "## Itertools\n",
    "\n",
    "The [itertools](https://docs.python.org/3/library/itertools.html) module contains common 'under-the-hood' options for iterator operations done in efficient ways. It's good for complex iterators, or in general when collections take up too much memory.\n",
    "\n",
    "Some infinite iterators form itertools:\n",
    "- `count` returns an infinite sequence from a starting number by a set step\n",
    "- `cycle` repeats elements of an iterable\n",
    "- `repeat` repeats the same value infinite times\n",
    "\n",
    "Some finite itertools:\n",
    "- `accumulate` sums values of an iterable (like a cumulative sum)\n",
    "- `chain` joins multiple finite iterables into a single iterator\n",
    "- `zip_longest` zips two iterables and fills the missing values by a specified placeholder\n",
    "\n",
    "Some tools for combinatorics:\n",
    "- `product` generates all possible combinations of a specified length of two input iterables\n",
    "- `permutations` generates permutations without repeats, order matters\n",
    "- `combinations` generates combinations without repeats of the same value, order doesn't matter\n",
    "- `combinations_with_replacement` generates combinations with repeats, order doesn't matter\n",
    "\n",
    "\n",
    "## Excercises\n",
    "\n",
    "1. You have a bag with 5 red and 5 blue tokens. They can be taken out one by one. Without using combinatoric formulas, get all possible ways to take out these tokens, then calculate the probability that 3th, 4th and 5th tokens will be red.\n",
    "2. Write a simple program which takes `input()` from a user. First, the user is asked to provide comma-separated names, then comma-separated numbers. After that, the program should output text formatted as a table with two columns, where first column contain names, and another one - numbers. Make sure to include all provided values.\n",
    "3. Write an infinite generator for a Fibonnaci sequence. Print out the first 20 elements.\n",
    "4. Using the provided example (with `class`), design a custom iterator that creates a converging sequence. The rule for the next element is $a_{n} = (n + 1)/2n^2$"
   ]
  },
  {
   "cell_type": "code",
   "execution_count": 32,
   "metadata": {
    "id": "5OQQgRVEBw0T"
   },
   "outputs": [
    {
     "data": {
      "text/plain": [
       "0.068"
      ]
     },
     "execution_count": 32,
     "metadata": {},
     "output_type": "execute_result"
    }
   ],
   "source": [
    "import random\n",
    "def shuffle():\n",
    "    shuffled_list = []\n",
    "    my_list = ['R','R','R','R','R','B','B','B','B','B']\n",
    "    for i in range(len(my_list)):\n",
    "        choice = random.choice(my_list)\n",
    "        my_list.remove(choice)\n",
    "        shuffled_list.append(choice)\n",
    "    return shuffled_list\n",
    "count = 0\n",
    "for i in range(1000):\n",
    "    shuffled_list = shuffle()\n",
    "    if shuffled_list[2] == 'R' and (shuffled_list[3] == 'R') and (shuffled_list[4] == 'R'):\n",
    "        count+=1\n",
    "\n",
    "count/1000"
   ]
  },
  {
   "cell_type": "code",
   "execution_count": 36,
   "metadata": {},
   "outputs": [
    {
     "name": "stdout",
     "output_type": "stream",
     "text": [
      "1\n",
      "1\n",
      "2\n",
      "3\n",
      "5\n",
      "8\n",
      "13\n",
      "21\n",
      "34\n",
      "55\n",
      "89\n",
      "144\n",
      "233\n",
      "377\n",
      "610\n",
      "987\n",
      "1597\n",
      "2584\n",
      "4181\n",
      "6765\n"
     ]
    }
   ],
   "source": [
    "def fibonacci():\n",
    "    a, b = 0, 1\n",
    "    while True:\n",
    "        a, b = b, a+b\n",
    "        yield a\n",
    "\n",
    "gen = fibonacci()\n",
    "for i in range(20):\n",
    "    print(next(gen))"
   ]
  },
  {
   "cell_type": "code",
   "execution_count": 37,
   "metadata": {},
   "outputs": [],
   "source": [
    "import pandas as pd\n",
    "df = pd.DataFrame()"
   ]
  },
  {
   "cell_type": "code",
   "execution_count": null,
   "metadata": {},
   "outputs": [],
   "source": []
  },
  {
   "cell_type": "markdown",
   "metadata": {
    "id": "Szk2hhufZ3lB"
   },
   "source": [
    "## Classes\n",
    "Python [classes](https://docs.python.org/3/tutorial/classes.html) allow building custom types of objects, with their own methods and parameters. You can think of them as blueprints for objects with specific properties, or dictionaries with preset keys and default values. For example, the pandas dataframe is a class!\n",
    "\n",
    "Generic class syntax woud be:\n",
    "```python\n",
    "class SomeName:      #class definition\n",
    "  def __init__(self, another_param):  #class initialization - \"data\" part\n",
    "    self.param_property = another_param\n",
    "    self.property_list = []\n",
    "    ...\n",
    "  \n",
    "  def add_data(self, data):  #method definition - \"functions\" part\n",
    "    self.property_list.append(data)\n",
    "  ...  \n",
    "```\n",
    "\n",
    "In this case, `SomeName` is a custom class - you can generate objects with multiple parameters and methods quickly. The default `__init__()` method runs whenever you initialize an object of this class, which is usually used to set the required parameters to given or default values.\n",
    "\n",
    "An object is created by **calling** the class:\n",
    "\n",
    "```python\n",
    "obj = SomeName('Param')  #creating an object of SomeName class\n",
    "```\n",
    "\n",
    "Parameters can be accessed by using `.`:\n",
    "```python\n",
    "obj.param_property\n",
    "```\n",
    "\n",
    "Methods can be accessed the same way, but include `()` and arguments like functions (because they are callable):\n",
    "```python\n",
    "obj.add_data(self, data)\n",
    "```\n",
    "\n",
    "**Example:** in Pandas, a dataframe is initialized by calling `pd.DataFrame()` (where `DataFrame` is the name of the class defined inside the main Pandas script), has parameters such as `.index`, and methods such as `.head()`.\n",
    "\n",
    "- This is the core of [object-oriented programming](https://en.wikipedia.org/wiki/Object-oriented_programming), where everything is an object containing some data and methods."
   ]
  },
  {
   "cell_type": "markdown",
   "metadata": {
    "id": "HIiHOseDYkl8"
   },
   "source": [
    "### Exercises\n",
    "\n",
    "1. Create a class called `Dog`. It should have a name, a breed with a default value of `'german_sheperd'`, and it should record steps it took to the left, right or if it stayed in place (-1, 1, and 0 respectively).\n",
    "2. Create a method called `command`, which moves the dog to the **specified direction**.\n",
    "3. Create a method called `free_walk`, which moves the dog to a **random direction**.\n",
    "4. Walk the dog for some time using different approaches and make sure the movements are shown in the `record` parameter.\n",
    "5. Think of how you can add movements to the front and back so the dog becomes 2-dimensional. This can be done in various ways. Let the dog walk on itself for 100 steps, and plot the recorded steps as position."
   ]
  },
  {
   "cell_type": "code",
   "execution_count": 60,
   "metadata": {},
   "outputs": [],
   "source": [
    "class Dog:\n",
    "    def __init__(self, name, breed = 'german_shepard'):\n",
    "        self.name = name\n",
    "        self.breed = breed\n",
    "        # self.steps = []\n",
    "        self.stepsX = []\n",
    "        self.stepsy = []\n",
    "        self.location = [(0, 0)]\n",
    "        \n",
    "    def command(self, step = 0):\n",
    "        self.stepsX.append(step[0])\n",
    "        self.stepsY.append(step[1])\n",
    "    def free_walk(self):\n",
    "        self.stepsX.append(round(random.random() *2 - 1, 0))\n",
    "        self.stepsY.append(round(random.random() *2 - 1, 0))\n",
    "\n",
    "    def where_was_i(self):\n",
    "        for x, y in zip(self.stepsX, self.stepsY):\n",
    "            _x = self.locatation[-1][0] + x\n",
    "            _y = self.locatation[-1][1] + y\n",
    "            self.location.append((_x, _y))"
   ]
  },
  {
   "cell_type": "code",
   "execution_count": 62,
   "metadata": {},
   "outputs": [],
   "source": [
    "my_dog = Dog('Brusius')"
   ]
  },
  {
   "cell_type": "code",
   "execution_count": 63,
   "metadata": {},
   "outputs": [
    {
     "data": {
      "text/plain": [
       "[(0, 0)]"
      ]
     },
     "execution_count": 63,
     "metadata": {},
     "output_type": "execute_result"
    }
   ],
   "source": [
    "my_dog.location"
   ]
  },
  {
   "cell_type": "code",
   "execution_count": 65,
   "metadata": {},
   "outputs": [
    {
     "ename": "AttributeError",
     "evalue": "'Dog' object has no attribute 'stepsY'",
     "output_type": "error",
     "traceback": [
      "\u001b[1;31m---------------------------------------------------------------------------\u001b[0m",
      "\u001b[1;31mAttributeError\u001b[0m                            Traceback (most recent call last)",
      "Cell \u001b[1;32mIn[65], line 2\u001b[0m\n\u001b[0;32m      1\u001b[0m \u001b[38;5;28;01mfor\u001b[39;00m i \u001b[38;5;129;01min\u001b[39;00m \u001b[38;5;28mrange\u001b[39m(\u001b[38;5;241m100\u001b[39m):\n\u001b[1;32m----> 2\u001b[0m     my_dog\u001b[38;5;241m.\u001b[39mfree_walk()\n",
      "Cell \u001b[1;32mIn[60], line 15\u001b[0m, in \u001b[0;36mDog.free_walk\u001b[1;34m(self)\u001b[0m\n\u001b[0;32m     13\u001b[0m \u001b[38;5;28;01mdef\u001b[39;00m \u001b[38;5;21mfree_walk\u001b[39m(\u001b[38;5;28mself\u001b[39m):\n\u001b[0;32m     14\u001b[0m     \u001b[38;5;28mself\u001b[39m\u001b[38;5;241m.\u001b[39mstepsX\u001b[38;5;241m.\u001b[39mappend(\u001b[38;5;28mround\u001b[39m(random\u001b[38;5;241m.\u001b[39mrandom() \u001b[38;5;241m*\u001b[39m\u001b[38;5;241m2\u001b[39m \u001b[38;5;241m-\u001b[39m \u001b[38;5;241m1\u001b[39m, \u001b[38;5;241m0\u001b[39m))\n\u001b[1;32m---> 15\u001b[0m     \u001b[38;5;28mself\u001b[39m\u001b[38;5;241m.\u001b[39mstepsY\u001b[38;5;241m.\u001b[39mappend(\u001b[38;5;28mround\u001b[39m(random\u001b[38;5;241m.\u001b[39mrandom() \u001b[38;5;241m*\u001b[39m\u001b[38;5;241m2\u001b[39m \u001b[38;5;241m-\u001b[39m \u001b[38;5;241m1\u001b[39m, \u001b[38;5;241m0\u001b[39m))\n",
      "\u001b[1;31mAttributeError\u001b[0m: 'Dog' object has no attribute 'stepsY'"
     ]
    }
   ],
   "source": [
    "for i in range(100):\n",
    "    my_dog.free_walk()"
   ]
  },
  {
   "cell_type": "code",
   "execution_count": 58,
   "metadata": {},
   "outputs": [],
   "source": [
    "my_dog.free_walk()"
   ]
  },
  {
   "cell_type": "code",
   "execution_count": 7,
   "metadata": {
    "id": "JtieJ-iuJOyF"
   },
   "outputs": [],
   "source": [
    "#Notes\n",
    "# formating strings we can use .format()\n",
    "# \"A = {A}, B = {B}, A = {A}\".format(A = A, B = B)\n",
    "# A = a\n",
    "# B = b\n",
    "# f\"A = {A}, B = {B}, A = {A}\"\n",
    "If we want to make combinations of symbols of 5 we can you import intertools and the functions intertools.product(symbols, n = 5).\n"
   ]
  },
  {
   "cell_type": "code",
   "execution_count": null,
   "metadata": {},
   "outputs": [],
   "source": [
    "# Generator\n",
    "odd_numbers = []\n",
    "def odd_number_generator():\n",
    "    for i in \n",
    "    "
   ]
  }
 ],
 "metadata": {
  "colab": {
   "provenance": []
  },
  "kernelspec": {
   "display_name": "Python 3 (ipykernel)",
   "language": "python",
   "name": "python3"
  },
  "language_info": {
   "codemirror_mode": {
    "name": "ipython",
    "version": 3
   },
   "file_extension": ".py",
   "mimetype": "text/x-python",
   "name": "python",
   "nbconvert_exporter": "python",
   "pygments_lexer": "ipython3",
   "version": "3.12.4"
  }
 },
 "nbformat": 4,
 "nbformat_minor": 4
}
