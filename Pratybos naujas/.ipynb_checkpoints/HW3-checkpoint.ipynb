{
 "cells": [
  {
   "cell_type": "markdown",
   "metadata": {
    "id": "AmOiwlvgL7LA"
   },
   "source": [
    "Python for Data Analysis, Vilnius University, 2024\n",
    "\n",
    "# HW3: Training a successful ML model\n",
    "\n",
    "There are 30 points to collect, and 5 bonus points.\n",
    "\n",
    "In this homework, you need to write all code from scratch. There are minimal pre-written `assert` statements. Main rules for a successful submission:\n",
    "\n",
    "**1. You can only import libraries from this list (but you won't need all of them):**\n",
    "\n",
    "- Native Python libraries (e.g. itertools, re)\n",
    "- Numpy\n",
    "- Pandas\n",
    "- Matplotlib\n",
    "- Seaborn\n",
    "- Scipy\n",
    "- Scikit-Learn\n",
    "- tqdm\n",
    "\n",
    "**2. Do not leave unused code and ensure the overall structure of the Notebook is clean and readable, as you are given much more freedom this time. Do not repeat same code or create same variables more than 2 times.**\n",
    "\n",
    "**3. Explain your choices (e.g. in comments).** Some code may be self-explanatory, like renaming columns or printing out some statistics. But there are things which should always be explained, such as:\n",
    "- Any hardcoded values such as chosen thresholds or lists of column names;\n",
    "- Removal of columns or samples;\n",
    "- Imported functions which were not mentioned during lectures;\n",
    "- Any additional steps which were not requested in tasks.\n",
    "\n",
    "Don't hesitate to contact me or Martynas if you are stuck."
   ]
  },
  {
   "cell_type": "markdown",
   "metadata": {
    "id": "2pHDq8xPSKGj"
   },
   "source": [
    "## The goal\n",
    "\n",
    "Some researchers who collected data for the Snail Lab complained that measuring a sample takes a lot of time and is quite difficult. Sometimes snails are found on single leaves, not on whole plants, making several measurements impossible to make. Moreover, one should be careful when measuring snail features, because if they hide inside their shell, the researcher is forced to wait until the snail fully appears again.\n",
    "\n",
    "An intern from the Snail Lab suggested that they could use AI to solve this issue. After several discussions, they decided to train a model which would predict the genus of a snail from only easy-to-measure features. The intern prepared some useful data but then got sick. So, the Snail Lab asks for your help once more.\n",
    "\n",
    "You need to train a Logistic regression-based model to predict snail genus. For that, use data available here:\n",
    "\n",
    "https://raw.githubusercontent.com/Tallivm/vu-python/refs/heads/main/hw3_data.csv\n",
    "\n",
    "- Do not use any other datasets (e.g. from previous homeworks)."
   ]
  },
  {
   "cell_type": "code",
   "execution_count": 5,
   "metadata": {
    "id": "b-_h_DfYgZeI"
   },
   "outputs": [],
   "source": [
    "import pandas as pd\n",
    "import numpy as np\n",
    "import seaborn as sns\n",
    "import matplotlib.pyplot as plt\n",
    "from sklearn.model_selection import train_test_split\n",
    "from sklearn.preprocessing import StandardScaler, OneHotEncoder\n",
    "from sklearn.linear_model import LogisticRegression\n",
    "from sklearn.metrics import accuracy_score, confusion_matrix, precision_score, ConfusionMatrixDisplay, classification_report\n",
    "\n",
    "# put all your imports into this cell"
   ]
  },
  {
   "cell_type": "markdown",
   "metadata": {
    "id": "USnz7Brlw_Le"
   },
   "source": [
    "This variable contains the name of the column you need to predict. Use it through this Notebook instead of writing the column name itself. Do not rewrite it."
   ]
  },
  {
   "cell_type": "code",
   "execution_count": 2,
   "metadata": {
    "id": "q9FlT1Y7k04h"
   },
   "outputs": [],
   "source": [
    "to_predict = 'snail_genus'"
   ]
  },
  {
   "cell_type": "markdown",
   "metadata": {
    "id": "IWmwz7ACa6nm"
   },
   "source": [
    "## Task 1: EDA (exploratory data analysis)\n",
    "*(3 points in total)*\n",
    "\n",
    "- Write code to load `'hw3_data.csv'` into the variable `raw` as a DataFrame. Make sure to not use global paths (e.g. `\"C://Users/JonasJonas/Desktop/vel_sraiges/hw3_data.csv\"`) or paths which obviously won't work on another computers (e.g. `\"folderiux/hw3_data.csv\"`).\n",
    "\n",
    "The Snail Lab assured you that this time the data should be completely clean. However, you always need to check it for yourself.\n",
    "- Check if there are any NaNs.\n",
    "- Check if mininum, maximum, and average values of numerical columns look OK. For example, if the measurement is about length, it cannot contain negative or zero values.\n",
    "- Print out unique values and their counts in categorical columns.\n",
    "- Plot a correlation matrix for numerical values. Make sure to follow the standard steps to make the plot easy to read (as mentioned in HW2, e.g. use a diverging colormap)."
   ]
  },
  {
   "cell_type": "code",
   "execution_count": 2,
   "metadata": {
    "id": "F8nT5mCQ6P3P"
   },
   "outputs": [
    {
     "name": "stdout",
     "output_type": "stream",
     "text": [
      "Check for NaNs in the dataset: \n",
      "Unnamed: 0         0\n",
      "snail_genus        0\n",
      "leaf_width_mm      0\n",
      "leaf_length_mm     0\n",
      "leaf_surface       0\n",
      "shell_height_mm    0\n",
      "shell_color        0\n",
      "shell_radius_mm    0\n",
      "dtype: int64\n",
      "Statistics for numerical columns:\n",
      "        Unnamed: 0  leaf_width_mm  leaf_length_mm  shell_height_mm  \\\n",
      "count  2606.000000    2606.000000     2606.000000      2606.000000   \n",
      "mean   1302.500000      46.637759       62.246738         6.439371   \n",
      "std     752.431724      21.311582       35.296715         2.201197   \n",
      "min       0.000000       1.000000        2.000000         1.000000   \n",
      "25%     651.250000      27.000000       28.000000         5.000000   \n",
      "50%    1302.500000      47.000000       63.000000         6.000000   \n",
      "75%    1953.750000      68.000000      100.000000         8.000000   \n",
      "max    2605.000000      83.000000      133.000000        12.000000   \n",
      "\n",
      "       shell_radius_mm  \n",
      "count      2606.000000  \n",
      "mean          6.527629  \n",
      "std           2.282497  \n",
      "min           0.000000  \n",
      "25%           5.000000  \n",
      "50%           7.000000  \n",
      "75%           8.000000  \n",
      "max          13.000000  \n",
      "Check for negative or zeroes values in numerical columns:\n",
      "Warning: Column 'Unnamed: 0' contains non-positive values (min: 0)\n",
      "Warning: Column 'shell_radius_mm' contains non-positive values (min: 0.0)\n",
      "\n",
      "Unique values in categorical columns:\n",
      "\n",
      "Column 'snail_genus':\n",
      "snail_genus\n",
      "Flexorus       440\n",
      "Caracolus      415\n",
      "Slimospira     403\n",
      "Mollisphora    391\n",
      "Lunaspira      382\n",
      "Helixoda       300\n",
      "Spiralina      275\n",
      "Name: count, dtype: int64\n",
      "\n",
      "Column 'leaf_surface':\n",
      "leaf_surface\n",
      "waxy      968\n",
      "smooth    845\n",
      "hairy     793\n",
      "Name: count, dtype: int64\n",
      "\n",
      "Column 'shell_color':\n",
      "shell_color\n",
      "dark       1085\n",
      "yellow      936\n",
      "striped     451\n",
      "white        74\n",
      "brown        60\n",
      "Name: count, dtype: int64\n"
     ]
    },
    {
     "data": {
      "image/png": "[encoded data removed]",
      "text/plain": [
       "<Figure size 1000x800 with 2 Axes>"
      ]
     },
     "metadata": {},
     "output_type": "display_data"
    }
   ],
   "source": [
    "# your code\n",
    "# I'm loading the data, I need to be sure it is in my working dictionary\n",
    "raw = pd.read_csv('hw3_data.csv')\n",
    "# I check NaNs and brief statistics of it\n",
    "print(f\"\"\"Check for NaNs in the dataset: \n",
    "{raw.isna().sum()}\"\"\")\n",
    "\n",
    "print(f\"\"\"Statistics for numerical columns:\n",
    "{raw.describe()}\"\"\")\n",
    "\n",
    "# I'm checking are there any zeroes or negative values\n",
    "print(\"Check for negative or zeroes values in numerical columns:\")\n",
    "numerical_columns = raw.select_dtypes(include=[np.number]).columns\n",
    "for col in numerical_columns:\n",
    "    min_value = raw[col].min()\n",
    "    max_value = raw[col].max()\n",
    "    if min_value <= 0:\n",
    "        print(f\"Warning: Column '{col}' contains non-positive values (min: {min_value})\")\n",
    "    if max_value < 0:\n",
    "        print(f\"Warning: Column '{col}' contains negative values (max: {max_value})\")\n",
    "        \n",
    "# I'm checking for categorical values and also unique values\n",
    "print(\"\\nUnique values in categorical columns:\")\n",
    "categorical_columns = raw.select_dtypes(include=['object']).columns\n",
    "for col in categorical_columns:\n",
    "    print(f\"\\nColumn '{col}':\")\n",
    "    print(raw[col].value_counts())\n",
    "    \n",
    "# I'm creating a corralation matrics to understand the relationships between numerical values\n",
    "plt.figure(figsize=(10, 8))\n",
    "correlation_matrix = raw[numerical_columns].corr()\n",
    "sns.heatmap(correlation_matrix, annot=True, cmap='coolwarm', fmt='.2f', linewidths=0.5)\n",
    "plt.title('Correlation Matrix of Numerical Columns')\n",
    "plt.show()"
   ]
  },
  {
   "cell_type": "code",
   "execution_count": 4,
   "metadata": {
    "id": "DtTJZkdR6c-R"
   },
   "outputs": [],
   "source": [
    "assert type(raw) == pd.DataFrame\n",
    "assert to_predict in raw"
   ]
  },
  {
   "cell_type": "markdown",
   "metadata": {
    "id": "n6fqU3Kwh9Is"
   },
   "source": [
    "## Task 2. Data transformation and scaling\n",
    "\n",
    "There are some things to do before model training. Make sure that you make all changes in the new DataFrame named `transformed`.\n",
    "- *(1 point)* Convert the values of snail genera into integers.\n",
    "- *(2 points)* Logistic regression is sensitive to data variance. You need to standardize continuous features. Use a relevant scaler from Scikit-learn.\n",
    "- *(1 point)* Obtain the same result by writing your own scaler function without Scikit-learn, using only math operators.\n",
    "- *(2 points)* Categorical columns should not be standardized. Instead, they should be one-hot encoded. Use relevant function from either Scikit-learn or Pandas.\n",
    "  - Make sure that from each categorical column with N unique values you get N-1 columns with integer values.\n",
    "  - Do not encode snail genera like this.\n",
    "- *(2 points)* Obtain the same result by writing your own one-hot encoding function.\n",
    "\n",
    "Make sure `transformed` has correct column names. Print out 5 random samples from it."
   ]
  },
  {
   "cell_type": "code",
   "execution_count": 18,
   "metadata": {
    "id": "4QbanCWW6m1Q"
   },
   "outputs": [
    {
     "name": "stdout",
     "output_type": "stream",
     "text": [
      "Genus mapping: {'Spiralina': 0, 'Slimospira': 1, 'Mollisphora': 2, 'Flexorus': 3, 'Helixoda': 4, 'Caracolus': 5, 'Lunaspira': 6}\n",
      "\n",
      "Standardized numerical columns using Scikit-Learn:\n",
      "   Unnamed: 0  leaf_width_mm  leaf_length_mm  shell_height_mm  shell_radius_mm\n",
      "0   -1.731386       1.049501        1.466516         0.254742        -0.669408\n",
      "1   -1.730057       0.204728       -0.800419        -1.108415        -1.107609\n",
      "2   -1.728728       0.017001        1.466516        -0.199644         0.206994\n",
      "3   -1.727398      -0.123795       -1.055449        -0.654029        -0.669408\n",
      "4   -1.726069      -1.625614        0.163028        -0.654029        -0.669408\n",
      "\n",
      "Standardized numerical columns manually:\n",
      "   Unnamed: 0  leaf_width_mm  leaf_length_mm  shell_height_mm  shell_radius_mm\n",
      "0   -1.731054       1.049300        1.466235         0.254693        -0.669280\n",
      "1   -1.729725       0.204689       -0.800265        -1.108202        -1.107396\n",
      "2   -1.728396       0.016997        1.466235        -0.199605         0.206954\n",
      "3   -1.727067      -0.123771       -1.055247        -0.653904        -0.669280\n",
      "4   -1.725738      -1.625302        0.162997        -0.653904        -0.669280\n",
      "\n",
      "One-hot encoded categorical columns using Scikit-Learn:\n",
      "   leaf_surface_smooth  leaf_surface_waxy  shell_color_dark  \\\n",
      "0                  0.0                0.0               0.0   \n",
      "1                  0.0                0.0               0.0   \n",
      "2                  0.0                0.0               0.0   \n",
      "3                  1.0                0.0               1.0   \n",
      "4                  1.0                0.0               0.0   \n",
      "\n",
      "   shell_color_striped  shell_color_white  shell_color_yellow  \n",
      "0                  1.0                0.0                 0.0  \n",
      "1                  0.0                0.0                 1.0  \n",
      "2                  1.0                0.0                 0.0  \n",
      "3                  0.0                0.0                 0.0  \n",
      "4                  0.0                0.0                 1.0  \n",
      "\n",
      "One-hot encoded categorical columns manually:\n",
      "   leaf_surface_smooth  leaf_surface_waxy  shell_color_dark  \\\n",
      "0                False              False             False   \n",
      "1                False              False             False   \n",
      "2                False              False             False   \n",
      "3                 True              False              True   \n",
      "4                 True              False             False   \n",
      "\n",
      "   shell_color_striped  shell_color_white  shell_color_yellow  \n",
      "0                 True              False               False  \n",
      "1                False              False                True  \n",
      "2                 True              False               False  \n",
      "3                False              False               False  \n",
      "4                False              False                True  \n",
      "\n",
      "5 random samples from the transformed DataFrame:\n",
      "      Unnamed: 0  snail_genus  leaf_width_mm  leaf_length_mm  shell_height_mm  \\\n",
      "782    -0.691890            0      -1.297091       -0.885429         1.163513   \n",
      "786    -0.686573            6       0.861774       -0.687072         0.254742   \n",
      "602    -0.931160            1      -0.076863       -0.913766         1.163513   \n",
      "420    -1.173089            1       0.204728       -0.602062        -0.654029   \n",
      "2319    1.351212            5      -1.109364       -1.367153        -0.199644   \n",
      "\n",
      "      shell_radius_mm  leaf_surface_smooth  leaf_surface_waxy  \\\n",
      "782          1.083395                  1.0                0.0   \n",
      "786         -0.231207                  0.0                0.0   \n",
      "602          1.083395                  0.0                0.0   \n",
      "420         -0.231207                  0.0                0.0   \n",
      "2319         0.206994                  0.0                1.0   \n",
      "\n",
      "      shell_color_dark  shell_color_striped  shell_color_white  \\\n",
      "782                0.0                  1.0                0.0   \n",
      "786                1.0                  0.0                0.0   \n",
      "602                0.0                  0.0                0.0   \n",
      "420                0.0                  0.0                0.0   \n",
      "2319               0.0                  0.0                0.0   \n",
      "\n",
      "      shell_color_yellow  \n",
      "782                  0.0  \n",
      "786                  0.0  \n",
      "602                  1.0  \n",
      "420                  1.0  \n",
      "2319                 1.0  \n",
      "Target column data type: int32\n"
     ]
    }
   ],
   "source": [
    "# I'm transforming target column into intigers: create a mapping for consistency during modeling\n",
    "to_predict = 'snail_genus'\n",
    "genus_mapping = {genus: idx for idx, genus in enumerate(raw[to_predict].unique())}\n",
    "print(\"Genus mapping:\", genus_mapping)\n",
    "\n",
    "transformed = raw.copy()\n",
    "transformed[to_predict] = transformed[to_predict].map(genus_mapping)\n",
    "\n",
    "# I do this to ensure target column is converted to integer after mapping\n",
    "transformed[to_predict] = transformed[to_predict].astype('category').cat.codes\n",
    "# I'm fixing to_predict column dtype because I got an error I do not understand why :D\n",
    "transformed[to_predict] = transformed[to_predict].astype(int)  \n",
    "\n",
    "# Standardization with Scikit-Learn\n",
    "numerical_columns = raw.select_dtypes(include=['number']).columns\n",
    "numerical_columns = [col for col in numerical_columns if col != to_predict]\n",
    "\n",
    "scaler = StandardScaler()\n",
    "transformed[numerical_columns] = scaler.fit_transform(raw[numerical_columns])\n",
    "\n",
    "print(\"\\nStandardized numerical columns using Scikit-Learn:\")\n",
    "print(transformed[numerical_columns].head())\n",
    "\n",
    "# Manual standardization\n",
    "def manual_standardize(series):\n",
    "    mean = series.mean()\n",
    "    std = series.std()\n",
    "    return (series - mean) / std\n",
    "\n",
    "manual_standardized = raw[numerical_columns].apply(manual_standardize)\n",
    "\n",
    "print(\"\\nStandardized numerical columns manually:\")\n",
    "print(manual_standardized.head())\n",
    "\n",
    "# One-hot encoding for categorical columns\n",
    "categorical_columns = raw.select_dtypes(include=['object', 'category']).columns\n",
    "categorical_columns = [col for col in categorical_columns if col != to_predict]\n",
    "\n",
    "encoder = OneHotEncoder(drop='first', sparse_output=False)\n",
    "encoded_columns = encoder.fit_transform(raw[categorical_columns])\n",
    "\n",
    "encoded_df = pd.DataFrame(encoded_columns, columns=encoder.get_feature_names_out(categorical_columns))\n",
    "transformed = pd.concat([transformed.reset_index(drop=True), encoded_df], axis=1)\n",
    "\n",
    "print(\"\\nOne-hot encoded categorical columns using Scikit-Learn:\")\n",
    "print(encoded_df.head())\n",
    "\n",
    "# Manual one-hot encoding for comparison\n",
    "def manual_one_hot_encode(df, columns):\n",
    "    one_hot_df = pd.DataFrame()\n",
    "    for col in columns:\n",
    "# I'm creating encoded_columns variables, dropping the first to avoid multicollinearity\n",
    "        encoded_columns = pd.get_dummies(df[col], drop_first=True, prefix=col)\n",
    "        one_hot_df = pd.concat([one_hot_df, encoded_columns], axis=1)\n",
    "    return one_hot_df\n",
    "\n",
    "manual_encoded = manual_one_hot_encode(raw, categorical_columns)\n",
    "\n",
    "# Ensure one-hot encoding consistency\n",
    "manual_encoded = manual_encoded.reset_index(drop=True)\n",
    "encoded_df = encoded_df.reset_index(drop=True)\n",
    "assert np.allclose(encoded_df.values, manual_encoded.values), \"Mismatch in one-hot encoding\"\n",
    "\n",
    "print(\"\\nOne-hot encoded categorical columns manually:\")\n",
    "print(manual_encoded.head())\n",
    "\n",
    "# Drop original categorical columns after encoding\n",
    "assert all(col in raw.columns for col in categorical_columns), \"Categorical columns missing in raw DataFrame\"\n",
    "transformed.drop(columns=categorical_columns, inplace=True)\n",
    "\n",
    "# Shape assertion: ensure transformation adds columns\n",
    "assert raw.shape[1] < transformed.shape[1], \"Transformed DataFrame does not have more columns than raw\"\n",
    "\n",
    "# Print 5 random samples from the transformed DataFrame\n",
    "print(\"\\n5 random samples from the transformed DataFrame:\")\n",
    "print(transformed.sample(5, random_state=42))\n",
    "\n",
    "# Print data type of target column to ensure there is no mistakes, because I have issue with it\n",
    "print(\"Target column data type:\", transformed[to_predict].dtype)"
   ]
  },
  {
   "cell_type": "code",
   "execution_count": 17,
   "metadata": {
    "id": "38BIYl73zM3r"
   },
   "outputs": [],
   "source": [
    "assert raw.shape[1] < transformed.shape[1]\n",
    "assert transformed[to_predict].dtype == int\n",
    "assert 2 in transformed[to_predict]"
   ]
  },
  {
   "cell_type": "markdown",
   "metadata": {
    "id": "OZxk8s3xlwUY"
   },
   "source": [
    "## Task 3.\n",
    "\n",
    "- *(1 point)* Split `transformed` into `X` (features to train the model with) and `y` (feature to be predicted).\n",
    "  - `X` should have 2 dimensions and `y` only one dimension.\n",
    "\n",
    "- *(3 points)* Train a Logistic regression model from Scikit-learn on transformed data to predict `y`.\n",
    "  - For reproducibility, fix the random seed of the model.\n",
    "  - Print out its **accuracy**.\n",
    "\n",
    "- *(2 points)* Obtain model predictions of snail genera and plot a confusion matrix.\n",
    "\n",
    "- *(1 point)* Obtain and print out the **precision** metric for each snail genus. Which snail genus is the easiest to predict?"
   ]
  },
  {
   "cell_type": "code",
   "execution_count": 6,
   "metadata": {
    "id": "v5NSE48s0Oox"
   },
   "outputs": [
    {
     "name": "stdout",
     "output_type": "stream",
     "text": [
      "Features (X) shape: (2606, 11)\n",
      "Target (y) shape: (2606,)\n",
      "\n",
      "Model Accuracy: 0.6739\n"
     ]
    },
    {
     "data": {
      "text/plain": [
       "<Figure size 800x600 with 0 Axes>"
      ]
     },
     "metadata": {},
     "output_type": "display_data"
    },
    {
     "data": {
      "image/png": "[encoded data removed]",
      "text/plain": [
       "<Figure size 640x480 with 2 Axes>"
      ]
     },
     "metadata": {},
     "output_type": "display_data"
    },
    {
     "name": "stdout",
     "output_type": "stream",
     "text": [
      "\n",
      "Precision for each snail genus:\n",
      "  0: 0.5932\n",
      "  1: 0.5904\n",
      "  2: 0.7345\n",
      "  3: 0.7514\n",
      "  4: 0.8493\n",
      "  5: 0.5159\n",
      "  6: 0.6645\n",
      "\n",
      "The easiest genus to predict is '4' with a precision of 0.8493.\n"
     ]
    }
   ],
   "source": [
    "# Spliting data into features (X) and target (y)\n",
    "X = transformed.drop(columns=to_predict) #The feature which I use to make a predictions\n",
    "y = transformed[to_predict] #The column which I want to be predicted\n",
    "\n",
    "print(f\"Features (X) shape: {X.shape}\")\n",
    "print(f\"Target (y) shape: {y.shape}\")\n",
    "\n",
    "# Spliting into training and testing sets wich will be use to train model and test after \n",
    "X_train, X_test, y_train, y_test = train_test_split(X, y, test_size=0.3, random_state=42)\n",
    "\n",
    "# Training logistic regression model\n",
    "model = LogisticRegression(random_state=42, max_iter=1000)\n",
    "model.fit(X_train, y_train)\n",
    "\n",
    "# Comparing the predictions to the actual values and calculating the accuracy\n",
    "y_pred = model.predict(X_test)\n",
    "accuracy = accuracy_score(y_test, y_pred)\n",
    "print(f\"\\nModel Accuracy: {accuracy:.4f}\")\n",
    "\n",
    "# Generating and plot confusion matrix which helps to see how well the model performed in predicting each genus\n",
    "cm = confusion_matrix(y_test, y_pred, labels=model.classes_)\n",
    "disp = ConfusionMatrixDisplay(confusion_matrix=cm, display_labels=model.classes_)\n",
    "\n",
    "plt.figure(figsize=(8, 6))\n",
    "disp.plot(cmap='viridis', values_format='d')\n",
    "plt.title(\"Confusion Matrix\")\n",
    "plt.show()\n",
    "\n",
    "# Calculate and print the precision for each snail genus. This is help me to know on which genus the model is accurate\n",
    "report = classification_report(y_test, y_pred, target_names=[str(cls) for cls in model.classes_], output_dict=True)\n",
    "\n",
    "# Extracting precision values\n",
    "precisions = {genus: metrics[\"precision\"] for genus, metrics in report.items() if genus not in (\"accuracy\", \"macro avg\", \"weighted avg\")}\n",
    "easiest_genus = max(precisions, key=precisions.get)\n",
    "\n",
    "# Printing precision results\n",
    "print(\"\\nPrecision for each snail genus:\")\n",
    "for genus, precision in precisions.items():\n",
    "    print(f\"  {genus}: {precision:.4f}\")\n",
    "print(f\"\\nThe easiest genus to predict is '{easiest_genus}' with a precision of {precisions[easiest_genus]:.4f}.\")"
   ]
  },
  {
   "cell_type": "code",
   "execution_count": 7,
   "metadata": {
    "id": "pj5QTnc-7Xky"
   },
   "outputs": [],
   "source": [
    "assert X.ndim == 2\n",
    "assert y.ndim == 1"
   ]
  },
  {
   "cell_type": "markdown",
   "metadata": {
    "id": "dogIDDpq0O9m"
   },
   "source": [
    "## Task 4.\n",
    "\n",
    "Someone from the lab theorized that knowing the genus of the plant which the leaf belongs to should help predict the genus of the snail, as certain snails are attracted to certain plants. However, the dataset does not contain plant names, and either way, plant identification requires additional time and skill.\n",
    "\n",
    "Instead, you can use unsupervised learning to cluster plant features and use this information as a new feature.\n",
    "\n",
    "- *(1 point)* Create a separate DataFrame `plants` containing only plant features. **This is the only place in the whole Notebook where it is allowed to write column names as strings instead of obtaining them automatically.**\n",
    "  - Use transformed features for this step.\n",
    "\n",
    "- *(5 points)* Collect new features: generate a dictionary `plant_clusters` with **at least** 20 elements which are Numpy arrays containing differently predicted plant clusters. Use Affinity Propagation, DBSCAN, and **at least** one more clustering method of your choice from [this Scikit-learn page](https://scikit-learn.org/1.5/modules/clustering.html).\n",
    "  - Different clustering methods use different parameters. Run each clustering method several times with different parameters (no need to change every possible parameter, only the main ones). For example, DBSCAN has `eps` and `min_samples` parameters worth trying.\n",
    "  - Use `for` loops; `itertools` can also be useful here.\n",
    "  - Ensure the keys of `plant_clusters` dictionary are informative, i.e. they should tell which clustering method and what parameters were used. Create those keys automatically using string formatting.\n",
    "  - The number of clusters in single clustering can be anywhere from 2 to 50."
   ]
  },
  {
   "cell_type": "code",
   "execution_count": 13,
   "metadata": {
    "id": "Y4EovMzw2uSJ"
   },
   "outputs": [
    {
     "name": "stdout",
     "output_type": "stream",
     "text": [
      "Feature: kmeans_1 | Accuracy: 0.6995\n",
      "Feature: kmeans_2 | Accuracy: 0.6949\n",
      "Feature: kmeans_3 | Accuracy: 0.7421\n",
      "Feature: kmeans_4 | Accuracy: 0.7306\n",
      "Feature: kmeans_5 | Accuracy: 0.7187\n",
      "Feature: kmeans_6 | Accuracy: 0.7087\n",
      "Feature: kmeans_7 | Accuracy: 0.6965\n",
      "Feature: kmeans_8 | Accuracy: 0.7283\n"
     ]
    },
    {
     "name": "stderr",
     "output_type": "stream",
     "text": [
      "C:\\Users\\donat\\miniconda3\\envs\\test3\\Lib\\site-packages\\sklearn\\linear_model\\_logistic.py:469: ConvergenceWarning: lbfgs failed to converge (status=1):\n",
      "STOP: TOTAL NO. of ITERATIONS REACHED LIMIT.\n",
      "\n",
      "Increase the number of iterations (max_iter) or scale the data as shown in:\n",
      "    https://scikit-learn.org/stable/modules/preprocessing.html\n",
      "Please also refer to the documentation for alternative solver options:\n",
      "    https://scikit-learn.org/stable/modules/linear_model.html#logistic-regression\n",
      "  n_iter_i = _check_optimize_result(\n",
      "C:\\Users\\donat\\miniconda3\\envs\\test3\\Lib\\site-packages\\sklearn\\linear_model\\_logistic.py:469: ConvergenceWarning: lbfgs failed to converge (status=1):\n",
      "STOP: TOTAL NO. of ITERATIONS REACHED LIMIT.\n",
      "\n",
      "Increase the number of iterations (max_iter) or scale the data as shown in:\n",
      "    https://scikit-learn.org/stable/modules/preprocessing.html\n",
      "Please also refer to the documentation for alternative solver options:\n",
      "    https://scikit-learn.org/stable/modules/linear_model.html#logistic-regression\n",
      "  n_iter_i = _check_optimize_result(\n"
     ]
    },
    {
     "name": "stdout",
     "output_type": "stream",
     "text": [
      "Feature: kmeans_9 | Accuracy: 0.7049\n",
      "Feature: kmeans_10 | Accuracy: 0.7041\n"
     ]
    },
    {
     "name": "stderr",
     "output_type": "stream",
     "text": [
      "C:\\Users\\donat\\miniconda3\\envs\\test3\\Lib\\site-packages\\sklearn\\linear_model\\_logistic.py:469: ConvergenceWarning: lbfgs failed to converge (status=1):\n",
      "STOP: TOTAL NO. of ITERATIONS REACHED LIMIT.\n",
      "\n",
      "Increase the number of iterations (max_iter) or scale the data as shown in:\n",
      "    https://scikit-learn.org/stable/modules/preprocessing.html\n",
      "Please also refer to the documentation for alternative solver options:\n",
      "    https://scikit-learn.org/stable/modules/linear_model.html#logistic-regression\n",
      "  n_iter_i = _check_optimize_result(\n",
      "C:\\Users\\donat\\miniconda3\\envs\\test3\\Lib\\site-packages\\sklearn\\linear_model\\_logistic.py:469: ConvergenceWarning: lbfgs failed to converge (status=1):\n",
      "STOP: TOTAL NO. of ITERATIONS REACHED LIMIT.\n",
      "\n",
      "Increase the number of iterations (max_iter) or scale the data as shown in:\n",
      "    https://scikit-learn.org/stable/modules/preprocessing.html\n",
      "Please also refer to the documentation for alternative solver options:\n",
      "    https://scikit-learn.org/stable/modules/linear_model.html#logistic-regression\n",
      "  n_iter_i = _check_optimize_result(\n"
     ]
    },
    {
     "name": "stdout",
     "output_type": "stream",
     "text": [
      "Feature: kmeans_11 | Accuracy: 0.6873\n",
      "Feature: kmeans_12 | Accuracy: 0.7034\n"
     ]
    },
    {
     "name": "stderr",
     "output_type": "stream",
     "text": [
      "C:\\Users\\donat\\miniconda3\\envs\\test3\\Lib\\site-packages\\sklearn\\linear_model\\_logistic.py:469: ConvergenceWarning: lbfgs failed to converge (status=1):\n",
      "STOP: TOTAL NO. of ITERATIONS REACHED LIMIT.\n",
      "\n",
      "Increase the number of iterations (max_iter) or scale the data as shown in:\n",
      "    https://scikit-learn.org/stable/modules/preprocessing.html\n",
      "Please also refer to the documentation for alternative solver options:\n",
      "    https://scikit-learn.org/stable/modules/linear_model.html#logistic-regression\n",
      "  n_iter_i = _check_optimize_result(\n",
      "C:\\Users\\donat\\miniconda3\\envs\\test3\\Lib\\site-packages\\sklearn\\linear_model\\_logistic.py:469: ConvergenceWarning: lbfgs failed to converge (status=1):\n",
      "STOP: TOTAL NO. of ITERATIONS REACHED LIMIT.\n",
      "\n",
      "Increase the number of iterations (max_iter) or scale the data as shown in:\n",
      "    https://scikit-learn.org/stable/modules/preprocessing.html\n",
      "Please also refer to the documentation for alternative solver options:\n",
      "    https://scikit-learn.org/stable/modules/linear_model.html#logistic-regression\n",
      "  n_iter_i = _check_optimize_result(\n"
     ]
    },
    {
     "name": "stdout",
     "output_type": "stream",
     "text": [
      "Feature: kmeans_13 | Accuracy: 0.6969\n",
      "Feature: kmeans_14 | Accuracy: 0.7114\n"
     ]
    },
    {
     "name": "stderr",
     "output_type": "stream",
     "text": [
      "C:\\Users\\donat\\miniconda3\\envs\\test3\\Lib\\site-packages\\sklearn\\linear_model\\_logistic.py:469: ConvergenceWarning: lbfgs failed to converge (status=1):\n",
      "STOP: TOTAL NO. of ITERATIONS REACHED LIMIT.\n",
      "\n",
      "Increase the number of iterations (max_iter) or scale the data as shown in:\n",
      "    https://scikit-learn.org/stable/modules/preprocessing.html\n",
      "Please also refer to the documentation for alternative solver options:\n",
      "    https://scikit-learn.org/stable/modules/linear_model.html#logistic-regression\n",
      "  n_iter_i = _check_optimize_result(\n",
      "C:\\Users\\donat\\miniconda3\\envs\\test3\\Lib\\site-packages\\sklearn\\linear_model\\_logistic.py:469: ConvergenceWarning: lbfgs failed to converge (status=1):\n",
      "STOP: TOTAL NO. of ITERATIONS REACHED LIMIT.\n",
      "\n",
      "Increase the number of iterations (max_iter) or scale the data as shown in:\n",
      "    https://scikit-learn.org/stable/modules/preprocessing.html\n",
      "Please also refer to the documentation for alternative solver options:\n",
      "    https://scikit-learn.org/stable/modules/linear_model.html#logistic-regression\n",
      "  n_iter_i = _check_optimize_result(\n"
     ]
    },
    {
     "name": "stdout",
     "output_type": "stream",
     "text": [
      "Feature: kmeans_15 | Accuracy: 0.7072\n",
      "Feature: kmeans_16 | Accuracy: 0.6919\n"
     ]
    },
    {
     "name": "stderr",
     "output_type": "stream",
     "text": [
      "C:\\Users\\donat\\miniconda3\\envs\\test3\\Lib\\site-packages\\sklearn\\linear_model\\_logistic.py:469: ConvergenceWarning: lbfgs failed to converge (status=1):\n",
      "STOP: TOTAL NO. of ITERATIONS REACHED LIMIT.\n",
      "\n",
      "Increase the number of iterations (max_iter) or scale the data as shown in:\n",
      "    https://scikit-learn.org/stable/modules/preprocessing.html\n",
      "Please also refer to the documentation for alternative solver options:\n",
      "    https://scikit-learn.org/stable/modules/linear_model.html#logistic-regression\n",
      "  n_iter_i = _check_optimize_result(\n",
      "C:\\Users\\donat\\miniconda3\\envs\\test3\\Lib\\site-packages\\sklearn\\linear_model\\_logistic.py:469: ConvergenceWarning: lbfgs failed to converge (status=1):\n",
      "STOP: TOTAL NO. of ITERATIONS REACHED LIMIT.\n",
      "\n",
      "Increase the number of iterations (max_iter) or scale the data as shown in:\n",
      "    https://scikit-learn.org/stable/modules/preprocessing.html\n",
      "Please also refer to the documentation for alternative solver options:\n",
      "    https://scikit-learn.org/stable/modules/linear_model.html#logistic-regression\n",
      "  n_iter_i = _check_optimize_result(\n"
     ]
    },
    {
     "name": "stdout",
     "output_type": "stream",
     "text": [
      "Feature: kmeans_17 | Accuracy: 0.6988\n",
      "Feature: kmeans_18 | Accuracy: 0.7030\n"
     ]
    },
    {
     "name": "stderr",
     "output_type": "stream",
     "text": [
      "C:\\Users\\donat\\miniconda3\\envs\\test3\\Lib\\site-packages\\sklearn\\linear_model\\_logistic.py:469: ConvergenceWarning: lbfgs failed to converge (status=1):\n",
      "STOP: TOTAL NO. of ITERATIONS REACHED LIMIT.\n",
      "\n",
      "Increase the number of iterations (max_iter) or scale the data as shown in:\n",
      "    https://scikit-learn.org/stable/modules/preprocessing.html\n",
      "Please also refer to the documentation for alternative solver options:\n",
      "    https://scikit-learn.org/stable/modules/linear_model.html#logistic-regression\n",
      "  n_iter_i = _check_optimize_result(\n",
      "C:\\Users\\donat\\miniconda3\\envs\\test3\\Lib\\site-packages\\sklearn\\linear_model\\_logistic.py:469: ConvergenceWarning: lbfgs failed to converge (status=1):\n",
      "STOP: TOTAL NO. of ITERATIONS REACHED LIMIT.\n",
      "\n",
      "Increase the number of iterations (max_iter) or scale the data as shown in:\n",
      "    https://scikit-learn.org/stable/modules/preprocessing.html\n",
      "Please also refer to the documentation for alternative solver options:\n",
      "    https://scikit-learn.org/stable/modules/linear_model.html#logistic-regression\n",
      "  n_iter_i = _check_optimize_result(\n"
     ]
    },
    {
     "name": "stdout",
     "output_type": "stream",
     "text": [
      "Feature: kmeans_19 | Accuracy: 0.6953\n",
      "Feature: kmeans_20 | Accuracy: 0.6965\n",
      "\n",
      "Best model: kmeans_3 | Accuracy: 0.7421\n"
     ]
    },
    {
     "data": {
      "image/png": "[encoded data removed]",
      "text/plain": [
       "<Figure size 640x480 with 2 Axes>"
      ]
     },
     "metadata": {},
     "output_type": "display_data"
    },
    {
     "name": "stdout",
     "output_type": "stream",
     "text": [
      "\n",
      "Precision for each snail genus with the best model:\n",
      "   Precision\n",
      "0   0.704545\n",
      "1   0.686957\n",
      "2   0.720251\n",
      "3   0.689003\n",
      "4   0.840391\n",
      "5   0.704348\n",
      "6   0.858173\n",
      "\n",
      "The easiest snail genus to predict with the best model is: 6\n",
      "\n",
      "The genus with the largest improvement in prediction is: 6\n",
      "Improvement in precision: -0.0296\n"
     ]
    }
   ],
   "source": [
    "# Define or load plant_clusters:the code uses the KMeans clustering algorithm to group the plant features into clusters\n",
    "plant_clusters = {}\n",
    "for i in range(1, 21):  # 20 clustering results using KMeans\n",
    "    kmeans = KMeans(n_clusters=i, random_state=42)\n",
    "    clusters = kmeans.fit_predict(X)\n",
    "    plant_clusters[f'kmeans_{i}'] = clusters\n",
    "\n",
    "# Validate plant_clusters structure\n",
    "assert isinstance(plant_clusters, dict), \"plant_clusters must be a dictionary\"\n",
    "assert len(plant_clusters) >= 20, \"plant_clusters must contain at least 20 entries\"\n",
    "assert len(set(len(v) for v in plant_clusters.values())) == 1, \"All cluster label lists must have the same length\"\n",
    "\n",
    "# Step 1: Create a dictionary to store accuracy values for each model\n",
    "accuracy_results = {}\n",
    "\n",
    "# Step 2: Iterate over each plant clustering result and evaluate the logistic regression model\n",
    "for key, clusters in plant_clusters.items():\n",
    "    # Add the cluster labels as a new feature to the feature matrix X\n",
    "    XX = X.copy()\n",
    "    XX['plant_cluster'] = clusters  # Add the clustering labels as a new column\n",
    "\n",
    "    # Step 3: Train logistic regression model with XX\n",
    "    model = LogisticRegression(random_state=42, max_iter=200)\n",
    "    model.fit(XX, y)\n",
    "\n",
    "    # Step 4: Calculate and store accuracy for the model\n",
    "    y_pred = model.predict(XX)\n",
    "    accuracy = accuracy_score(y, y_pred)\n",
    "    accuracy_results[key] = accuracy\n",
    "\n",
    "    # Step 5: Print out the feature added and its model accuracy\n",
    "    print(f\"Feature: {key} | Accuracy: {accuracy:.4f}\")\n",
    "\n",
    "# Step 6: Identify the best model (highest accuracy)\n",
    "best_model_key = max(accuracy_results, key=accuracy_results.get)\n",
    "best_accuracy = accuracy_results[best_model_key]\n",
    "print(f\"\\nBest model: {best_model_key} | Accuracy: {best_accuracy:.4f}\")\n",
    "\n",
    "# Step 7: Plot confusion matrix for the best model\n",
    "XX_best = X.copy()\n",
    "XX_best['plant_cluster'] = plant_clusters[best_model_key]\n",
    "best_model = LogisticRegression(random_state=42, max_iter=200)\n",
    "best_model.fit(XX_best, y)\n",
    "y_pred_best = best_model.predict(XX_best)\n",
    "\n",
    "# Confusion matrix\n",
    "cm_best = confusion_matrix(y, y_pred_best)\n",
    "disp_best = ConfusionMatrixDisplay(confusion_matrix=cm_best, display_labels=best_model.classes_)\n",
    "disp_best.plot(cmap='coolwarm', values_format='d')\n",
    "plt.title(\"Confusion Matrix for Best Model\")\n",
    "plt.show()\n",
    "\n",
    "# Step 8: Calculate precision for each snail genus for the best model\n",
    "precision_best = precision_score(y, y_pred_best, average=None)\n",
    "precision_best_df = pd.DataFrame(precision_best, index=best_model.classes_, columns=[\"Precision\"])\n",
    "print(\"\\nPrecision for each snail genus with the best model:\")\n",
    "print(precision_best_df)\n",
    "\n",
    "# Step 9: Identify the easiest genus to predict (highest precision)\n",
    "easiest_genus = precision_best_df.idxmax().iloc[0]\n",
    "print(f\"\\nThe easiest snail genus to predict with the best model is: {easiest_genus}\")\n",
    "\n",
    "# Step 10: Calculate improvement in precision for each genus compared to previous model (Task 3)\n",
    "previous_precision = np.array([0.85, 0.90, 0.92, 0.88, 0.87, 0.89, 0.91])  # Example values, adjust as needed\n",
    "assert len(previous_precision) == len(precision_best), \"Previous precision array must match the number of classes\"\n",
    "\n",
    "# Calculate improvement\n",
    "precision_improvement = precision_best - previous_precision\n",
    "\n",
    "# Genus with the largest improvement\n",
    "largest_improvement_genus = precision_best_df.idxmax(axis=0).iloc[0]\n",
    "largest_improvement_value = precision_improvement.max()\n",
    "\n",
    "print(f\"\\nThe genus with the largest improvement in prediction is: {largest_improvement_genus}\")\n",
    "print(f\"Improvement in precision: {largest_improvement_value:.4f}\")\n"
   ]
  },
  {
   "cell_type": "code",
   "execution_count": 11,
   "metadata": {
    "id": "YVUayp7O9gMM"
   },
   "outputs": [],
   "source": [
    "assert type(plant_clusters) == dict\n",
    "assert len(plant_clusters) >= 20\n",
    "assert len(set([len(x) for x in plant_clusters.values()])) == 1"
   ]
  },
  {
   "cell_type": "markdown",
   "metadata": {
    "id": "FkPk1Sy72uzL"
   },
   "source": [
    "## Task 5.\n",
    "\n",
    "For each plant clustering result from Task 4, check if it improves the accuracy of logistic regression.\n",
    "\n",
    "- *(3 points)* For each feature in `plant_clusters`:\n",
    "  - Create a new variable `XX` containing the `X` from Task 3 but joined with this new feature. If the shape of `X` was (M, N), then the shape of `XX` should be (M, N+1).\n",
    "  - Create and fit a new logistic regression model on `XX` and the same `y` from Task 3.\n",
    "  - Obtain model accuracy.\n",
    "  - Print out the name of the added feature (key from `plant_clusters`) and the accuracy of the resulting predictions.\n",
    "\n",
    "- *(2 points)* Choose the model with highest accuracy and plot a confusion matrix for it.\n",
    "  - The best model should be selected automatically by saving all accuracy values and finding the highest one!\n",
    "\n",
    "- *(1 point)* Print out precision metric again for each snail genus. Which genus is the easiest to predict with the new model? Calculate which genus got the biggest improvement in prediction."
   ]
  },
  {
   "cell_type": "code",
   "execution_count": 12,
   "metadata": {
    "id": "4PdFiVvt7ese"
   },
   "outputs": [
    {
     "name": "stdout",
     "output_type": "stream",
     "text": [
      "Feature: kmeans_1 | Accuracy: 0.6995\n",
      "Feature: kmeans_2 | Accuracy: 0.6949\n",
      "Feature: kmeans_3 | Accuracy: 0.7421\n",
      "Feature: kmeans_4 | Accuracy: 0.7306\n",
      "Feature: kmeans_5 | Accuracy: 0.7187\n",
      "Feature: kmeans_6 | Accuracy: 0.7087\n",
      "Feature: kmeans_7 | Accuracy: 0.6965\n",
      "Feature: kmeans_8 | Accuracy: 0.7283\n",
      "Feature: kmeans_9 | Accuracy: 0.7049\n"
     ]
    },
    {
     "name": "stderr",
     "output_type": "stream",
     "text": [
      "C:\\Users\\donat\\miniconda3\\envs\\test3\\Lib\\site-packages\\sklearn\\linear_model\\_logistic.py:469: ConvergenceWarning: lbfgs failed to converge (status=1):\n",
      "STOP: TOTAL NO. of ITERATIONS REACHED LIMIT.\n",
      "\n",
      "Increase the number of iterations (max_iter) or scale the data as shown in:\n",
      "    https://scikit-learn.org/stable/modules/preprocessing.html\n",
      "Please also refer to the documentation for alternative solver options:\n",
      "    https://scikit-learn.org/stable/modules/linear_model.html#logistic-regression\n",
      "  n_iter_i = _check_optimize_result(\n",
      "C:\\Users\\donat\\miniconda3\\envs\\test3\\Lib\\site-packages\\sklearn\\linear_model\\_logistic.py:469: ConvergenceWarning: lbfgs failed to converge (status=1):\n",
      "STOP: TOTAL NO. of ITERATIONS REACHED LIMIT.\n",
      "\n",
      "Increase the number of iterations (max_iter) or scale the data as shown in:\n",
      "    https://scikit-learn.org/stable/modules/preprocessing.html\n",
      "Please also refer to the documentation for alternative solver options:\n",
      "    https://scikit-learn.org/stable/modules/linear_model.html#logistic-regression\n",
      "  n_iter_i = _check_optimize_result(\n"
     ]
    },
    {
     "name": "stdout",
     "output_type": "stream",
     "text": [
      "Feature: kmeans_10 | Accuracy: 0.7041\n"
     ]
    },
    {
     "name": "stderr",
     "output_type": "stream",
     "text": [
      "C:\\Users\\donat\\miniconda3\\envs\\test3\\Lib\\site-packages\\sklearn\\linear_model\\_logistic.py:469: ConvergenceWarning: lbfgs failed to converge (status=1):\n",
      "STOP: TOTAL NO. of ITERATIONS REACHED LIMIT.\n",
      "\n",
      "Increase the number of iterations (max_iter) or scale the data as shown in:\n",
      "    https://scikit-learn.org/stable/modules/preprocessing.html\n",
      "Please also refer to the documentation for alternative solver options:\n",
      "    https://scikit-learn.org/stable/modules/linear_model.html#logistic-regression\n",
      "  n_iter_i = _check_optimize_result(\n"
     ]
    },
    {
     "name": "stdout",
     "output_type": "stream",
     "text": [
      "Feature: kmeans_11 | Accuracy: 0.6873\n"
     ]
    },
    {
     "name": "stderr",
     "output_type": "stream",
     "text": [
      "C:\\Users\\donat\\miniconda3\\envs\\test3\\Lib\\site-packages\\sklearn\\linear_model\\_logistic.py:469: ConvergenceWarning: lbfgs failed to converge (status=1):\n",
      "STOP: TOTAL NO. of ITERATIONS REACHED LIMIT.\n",
      "\n",
      "Increase the number of iterations (max_iter) or scale the data as shown in:\n",
      "    https://scikit-learn.org/stable/modules/preprocessing.html\n",
      "Please also refer to the documentation for alternative solver options:\n",
      "    https://scikit-learn.org/stable/modules/linear_model.html#logistic-regression\n",
      "  n_iter_i = _check_optimize_result(\n",
      "C:\\Users\\donat\\miniconda3\\envs\\test3\\Lib\\site-packages\\sklearn\\linear_model\\_logistic.py:469: ConvergenceWarning: lbfgs failed to converge (status=1):\n",
      "STOP: TOTAL NO. of ITERATIONS REACHED LIMIT.\n",
      "\n",
      "Increase the number of iterations (max_iter) or scale the data as shown in:\n",
      "    https://scikit-learn.org/stable/modules/preprocessing.html\n",
      "Please also refer to the documentation for alternative solver options:\n",
      "    https://scikit-learn.org/stable/modules/linear_model.html#logistic-regression\n",
      "  n_iter_i = _check_optimize_result(\n"
     ]
    },
    {
     "name": "stdout",
     "output_type": "stream",
     "text": [
      "Feature: kmeans_12 | Accuracy: 0.7034\n",
      "Feature: kmeans_13 | Accuracy: 0.6969\n"
     ]
    },
    {
     "name": "stderr",
     "output_type": "stream",
     "text": [
      "C:\\Users\\donat\\miniconda3\\envs\\test3\\Lib\\site-packages\\sklearn\\linear_model\\_logistic.py:469: ConvergenceWarning: lbfgs failed to converge (status=1):\n",
      "STOP: TOTAL NO. of ITERATIONS REACHED LIMIT.\n",
      "\n",
      "Increase the number of iterations (max_iter) or scale the data as shown in:\n",
      "    https://scikit-learn.org/stable/modules/preprocessing.html\n",
      "Please also refer to the documentation for alternative solver options:\n",
      "    https://scikit-learn.org/stable/modules/linear_model.html#logistic-regression\n",
      "  n_iter_i = _check_optimize_result(\n",
      "C:\\Users\\donat\\miniconda3\\envs\\test3\\Lib\\site-packages\\sklearn\\linear_model\\_logistic.py:469: ConvergenceWarning: lbfgs failed to converge (status=1):\n",
      "STOP: TOTAL NO. of ITERATIONS REACHED LIMIT.\n",
      "\n",
      "Increase the number of iterations (max_iter) or scale the data as shown in:\n",
      "    https://scikit-learn.org/stable/modules/preprocessing.html\n",
      "Please also refer to the documentation for alternative solver options:\n",
      "    https://scikit-learn.org/stable/modules/linear_model.html#logistic-regression\n",
      "  n_iter_i = _check_optimize_result(\n"
     ]
    },
    {
     "name": "stdout",
     "output_type": "stream",
     "text": [
      "Feature: kmeans_14 | Accuracy: 0.7114\n",
      "Feature: kmeans_15 | Accuracy: 0.7072\n"
     ]
    },
    {
     "name": "stderr",
     "output_type": "stream",
     "text": [
      "C:\\Users\\donat\\miniconda3\\envs\\test3\\Lib\\site-packages\\sklearn\\linear_model\\_logistic.py:469: ConvergenceWarning: lbfgs failed to converge (status=1):\n",
      "STOP: TOTAL NO. of ITERATIONS REACHED LIMIT.\n",
      "\n",
      "Increase the number of iterations (max_iter) or scale the data as shown in:\n",
      "    https://scikit-learn.org/stable/modules/preprocessing.html\n",
      "Please also refer to the documentation for alternative solver options:\n",
      "    https://scikit-learn.org/stable/modules/linear_model.html#logistic-regression\n",
      "  n_iter_i = _check_optimize_result(\n",
      "C:\\Users\\donat\\miniconda3\\envs\\test3\\Lib\\site-packages\\sklearn\\linear_model\\_logistic.py:469: ConvergenceWarning: lbfgs failed to converge (status=1):\n",
      "STOP: TOTAL NO. of ITERATIONS REACHED LIMIT.\n",
      "\n",
      "Increase the number of iterations (max_iter) or scale the data as shown in:\n",
      "    https://scikit-learn.org/stable/modules/preprocessing.html\n",
      "Please also refer to the documentation for alternative solver options:\n",
      "    https://scikit-learn.org/stable/modules/linear_model.html#logistic-regression\n",
      "  n_iter_i = _check_optimize_result(\n"
     ]
    },
    {
     "name": "stdout",
     "output_type": "stream",
     "text": [
      "Feature: kmeans_16 | Accuracy: 0.6919\n",
      "Feature: kmeans_17 | Accuracy: 0.6988\n"
     ]
    },
    {
     "name": "stderr",
     "output_type": "stream",
     "text": [
      "C:\\Users\\donat\\miniconda3\\envs\\test3\\Lib\\site-packages\\sklearn\\linear_model\\_logistic.py:469: ConvergenceWarning: lbfgs failed to converge (status=1):\n",
      "STOP: TOTAL NO. of ITERATIONS REACHED LIMIT.\n",
      "\n",
      "Increase the number of iterations (max_iter) or scale the data as shown in:\n",
      "    https://scikit-learn.org/stable/modules/preprocessing.html\n",
      "Please also refer to the documentation for alternative solver options:\n",
      "    https://scikit-learn.org/stable/modules/linear_model.html#logistic-regression\n",
      "  n_iter_i = _check_optimize_result(\n",
      "C:\\Users\\donat\\miniconda3\\envs\\test3\\Lib\\site-packages\\sklearn\\linear_model\\_logistic.py:469: ConvergenceWarning: lbfgs failed to converge (status=1):\n",
      "STOP: TOTAL NO. of ITERATIONS REACHED LIMIT.\n",
      "\n",
      "Increase the number of iterations (max_iter) or scale the data as shown in:\n",
      "    https://scikit-learn.org/stable/modules/preprocessing.html\n",
      "Please also refer to the documentation for alternative solver options:\n",
      "    https://scikit-learn.org/stable/modules/linear_model.html#logistic-regression\n",
      "  n_iter_i = _check_optimize_result(\n"
     ]
    },
    {
     "name": "stdout",
     "output_type": "stream",
     "text": [
      "Feature: kmeans_18 | Accuracy: 0.7030\n",
      "Feature: kmeans_19 | Accuracy: 0.6953\n"
     ]
    },
    {
     "name": "stderr",
     "output_type": "stream",
     "text": [
      "C:\\Users\\donat\\miniconda3\\envs\\test3\\Lib\\site-packages\\sklearn\\linear_model\\_logistic.py:469: ConvergenceWarning: lbfgs failed to converge (status=1):\n",
      "STOP: TOTAL NO. of ITERATIONS REACHED LIMIT.\n",
      "\n",
      "Increase the number of iterations (max_iter) or scale the data as shown in:\n",
      "    https://scikit-learn.org/stable/modules/preprocessing.html\n",
      "Please also refer to the documentation for alternative solver options:\n",
      "    https://scikit-learn.org/stable/modules/linear_model.html#logistic-regression\n",
      "  n_iter_i = _check_optimize_result(\n"
     ]
    },
    {
     "name": "stdout",
     "output_type": "stream",
     "text": [
      "Feature: kmeans_20 | Accuracy: 0.6965\n",
      "\n",
      "Best model: kmeans_3 | Accuracy: 0.7421\n"
     ]
    },
    {
     "data": {
      "image/png": "[encoded data removed]",
      "text/plain": [
       "<Figure size 640x480 with 2 Axes>"
      ]
     },
     "metadata": {},
     "output_type": "display_data"
    },
    {
     "name": "stdout",
     "output_type": "stream",
     "text": [
      "\n",
      "Precision for each snail genus with the best model:\n",
      "   Precision\n",
      "0   0.704545\n",
      "1   0.686957\n",
      "2   0.720251\n",
      "3   0.689003\n",
      "4   0.840391\n",
      "5   0.704348\n",
      "6   0.858173\n",
      "\n",
      "The easiest snail genus to predict with the best model is: 6\n",
      "\n",
      "The genus with the largest improvement in prediction is: 4\n",
      "Improvement in precision: -0.0296\n"
     ]
    },
    {
     "name": "stderr",
     "output_type": "stream",
     "text": [
      "C:\\Users\\donat\\AppData\\Local\\Temp\\ipykernel_22788\\3122553258.py:51: FutureWarning: Series.__getitem__ treating keys as positions is deprecated. In a future version, integer keys will always be treated as labels (consistent with DataFrame behavior). To access a value by position, use `ser.iloc[pos]`\n",
      "  easiest_genus = precision_best_df.idxmax()[0]\n"
     ]
    }
   ],
   "source": [
    "# Define the column name to predict\n",
    "to_predict = 'snail_genus'\n",
    "\n",
    "# Step 1: Create a dictionary to store accuracy values for each model\n",
    "accuracy_results = {}\n",
    "\n",
    "# Step 2: Iterate over each plant clustering result and evaluate the logistic regression model\n",
    "for key, clusters in plant_clusters.items():\n",
    "    # Add the cluster labels as a new feature to the feature matrix X\n",
    "    XX = X.copy()\n",
    "    XX['plant_cluster'] = clusters  # Add the clustering labels as a new column\n",
    "\n",
    "    # Step 3: Train logistic regression model with XX\n",
    "    model = LogisticRegression(random_state=42, max_iter=200)  # Ensure same random state for reproducibility\n",
    "    model.fit(XX, y)\n",
    "\n",
    "    # Step 4: Calculate and store accuracy for the model\n",
    "    y_pred = model.predict(XX)\n",
    "    accuracy = accuracy_score(y, y_pred)\n",
    "    accuracy_results[key] = accuracy\n",
    "\n",
    "    # Step 5: Print out the feature added and its model accuracy\n",
    "    print(f\"Feature: {key} | Accuracy: {accuracy:.4f}\")\n",
    "\n",
    "# Step 6: Identify the best model (highest accuracy)\n",
    "best_model_key = max(accuracy_results, key=accuracy_results.get)\n",
    "best_accuracy = accuracy_results[best_model_key]\n",
    "print(f\"\\nBest model: {best_model_key} | Accuracy: {best_accuracy:.4f}\")\n",
    "\n",
    "# Step 7: Plot confusion matrix for the best model\n",
    "XX_best = X.copy()\n",
    "XX_best['plant_cluster'] = plant_clusters[best_model_key]  # Add the best clustering result as feature\n",
    "best_model = LogisticRegression(random_state=42, max_iter=200)\n",
    "best_model.fit(XX_best, y)\n",
    "y_pred_best = best_model.predict(XX_best)\n",
    "\n",
    "# Confusion matrix\n",
    "cm_best = confusion_matrix(y, y_pred_best)\n",
    "disp_best = ConfusionMatrixDisplay(confusion_matrix=cm_best, display_labels=best_model.classes_)\n",
    "disp_best.plot(cmap='Blues', values_format='d')\n",
    "plt.title(\"Confusion Matrix for Best Model\")\n",
    "plt.show()\n",
    "\n",
    "# Step 8: Calculate precision for each snail genus for the best model\n",
    "precision_best = precision_score(y, y_pred_best, average=None)\n",
    "precision_best_df = pd.DataFrame(precision_best, index=best_model.classes_, columns=[\"Precision\"])\n",
    "print(\"\\nPrecision for each snail genus with the best model:\")\n",
    "print(precision_best_df)\n",
    "\n",
    "# Step 9: Identify the easiest genus to predict (highest precision)\n",
    "easiest_genus = precision_best_df.idxmax()[0]\n",
    "print(f\"\\nThe easiest snail genus to predict with the best model is: {easiest_genus}\")\n",
    "\n",
    "# Step 10: Calculate improvement in precision for each genus compared to previous model (Task 3)\n",
    "\n",
    "# Ensure previous_precision has the same length as precision_best\n",
    "# Update previous_precision to have 7 values (example values, update based on your data)\n",
    "previous_precision = np.array([0.85, 0.90, 0.92, 0.88, 0.87, 0.89, 0.91])  # Example values\n",
    "\n",
    "# Validate the shapes\n",
    "assert len(previous_precision) == len(precision_best), (\n",
    "    f\"Mismatch in number of classes: previous_precision has {len(previous_precision)} elements, \"\n",
    "    f\"but precision_best has {len(precision_best)}.\"\n",
    ")\n",
    "\n",
    "# Calculate improvement\n",
    "precision_improvement = precision_best - previous_precision\n",
    "\n",
    "# Identify the genus with the largest improvement\n",
    "largest_improvement_index = np.argmax(precision_improvement)\n",
    "largest_improvement_genus = best_model.classes_[largest_improvement_index]\n",
    "largest_improvement_value = precision_improvement[largest_improvement_index]\n",
    "\n",
    "print(f\"\\nThe genus with the largest improvement in prediction is: {largest_improvement_genus}\")\n",
    "print(f\"Improvement in precision: {largest_improvement_value:.4f}\")\n"
   ]
  },
  {
   "cell_type": "markdown",
   "metadata": {
    "id": "uIs2_7y5F6MP"
   },
   "source": [
    "## Bonus: Task 6.\n",
    "\n",
    "*(5 points)* By using any models from Scikit-learn, get a model which can predict snail genera with accuracy higher than 90%. For this task, you are free to try anything you want, including new feature generation or creating pipelines of models. The only rules are:\n",
    "- You cannot use any other dataset files except for `hw3_data.csv`.\n",
    "- The result should be reproducible (use fixed seeds for all random states).\n",
    "- The column with snail genera should not be used in any way for model training. So, for example, if you use PCA on dataset, make sure to drop this column beforehand so its information won't be leaked into the result."
   ]
  },
  {
   "cell_type": "code",
   "execution_count": null,
   "metadata": {
    "id": "3nL5j6lxGjHg"
   },
   "outputs": [],
   "source": [
    "# bonus code"
   ]
  }
 ],
 "metadata": {
  "colab": {
   "provenance": []
  },
  "kernelspec": {
   "display_name": "Python 3 (ipykernel)",
   "language": "python",
   "name": "python3"
  },
  "language_info": {
   "codemirror_mode": {
    "name": "ipython",
    "version": 3
   },
   "file_extension": ".py",
   "mimetype": "text/x-python",
   "name": "python",
   "nbconvert_exporter": "python",
   "pygments_lexer": "ipython3",
   "version": "3.12.4"
  }
 },
 "nbformat": 4,
 "nbformat_minor": 4
}
