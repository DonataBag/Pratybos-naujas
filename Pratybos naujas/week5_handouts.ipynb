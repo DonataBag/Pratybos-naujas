{
 "cells": [
  {
   "cell_type": "markdown",
   "metadata": {
    "id": "r4PQ5r9T13jE"
   },
   "source": [
    "# Week 5\n",
    "(Hopefully shorter due to a longer lecture)\n",
    "\n",
    "## Errors\n",
    "\n",
    "In Python, code that can't run correctly is often indicated by various [exceptions](https://docs.python.org/3/library/exceptions.html). Exceptions can be **raised** in various circumstances - probably the most common is `SyntaxError`, raised when you're missing a semicolon, comma, or other parts of the syntax.\n",
    "\n",
    "Raising errors can address potential problems in code **without crashing** it. Common syntax is this:\n",
    "\n",
    "```python\n",
    "try:\n",
    "  print(int(var))\n",
    "except ValueError:\n",
    "  #code to run in case a specific exception (ValueError) was raised\n",
    "  print('Please input a valid value!')\n",
    "```"
   ]
  },
  {
   "cell_type": "code",
   "execution_count": 1,
   "metadata": {},
   "outputs": [
    {
     "ename": "ValueError",
     "evalue": "",
     "output_type": "error",
     "traceback": [
      "\u001b[1;31m---------------------------------------------------------------------------\u001b[0m",
      "\u001b[1;31mValueError\u001b[0m                                Traceback (most recent call last)",
      "Cell \u001b[1;32mIn[1], line 1\u001b[0m\n\u001b[1;32m----> 1\u001b[0m \u001b[38;5;28;01mraise\u001b[39;00m \u001b[38;5;167;01mValueError\u001b[39;00m\n",
      "\u001b[1;31mValueError\u001b[0m: "
     ]
    }
   ],
   "source": []
  },
  {
   "cell_type": "markdown",
   "metadata": {},
   "source": [
    "##Notes\n",
    "try and except handled exceptions. Mes sukuriame kodą, kuris mums duoda ne error, bet reikšmę ir mes žinome ką galime pataisyti.\n",
    " "
   ]
  },
  {
   "cell_type": "markdown",
   "metadata": {
    "id": "I5J1GHxodvqU"
   },
   "source": [
    "## Exercises\n",
    "Below are examples of buggy functions. Address these bugs by using exceptions to make sure it runs until the end."
   ]
  },
  {
   "cell_type": "code",
   "execution_count": 2,
   "metadata": {
    "colab": {
     "base_uri": "https://localhost:8080/",
     "height": 280
    },
    "id": "Ldnw18nqdna4",
    "outputId": "5d88a241-a320-4c60-8f8d-b1d28efb4c27"
   },
   "outputs": [
    {
     "name": "stdout",
     "output_type": "stream",
     "text": [
      "Error ocupied, please input a number\n",
      "None\n"
     ]
    }
   ],
   "source": [
    "def to_integer(var):\n",
    "    try:\n",
    "      return int(var)\n",
    "    except ValueError:\n",
    "        print('Error ocupied, please input a number')\n",
    "        \n",
    "print(to_integer('seven'))"
   ]
  },
  {
   "cell_type": "code",
   "execution_count": 31,
   "metadata": {
    "colab": {
     "base_uri": "https://localhost:8080/",
     "height": 297
    },
    "id": "EK8x6PiHe5Le",
    "outputId": "29443c55-af24-4a92-fe27-8a8ed578f5f7"
   },
   "outputs": [
    {
     "ename": "IndentationError",
     "evalue": "unindent does not match any outer indentation level (<string>, line 3)",
     "output_type": "error",
     "traceback": [
      "\u001b[1;36m  File \u001b[1;32m<string>:3\u001b[1;36m\u001b[0m\n\u001b[1;33m    for number in numbers:\u001b[0m\n\u001b[1;37m                          ^\u001b[0m\n\u001b[1;31mIndentationError\u001b[0m\u001b[1;31m:\u001b[0m unindent does not match any outer indentation level\n"
     ]
    }
   ],
   "source": [
    "def divide_multiple_numbers(numbers, divisor):\n",
    "    result = []\n",
    "  for number in numbers:\n",
    "    try:\n",
    "        result.append(number / divisor)\n",
    "    except ZeroDivisionError:\n",
    "        print('Error found')\n",
    "  return result\n",
    "\n",
    "print(divide_multiple_numbers([1, 2, 3, 4], 0))"
   ]
  },
  {
   "cell_type": "code",
   "execution_count": null,
   "metadata": {
    "colab": {
     "base_uri": "https://localhost:8080/",
     "height": 297
    },
    "id": "dkzZP-ucfWGO",
    "outputId": "56ca0005-74c2-465f-e80c-6cb17b5a0e33"
   },
   "outputs": [
    {
     "ename": "TypeError",
     "evalue": "can only concatenate str (not \"int\") to str",
     "output_type": "error",
     "traceback": [
      "\u001b[0;31m---------------------------------------------------------------------------\u001b[0m",
      "\u001b[0;31mTypeError\u001b[0m                                 Traceback (most recent call last)",
      "\u001b[0;32m<ipython-input-7-801e240dcfac>\u001b[0m in \u001b[0;36m<cell line: 8>\u001b[0;34m()\u001b[0m\n\u001b[1;32m      6\u001b[0m \u001b[0;34m\u001b[0m\u001b[0m\n\u001b[1;32m      7\u001b[0m \u001b[0mjoin_words\u001b[0m\u001b[0;34m(\u001b[0m\u001b[0;34m[\u001b[0m\u001b[0;34m'this'\u001b[0m\u001b[0;34m,\u001b[0m \u001b[0;34m'is'\u001b[0m\u001b[0;34m,\u001b[0m \u001b[0;34m'a'\u001b[0m\u001b[0;34m,\u001b[0m \u001b[0;34m'sentence'\u001b[0m\u001b[0;34m]\u001b[0m\u001b[0;34m)\u001b[0m\u001b[0;34m\u001b[0m\u001b[0;34m\u001b[0m\u001b[0m\n\u001b[0;32m----> 8\u001b[0;31m \u001b[0mjoin_words\u001b[0m\u001b[0;34m(\u001b[0m\u001b[0;34m[\u001b[0m\u001b[0;34m'I'\u001b[0m\u001b[0;34m,\u001b[0m \u001b[0;34m'have'\u001b[0m\u001b[0;34m,\u001b[0m \u001b[0;36m2\u001b[0m\u001b[0;34m,\u001b[0m \u001b[0;34m'cats'\u001b[0m\u001b[0;34m]\u001b[0m\u001b[0;34m)\u001b[0m\u001b[0;34m\u001b[0m\u001b[0;34m\u001b[0m\u001b[0m\n\u001b[0m",
      "\u001b[0;32m<ipython-input-7-801e240dcfac>\u001b[0m in \u001b[0;36mjoin_words\u001b[0;34m(words)\u001b[0m\n\u001b[1;32m      2\u001b[0m   \u001b[0mresult\u001b[0m \u001b[0;34m=\u001b[0m \u001b[0;34m''\u001b[0m\u001b[0;34m\u001b[0m\u001b[0;34m\u001b[0m\u001b[0m\n\u001b[1;32m      3\u001b[0m   \u001b[0;32mfor\u001b[0m \u001b[0mword\u001b[0m \u001b[0;32min\u001b[0m \u001b[0mwords\u001b[0m\u001b[0;34m:\u001b[0m\u001b[0;34m\u001b[0m\u001b[0;34m\u001b[0m\u001b[0m\n\u001b[0;32m----> 4\u001b[0;31m       \u001b[0mresult\u001b[0m \u001b[0;34m+=\u001b[0m \u001b[0;34m' '\u001b[0m \u001b[0;34m+\u001b[0m \u001b[0mword\u001b[0m\u001b[0;34m\u001b[0m\u001b[0;34m\u001b[0m\u001b[0m\n\u001b[0m\u001b[1;32m      5\u001b[0m   \u001b[0;32mreturn\u001b[0m \u001b[0mresult\u001b[0m\u001b[0;34m\u001b[0m\u001b[0;34m\u001b[0m\u001b[0m\n\u001b[1;32m      6\u001b[0m \u001b[0;34m\u001b[0m\u001b[0m\n",
      "\u001b[0;31mTypeError\u001b[0m: can only concatenate str (not \"int\") to str"
     ]
    }
   ],
   "source": [
    "def join_words(words):\n",
    "  result = ''\n",
    "  for word in words:\n",
    "      result += ' ' + word\n",
    "  return result\n",
    "\n",
    "join_words(['I', 'have', 2, 'cats'])"
   ]
  },
  {
   "cell_type": "code",
   "execution_count": null,
   "metadata": {
    "colab": {
     "base_uri": "https://localhost:8080/",
     "height": 321
    },
    "id": "rCX2lPlK0oLY",
    "outputId": "36c70c59-f052-410d-fe22-2eb654a46574"
   },
   "outputs": [
    {
     "ename": "IndexError",
     "evalue": "list index out of range",
     "output_type": "error",
     "traceback": [
      "\u001b[0;31m---------------------------------------------------------------------------\u001b[0m",
      "\u001b[0;31mIndexError\u001b[0m                                Traceback (most recent call last)",
      "\u001b[0;32m<ipython-input-9-3fc422ac5ddd>\u001b[0m in \u001b[0;36m<cell line: 7>\u001b[0;34m()\u001b[0m\n\u001b[1;32m      5\u001b[0m \u001b[0mnumber_list\u001b[0m \u001b[0;34m=\u001b[0m \u001b[0;34m[\u001b[0m\u001b[0mnum\u001b[0m \u001b[0;32mfor\u001b[0m \u001b[0mnum\u001b[0m \u001b[0;32min\u001b[0m \u001b[0mrange\u001b[0m\u001b[0;34m(\u001b[0m\u001b[0;36m10\u001b[0m\u001b[0;34m)\u001b[0m\u001b[0;34m]\u001b[0m\u001b[0;34m\u001b[0m\u001b[0;34m\u001b[0m\u001b[0m\n\u001b[1;32m      6\u001b[0m \u001b[0;34m\u001b[0m\u001b[0m\n\u001b[0;32m----> 7\u001b[0;31m \u001b[0mevery_2nd_number\u001b[0m\u001b[0;34m(\u001b[0m\u001b[0mnumber_list\u001b[0m\u001b[0;34m)\u001b[0m\u001b[0;34m\u001b[0m\u001b[0;34m\u001b[0m\u001b[0m\n\u001b[0m",
      "\u001b[0;32m<ipython-input-9-3fc422ac5ddd>\u001b[0m in \u001b[0;36mevery_2nd_number\u001b[0;34m(numbers)\u001b[0m\n\u001b[1;32m      1\u001b[0m \u001b[0;32mdef\u001b[0m \u001b[0mevery_2nd_number\u001b[0m\u001b[0;34m(\u001b[0m\u001b[0mnumbers\u001b[0m\u001b[0;34m)\u001b[0m\u001b[0;34m:\u001b[0m\u001b[0;34m\u001b[0m\u001b[0;34m\u001b[0m\u001b[0m\n\u001b[1;32m      2\u001b[0m   \u001b[0mindices\u001b[0m \u001b[0;34m=\u001b[0m \u001b[0;34m[\u001b[0m\u001b[0mi\u001b[0m \u001b[0;32mfor\u001b[0m \u001b[0mi\u001b[0m \u001b[0;32min\u001b[0m \u001b[0mrange\u001b[0m\u001b[0;34m(\u001b[0m\u001b[0;36m20\u001b[0m\u001b[0;34m)\u001b[0m \u001b[0;32mif\u001b[0m \u001b[0mi\u001b[0m \u001b[0;34m%\u001b[0m \u001b[0;36m2\u001b[0m \u001b[0;34m==\u001b[0m \u001b[0;36m0\u001b[0m\u001b[0;34m]\u001b[0m\u001b[0;34m\u001b[0m\u001b[0;34m\u001b[0m\u001b[0m\n\u001b[0;32m----> 3\u001b[0;31m   \u001b[0;32mreturn\u001b[0m \u001b[0;34m[\u001b[0m\u001b[0mnumbers\u001b[0m\u001b[0;34m[\u001b[0m\u001b[0mi\u001b[0m\u001b[0;34m]\u001b[0m \u001b[0;32mfor\u001b[0m \u001b[0mi\u001b[0m \u001b[0;32min\u001b[0m \u001b[0mindices\u001b[0m\u001b[0;34m]\u001b[0m\u001b[0;34m\u001b[0m\u001b[0;34m\u001b[0m\u001b[0m\n\u001b[0m\u001b[1;32m      4\u001b[0m \u001b[0;34m\u001b[0m\u001b[0m\n\u001b[1;32m      5\u001b[0m \u001b[0mnumber_list\u001b[0m \u001b[0;34m=\u001b[0m \u001b[0;34m[\u001b[0m\u001b[0mnum\u001b[0m \u001b[0;32mfor\u001b[0m \u001b[0mnum\u001b[0m \u001b[0;32min\u001b[0m \u001b[0mrange\u001b[0m\u001b[0;34m(\u001b[0m\u001b[0;36m10\u001b[0m\u001b[0;34m)\u001b[0m\u001b[0;34m]\u001b[0m\u001b[0;34m\u001b[0m\u001b[0;34m\u001b[0m\u001b[0m\n",
      "\u001b[0;32m<ipython-input-9-3fc422ac5ddd>\u001b[0m in \u001b[0;36m<listcomp>\u001b[0;34m(.0)\u001b[0m\n\u001b[1;32m      1\u001b[0m \u001b[0;32mdef\u001b[0m \u001b[0mevery_2nd_number\u001b[0m\u001b[0;34m(\u001b[0m\u001b[0mnumbers\u001b[0m\u001b[0;34m)\u001b[0m\u001b[0;34m:\u001b[0m\u001b[0;34m\u001b[0m\u001b[0;34m\u001b[0m\u001b[0m\n\u001b[1;32m      2\u001b[0m   \u001b[0mindices\u001b[0m \u001b[0;34m=\u001b[0m \u001b[0;34m[\u001b[0m\u001b[0mi\u001b[0m \u001b[0;32mfor\u001b[0m \u001b[0mi\u001b[0m \u001b[0;32min\u001b[0m \u001b[0mrange\u001b[0m\u001b[0;34m(\u001b[0m\u001b[0;36m20\u001b[0m\u001b[0;34m)\u001b[0m \u001b[0;32mif\u001b[0m \u001b[0mi\u001b[0m \u001b[0;34m%\u001b[0m \u001b[0;36m2\u001b[0m \u001b[0;34m==\u001b[0m \u001b[0;36m0\u001b[0m\u001b[0;34m]\u001b[0m\u001b[0;34m\u001b[0m\u001b[0;34m\u001b[0m\u001b[0m\n\u001b[0;32m----> 3\u001b[0;31m   \u001b[0;32mreturn\u001b[0m \u001b[0;34m[\u001b[0m\u001b[0mnumbers\u001b[0m\u001b[0;34m[\u001b[0m\u001b[0mi\u001b[0m\u001b[0;34m]\u001b[0m \u001b[0;32mfor\u001b[0m \u001b[0mi\u001b[0m \u001b[0;32min\u001b[0m \u001b[0mindices\u001b[0m\u001b[0;34m]\u001b[0m\u001b[0;34m\u001b[0m\u001b[0;34m\u001b[0m\u001b[0m\n\u001b[0m\u001b[1;32m      4\u001b[0m \u001b[0;34m\u001b[0m\u001b[0m\n\u001b[1;32m      5\u001b[0m \u001b[0mnumber_list\u001b[0m \u001b[0;34m=\u001b[0m \u001b[0;34m[\u001b[0m\u001b[0mnum\u001b[0m \u001b[0;32mfor\u001b[0m \u001b[0mnum\u001b[0m \u001b[0;32min\u001b[0m \u001b[0mrange\u001b[0m\u001b[0;34m(\u001b[0m\u001b[0;36m10\u001b[0m\u001b[0;34m)\u001b[0m\u001b[0;34m]\u001b[0m\u001b[0;34m\u001b[0m\u001b[0;34m\u001b[0m\u001b[0m\n",
      "\u001b[0;31mIndexError\u001b[0m: list index out of range"
     ]
    }
   ],
   "source": [
    "def every_2nd_number(numbers):\n",
    "  indices = [i for i in range(20) if i % 2 == 0]\n",
    "  try:\n",
    "      return [numbers[i] for i in indices]\n",
    "  except IndexError\n",
    "\n",
    "number_list = [num for num in range(10)]\n",
    "\n",
    "every_2nd_number(number_list)"
   ]
  },
  {
   "cell_type": "code",
   "execution_count": 32,
   "metadata": {
    "colab": {
     "base_uri": "https://localhost:8080/",
     "height": 297
    },
    "id": "turYgJHWkR3c",
    "outputId": "31895779-11a6-4caa-d9b8-7f3ee39faa63"
   },
   "outputs": [
    {
     "name": "stdout",
     "output_type": "stream",
     "text": [
      "Alice not flound\n"
     ]
    }
   ],
   "source": [
    "def get_number_of_Alice(phonebook):\n",
    "    try:\n",
    "        return phonebook['Alice']\n",
    "    except KeyError:\n",
    "        print('Alice not flound')\n",
    "\n",
    "phonebook = {\n",
    "    'John' : 865549326,\n",
    "    'Steve': 865959363,\n",
    "    'Stacy' : 865565246,\n",
    "    'Peter': 865587496,\n",
    "    'Mary' : 866217999\n",
    "}\n",
    "\n",
    "get_number_of_Alice(phonebook)"
   ]
  },
  {
   "cell_type": "code",
   "execution_count": 33,
   "metadata": {
    "colab": {
     "base_uri": "https://localhost:8080/",
     "height": 297
    },
    "id": "KxpnxbTGk_v-",
    "outputId": "9b4d7dda-017f-4835-b6d0-9d99df2ff689"
   },
   "outputs": [
    {
     "ename": "IndentationError",
     "evalue": "expected an indented block after 'try' statement on line 2 (2923256760.py, line 3)",
     "output_type": "error",
     "traceback": [
      "\u001b[1;36m  Cell \u001b[1;32mIn[33], line 3\u001b[1;36m\u001b[0m\n\u001b[1;33m    file = open(filename, 'r')\u001b[0m\n\u001b[1;37m    ^\u001b[0m\n\u001b[1;31mIndentationError\u001b[0m\u001b[1;31m:\u001b[0m expected an indented block after 'try' statement on line 2\n"
     ]
    }
   ],
   "source": [
    "def readfile(filename):\n",
    "  try:\n",
    "  file = open(filename, 'r')\n",
    "  content = file.read()\n",
    "  file.close()\n",
    "  return content\n",
    "  except FileNotFoundError:\n",
    "    print('Not found')\n",
    "\n",
    "readfile('test.txt')"
   ]
  },
  {
   "cell_type": "markdown",
   "metadata": {
    "id": "49Aav6Trlsgl"
   },
   "source": [
    "## Working with files\n",
    "\n",
    "Opening files is quite simple in Python. The main function here is **`open()`**, with arguments noting the file name (path) and mode (read, write, etc). This opens a `file` object, which can be read, written to, or appended. Files must be closed to prevent errors and make the file accessible in further code:\n",
    "\n",
    "```python\n",
    "file_name = 'file.txt'\n",
    "mode = 'r'\n",
    "file = open(file_name, mode)\n",
    "file_content  = file.read()\n",
    "file.close()\n",
    "```\n",
    "\n",
    "Another way to do this is using the **`with`** statement, which then requires no `close()` function:\n",
    "```python\n",
    "with open(file_name, mode) as file:\n",
    "  content = file.read()\n",
    "```\n",
    "\n",
    "Files can be read line-by-line using a `for` loop:\n",
    "```python\n",
    "for line in file:\n",
    "  print(line)\n",
    "```\n",
    "\n",
    "Writing to a file is also simple:\n",
    "```python\n",
    "with open('file.txt', 'w') as file:\n",
    "  file.write('Line that will appear in a file')\n",
    "```"
   ]
  },
  {
   "cell_type": "code",
   "execution_count": 38,
   "metadata": {},
   "outputs": [
    {
     "data": {
      "text/plain": [
       "'\\n \\n \\n some text here \\n \\n another line \\n \\n \\n one more \\t line'"
      ]
     },
     "execution_count": 38,
     "metadata": {},
     "output_type": "execute_result"
    }
   ],
   "source": [
    "file = open('text_output.txt', 'r')\n",
    "output = file.read()\n",
    "# file.write('\\n \\n \\n some text here \\n \\n another line \\n \\n \\n one more \\t line')\n",
    "file.close()\n",
    "output"
   ]
  },
  {
   "cell_type": "code",
   "execution_count": 40,
   "metadata": {},
   "outputs": [],
   "source": [
    "with open('text_output.txt', 'r') as file:\n",
    "    output = file.read()\n",
    "    file.closed"
   ]
  },
  {
   "cell_type": "markdown",
   "metadata": {
    "id": "2CuBD-5XotmX"
   },
   "source": [
    "## Exercises\n",
    "1. Write a function that takes a list of measurements formated as tuples and a file name, then writes them to the file as a separate line.\n",
    "```python\n",
    "measurements = [('height', 65.5),\n",
    "     ('width', 12.9),\n",
    "      ('weight', 2.13),\n",
    "       ('color', 'red')]\n",
    "```\n",
    "\n",
    "2. Write a function that adds one extra measurement to the file from before.\n",
    "3. Write a function that reads a `.csv` file, and splits all values into lists. The final output should be a list of rows, which are all lists of values.\n",
    "*For now, run the code below to download and save the csv file*\n",
    "\n",
    "```python\n",
    "!curl -o species.csv https://raw.githubusercontent.com/MainakRepositor/Datasets/refs/heads/master/species.csv\n",
    "```\n",
    "4. Write a function to get the number of `Approved` species.\n",
    "5. Create a simple CLI (*command line interface*) of a text editor. It should be able to save text to a file, append a file, or open a file and display its contents.\n",
    "6. Transfer the text editor code to a `.py` script file and run it using the command line."
   ]
  },
  {
   "cell_type": "code",
   "execution_count": 48,
   "metadata": {},
   "outputs": [
    {
     "name": "stderr",
     "output_type": "stream",
     "text": [
      "  % Total    % Received % Xferd  Average Speed   Time    Time     Time  Current\n",
      "                                 Dload  Upload   Total   Spent    Left  Speed\n",
      "\n",
      "  0     0    0     0    0     0      0      0 --:--:-- --:--:-- --:--:--     0\n",
      "  9 16.6M    9 1648k    0     0  2786k      0  0:00:06 --:--:--  0:00:06 2807k\n",
      " 42 16.6M   42 7184k    0     0  4596k      0  0:00:03  0:00:01  0:00:02 4611k\n",
      " 72 16.6M   72 12.0M    0     0  4817k      0  0:00:03  0:00:02  0:00:01 4825k\n",
      "100 16.6M  100 16.6M    0     0  4994k      0  0:00:03  0:00:03 --:--:-- 5001k\n"
     ]
    }
   ],
   "source": [
    "!curl -o species.csv https://raw.githubusercontent.com/MainakRepositor/Datasets/refs/heads/master/species.csv"
   ]
  },
  {
   "cell_type": "code",
   "execution_count": 53,
   "metadata": {},
   "outputs": [
    {
     "ename": "PermissionError",
     "evalue": "[Errno 13] Permission denied: 'C:\\\\Users\\\\donat\\\\Pratybos'",
     "output_type": "error",
     "traceback": [
      "\u001b[1;31m---------------------------------------------------------------------------\u001b[0m",
      "\u001b[1;31mPermissionError\u001b[0m                           Traceback (most recent call last)",
      "Cell \u001b[1;32mIn[53], line 14\u001b[0m\n\u001b[0;32m     10\u001b[0m                 \u001b[38;5;28;01mbreak\u001b[39;00m\n\u001b[0;32m     12\u001b[0m     \u001b[38;5;28;01mreturn\u001b[39;00m data\n\u001b[1;32m---> 14\u001b[0m data \u001b[38;5;241m=\u001b[39m read_csv(\u001b[38;5;124mr\u001b[39m\u001b[38;5;124m'\u001b[39m\u001b[38;5;124mC:\u001b[39m\u001b[38;5;124m\\\u001b[39m\u001b[38;5;124mUsers\u001b[39m\u001b[38;5;124m\\\u001b[39m\u001b[38;5;124mdonat\u001b[39m\u001b[38;5;124m\\\u001b[39m\u001b[38;5;124mPratybos\u001b[39m\u001b[38;5;124m'\u001b[39m)\n",
      "Cell \u001b[1;32mIn[53], line 3\u001b[0m, in \u001b[0;36mread_csv\u001b[1;34m(file_path)\u001b[0m\n\u001b[0;32m      1\u001b[0m \u001b[38;5;28;01mdef\u001b[39;00m \u001b[38;5;21mread_csv\u001b[39m(file_path):\n\u001b[0;32m      2\u001b[0m     data \u001b[38;5;241m=\u001b[39m []\n\u001b[1;32m----> 3\u001b[0m     \u001b[38;5;28;01mwith\u001b[39;00m \u001b[38;5;28mopen\u001b[39m(file_path, \u001b[38;5;124m'\u001b[39m\u001b[38;5;124mr\u001b[39m\u001b[38;5;124m'\u001b[39m) \u001b[38;5;28;01mas\u001b[39;00m f:\n\u001b[0;32m      4\u001b[0m         \u001b[38;5;28;01mfor\u001b[39;00m i, line \u001b[38;5;129;01min\u001b[39;00m enumarate (f):\n\u001b[0;32m      5\u001b[0m             \u001b[38;5;28;01mtry\u001b[39;00m:\n",
      "File \u001b[1;32m~\\miniconda3\\envs\\test3\\Lib\\site-packages\\IPython\\core\\interactiveshell.py:324\u001b[0m, in \u001b[0;36m_modified_open\u001b[1;34m(file, *args, **kwargs)\u001b[0m\n\u001b[0;32m    317\u001b[0m \u001b[38;5;28;01mif\u001b[39;00m file \u001b[38;5;129;01min\u001b[39;00m {\u001b[38;5;241m0\u001b[39m, \u001b[38;5;241m1\u001b[39m, \u001b[38;5;241m2\u001b[39m}:\n\u001b[0;32m    318\u001b[0m     \u001b[38;5;28;01mraise\u001b[39;00m \u001b[38;5;167;01mValueError\u001b[39;00m(\n\u001b[0;32m    319\u001b[0m         \u001b[38;5;124mf\u001b[39m\u001b[38;5;124m\"\u001b[39m\u001b[38;5;124mIPython won\u001b[39m\u001b[38;5;124m'\u001b[39m\u001b[38;5;124mt let you open fd=\u001b[39m\u001b[38;5;132;01m{\u001b[39;00mfile\u001b[38;5;132;01m}\u001b[39;00m\u001b[38;5;124m by default \u001b[39m\u001b[38;5;124m\"\u001b[39m\n\u001b[0;32m    320\u001b[0m         \u001b[38;5;124m\"\u001b[39m\u001b[38;5;124mas it is likely to crash IPython. If you know what you are doing, \u001b[39m\u001b[38;5;124m\"\u001b[39m\n\u001b[0;32m    321\u001b[0m         \u001b[38;5;124m\"\u001b[39m\u001b[38;5;124myou can use builtins\u001b[39m\u001b[38;5;124m'\u001b[39m\u001b[38;5;124m open.\u001b[39m\u001b[38;5;124m\"\u001b[39m\n\u001b[0;32m    322\u001b[0m     )\n\u001b[1;32m--> 324\u001b[0m \u001b[38;5;28;01mreturn\u001b[39;00m io_open(file, \u001b[38;5;241m*\u001b[39margs, \u001b[38;5;241m*\u001b[39m\u001b[38;5;241m*\u001b[39mkwargs)\n",
      "\u001b[1;31mPermissionError\u001b[0m: [Errno 13] Permission denied: 'C:\\\\Users\\\\donat\\\\Pratybos'"
     ]
    }
   ],
   "source": [
    "def read_csv(file_path):\n",
    "    data = []\n",
    "    with open(file_path, 'r') as f:\n",
    "        for i, line in enumarate (f):\n",
    "            try:\n",
    "                data.append(line.split(','))\n",
    "            except PermissionError:\n",
    "                print('')\n",
    "            if i>100:\n",
    "                break\n",
    "            \n",
    "    return data\n",
    "\n",
    "data = read_csv(r'C:\\Users\\donat\\Pratybos')"
   ]
  },
  {
   "cell_type": "code",
   "execution_count": 47,
   "metadata": {},
   "outputs": [],
   "source": [
    "measurements = [('height', 65.5),\n",
    "     ('width', 12.9),\n",
    "      ('weight', 2.13),\n",
    "       ('color', 'red')]\n",
    "\n",
    "def measurements_to_file(measurements, file_name):\n",
    "    with open(file_name, 'w') as f:\n",
    "        for measurement in measurements:\n",
    "            f.write(str(measurement))\n",
    "            f.write('\\n')\n",
    "\n",
    "def add_measurements(new_measurement, file_name):\n",
    "    with open(file_name, 'a') as f:\n",
    "        f.write(str(new_measurement))\n",
    "        f.write('\\n')\n",
    "\n",
    "\n",
    "file_name = 'measurements.txt'\n",
    "measurements_to_file(measurements, file_name)\n",
    "add_measurements(('length', 4.55), file_name)"
   ]
  },
  {
   "cell_type": "markdown",
   "metadata": {
    "id": "Y2YRY9yk1oVM"
   },
   "source": [
    "## Accessing the internet\n",
    "The most simple way to download HTTP files from the internet is by using `curl` in the command line. In Python notebooks, the most simple way to run command line functions is to use the **!** symbol:\n",
    "`!curl -o <file_name> <file_url>`\n",
    "\n",
    "There are multiple other ways to download content (for example, URLlib, covered in the lecture). You can also do it by using the [`requests`](https://pypi.org/project/requests/) package. Information is downloaded using `.get(url)`, and various properties can be accessed. To get all content, use `.content`, and to get it in all text, use `.text`. Other properties are less relevant at this stage.\n",
    "\n",
    "Text information is often formated in the `json` format, which is similar to a Python dictionary. The `json` python package allows easy conversion between the two. Use `json.loads(json_formatted)` to get a `dict`, and `json.dumps(dict_to_format)` to get the json-formatted string."
   ]
  },
  {
   "cell_type": "markdown",
   "metadata": {
    "id": "YbBBREIScVB_"
   },
   "source": [
    "## Exercises\n",
    "\n",
    "1. Access the contents of a weather [API](https://en.wikipedia.org/wiki/API) which provides live weather updates:\n",
    "\n",
    "`https://api.open-meteo.com/v1/forecast?latitude=54.68&longitude=25.28&hourly=temperature_2m`\n",
    "\n",
    "*You can set various parameters in the URL link as described in the [documentation](https://open-meteo.com/en/docs)*\n",
    "\n",
    "2. Access and print the most recent temperature reading."
   ]
  },
  {
   "cell_type": "code",
   "execution_count": 1,
   "metadata": {},
   "outputs": [
    {
     "name": "stdout",
     "output_type": "stream",
     "text": [
      "Requirement already satisfied: requests in c:\\users\\donat\\miniconda3\\envs\\test3\\lib\\site-packages (2.32.3)\n",
      "Requirement already satisfied: charset-normalizer<4,>=2 in c:\\users\\donat\\miniconda3\\envs\\test3\\lib\\site-packages (from requests) (3.3.2)\n",
      "Requirement already satisfied: idna<4,>=2.5 in c:\\users\\donat\\miniconda3\\envs\\test3\\lib\\site-packages (from requests) (3.7)\n",
      "Requirement already satisfied: urllib3<3,>=1.21.1 in c:\\users\\donat\\miniconda3\\envs\\test3\\lib\\site-packages (from requests) (2.2.2)\n",
      "Requirement already satisfied: certifi>=2017.4.17 in c:\\users\\donat\\miniconda3\\envs\\test3\\lib\\site-packages (from requests) (2024.8.30)\n"
     ]
    }
   ],
   "source": [
    "!pip install requests"
   ]
  },
  {
   "cell_type": "code",
   "execution_count": 1,
   "metadata": {},
   "outputs": [],
   "source": [
    "import requests\n",
    "\n",
    "latitude = 54.23\n",
    "longitude = 25.28\n",
    "\n",
    "url = f\"https://api.open-meteo.com/v1/forecast?latitude={latitude}&longitude={longitude}&hourly=temperature_2m\"\n",
    "data = requests.get(url)\n",
    "text = data.text"
   ]
  },
  {
   "cell_type": "code",
   "execution_count": 2,
   "metadata": {},
   "outputs": [
    {
     "data": {
      "text/plain": [
       "dict_keys(['latitude', 'longitude', 'generationtime_ms', 'utc_offset_seconds', 'timezone', 'timezone_abbreviation', 'elevation', 'hourly_units', 'hourly'])"
      ]
     },
     "execution_count": 2,
     "metadata": {},
     "output_type": "execute_result"
    }
   ],
   "source": [
    "import json\n",
    "dict_info = json.loads(text)\n",
    "dict_info.keys()"
   ]
  },
  {
   "cell_type": "code",
   "execution_count": 11,
   "metadata": {},
   "outputs": [
    {
     "data": {
      "text/plain": [
       "3.4"
      ]
     },
     "execution_count": 11,
     "metadata": {},
     "output_type": "execute_result"
    }
   ],
   "source": [
    "dict_info['hourly']['temperature_2m'][-1]"
   ]
  }
 ],
 "metadata": {
  "colab": {
   "provenance": []
  },
  "kernelspec": {
   "display_name": "Python 3 (ipykernel)",
   "language": "python",
   "name": "python3"
  },
  "language_info": {
   "codemirror_mode": {
    "name": "ipython",
    "version": 3
   },
   "file_extension": ".py",
   "mimetype": "text/x-python",
   "name": "python",
   "nbconvert_exporter": "python",
   "pygments_lexer": "ipython3",
   "version": "3.12.4"
  }
 },
 "nbformat": 4,
 "nbformat_minor": 4
}
