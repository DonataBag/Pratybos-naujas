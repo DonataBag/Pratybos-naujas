{
 "cells": [
  {
   "cell_type": "code",
   "execution_count": 6,
   "id": "e8a85651-a6c9-4e69-a3c4-c519b7a4664c",
   "metadata": {},
   "outputs": [
    {
     "data": {
      "text/plain": [
       "(False, 2028)"
      ]
     },
     "execution_count": 6,
     "metadata": {},
     "output_type": "execute_result"
    }
   ],
   "source": [
    "def check_leap_year(year):\n",
    "    def leap_year(year):\n",
    "        return bool((year % 4 == 0 and year % 100 != 0) or (year % 400 == 0))\n",
    "    \n",
    "    is_current_year_leap = leap_year(year)\n",
    "    \n",
    "\n",
    "    next_leap_year = year + 1\n",
    "    while not leap_year(next_leap_year):\n",
    "        next_leap_year += 1\n",
    "    \n",
    "    return is_current_year_leap, next_leap_year\n",
    "\n",
    "check_leap_year(2025)"
   ]
  },
  {
   "cell_type": "code",
   "execution_count": 9,
   "id": "04065999-3d91-4422-975a-0f056a720964",
   "metadata": {},
   "outputs": [],
   "source": [
    "def find_repeat(seq):\n",
    "\n",
    "    seen = set()\n",
    "\n",
    "    for num in seq:\n",
    "\n",
    "        if num in seen:\n",
    "\n",
    "            return num\n",
    "\n",
    "        seen.add(num)\n",
    "\n",
    "    return None\n",
    "\n",
    "find_repeat([1, 2, 4, 5, 6])"
   ]
  },
  {
   "cell_type": "code",
   "execution_count": null,
   "id": "b9ae7651-0a75-494d-b7f4-2a06a5890c9b",
   "metadata": {},
   "outputs": [],
   "source": [
    "\n",
    "Write a function that creates a dictionary grouping words by their length, using dict comprehension. The words in groups should be sorted alphabetically.\n",
    "\n",
    "To check that the function works, use this assert (change function name func to yours):\n",
    "\n",
    "assert func(['a', 'big', 'red', 'apple']) == {1: ['a'], 3: ['big', 'red'], 5: 'apple'}\n",
    "\n",
    "assert func(['three', 'trunk']) == {5: ['three', 'trunk']}\n",
    "\n",
    "Filter out specific words or words that meet certain criteria before grouping (for example, you can choose word's min_length = 5) and then group only those words which have min length of 5 letters."
   ]
  },
  {
   "cell_type": "code",
   "execution_count": 18,
   "id": "34103e4e-1e6e-45cb-b88c-619bb99aa779",
   "metadata": {},
   "outputs": [
    {
     "data": {
      "text/plain": [
       "{5: ['plots'], 6: ['cancer', 'pencil']}"
      ]
     },
     "execution_count": 18,
     "metadata": {},
     "output_type": "execute_result"
    }
   ],
   "source": [
    "def group_words_by_length(words, min_length = 5):\n",
    " return {length: sorted([word for word in words if len(word) == length])\n",
    "        for length in set(len(word) for word in words if len(word) >= min_length)}\n",
    "\n",
    "group_words_by_length(['pencil', 'bag', 'cancer', 'a', 'plots'])"
   ]
  }
 ],
 "metadata": {
  "kernelspec": {
   "display_name": "Python 3 (ipykernel)",
   "language": "python",
   "name": "python3"
  },
  "language_info": {
   "codemirror_mode": {
    "name": "ipython",
    "version": 3
   },
   "file_extension": ".py",
   "mimetype": "text/x-python",
   "name": "python",
   "nbconvert_exporter": "python",
   "pygments_lexer": "ipython3",
   "version": "3.12.4"
  }
 },
 "nbformat": 4,
 "nbformat_minor": 5
}
