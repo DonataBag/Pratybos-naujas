{
 "cells": [
  {
   "cell_type": "code",
   "execution_count": 1,
   "id": "84edaf78-0aaf-4fc9-8135-7a4c3cbde7d4",
   "metadata": {},
   "outputs": [
    {
     "name": "stdout",
     "output_type": "stream",
     "text": [
      "Reading C:\\Users\\donat\\OneDrive\\Stalinis kompiuteris\\data\\NCF\\NCF_202_R2256_imp_ch_flt1-45_flt50_rejectedarte_ICA_prep.fdt\n",
      "Reading 0 ... 43645  =      0.000 ...   170.488 secs...\n"
     ]
    },
    {
     "name": "stderr",
     "output_type": "stream",
     "text": [
      "C:\\Users\\donat\\AppData\\Local\\Temp\\ipykernel_13652\\3384617767.py:28: RuntimeWarning: The data contains 'boundary' events, indicating data discontinuities. Be cautious of filtering and epoching around these events.\n",
      "  eeg_data = read_raw_eeglab(file_path, preload=True)\n"
     ]
    },
    {
     "ename": "TypeError",
     "evalue": "FOOOF.__init__() got an unexpected keyword argument 'background_mode'",
     "output_type": "error",
     "traceback": [
      "\u001b[1;31m---------------------------------------------------------------------------\u001b[0m",
      "\u001b[1;31mTypeError\u001b[0m                                 Traceback (most recent call last)",
      "Cell \u001b[1;32mIn[1], line 55\u001b[0m\n\u001b[0;32m     53\u001b[0m \u001b[38;5;66;03m# Process all files in Group 1\u001b[39;00m\n\u001b[0;32m     54\u001b[0m \u001b[38;5;28;01mfor\u001b[39;00m file \u001b[38;5;129;01min\u001b[39;00m group_1_files:\n\u001b[1;32m---> 55\u001b[0m     result \u001b[38;5;241m=\u001b[39m process_eeg(file)\n\u001b[0;32m     56\u001b[0m     result[\u001b[38;5;124m'\u001b[39m\u001b[38;5;124mGroup\u001b[39m\u001b[38;5;124m'\u001b[39m] \u001b[38;5;241m=\u001b[39m \u001b[38;5;124m'\u001b[39m\u001b[38;5;124mGroup 1\u001b[39m\u001b[38;5;124m'\u001b[39m\n\u001b[0;32m     57\u001b[0m     group_1_results\u001b[38;5;241m.\u001b[39mappend(result)\n",
      "Cell \u001b[1;32mIn[1], line 38\u001b[0m, in \u001b[0;36mprocess_eeg\u001b[1;34m(file_path)\u001b[0m\n\u001b[0;32m     35\u001b[0m freqs, psd \u001b[38;5;241m=\u001b[39m welch(avg_data, sfreq, nperseg\u001b[38;5;241m=\u001b[39msfreq \u001b[38;5;241m*\u001b[39m \u001b[38;5;241m2\u001b[39m)  \u001b[38;5;66;03m# 2-second window\u001b[39;00m\n\u001b[0;32m     37\u001b[0m \u001b[38;5;66;03m# Fit the power spectrum using FOOOF\u001b[39;00m\n\u001b[1;32m---> 38\u001b[0m fm \u001b[38;5;241m=\u001b[39m FOOOF(peak_width_limits\u001b[38;5;241m=\u001b[39m[\u001b[38;5;241m1\u001b[39m, \u001b[38;5;241m12\u001b[39m], background_mode\u001b[38;5;241m=\u001b[39m\u001b[38;5;124m'\u001b[39m\u001b[38;5;124mknee\u001b[39m\u001b[38;5;124m'\u001b[39m)\n\u001b[0;32m     39\u001b[0m fm\u001b[38;5;241m.\u001b[39mfit(freqs, psd)\n\u001b[0;32m     41\u001b[0m \u001b[38;5;66;03m# Extract alpha peak and background parameters\u001b[39;00m\n",
      "\u001b[1;31mTypeError\u001b[0m: FOOOF.__init__() got an unexpected keyword argument 'background_mode'"
     ]
    }
   ],
   "source": [
    "import os\n",
    "import numpy as np\n",
    "import pandas as pd\n",
    "import matplotlib.pyplot as plt\n",
    "import seaborn as sns\n",
    "from scipy.signal import welch\n",
    "from mne.io import read_raw_eeglab\n",
    "from fooof import FOOOF\n",
    "\n",
    "# === Define Paths to Folders Containing Group Data ===\n",
    "group_1_folder = r\"C:\\Users\\donat\\OneDrive\\Stalinis kompiuteris\\data\\NCF\"  # Replace with the actual folder path for Group 1\n",
    "group_2_folder = r\"C:\\Users\\donat\\OneDrive\\Stalinis kompiuteris\\data\\NCG\"  # Replace with the actual folder path for Group 2\n",
    "\n",
    "# Automatically list all .SET files for Group 1 and Group 2\n",
    "group_1_files = [os.path.join(group_1_folder, f) for f in os.listdir(group_1_folder) if f.endswith('.set')]\n",
    "group_2_files = [os.path.join(group_2_folder, f) for f in os.listdir(group_2_folder) if f.endswith('.set')]\n",
    "\n",
    "# === Frequency Range for Welch PSD and Alpha Band ===\n",
    "ALPHA_RANGE = [8, 12]\n",
    "\n",
    "# Initialize lists for results\n",
    "group_1_results = []\n",
    "group_2_results = []\n",
    "\n",
    "def process_eeg(file_path):\n",
    "    \"\"\"Process an EEG file and extract metrics using FOOOF.\"\"\"\n",
    "    # Load EEG data\n",
    "    eeg_data = read_raw_eeglab(file_path, preload=True)\n",
    "    data, sfreq = eeg_data.get_data(return_times=False), eeg_data.info['sfreq']\n",
    "    \n",
    "    # Average across electrodes\n",
    "    avg_data = np.mean(data, axis=0)\n",
    "    \n",
    "    # Compute Power Spectral Density (PSD)\n",
    "    freqs, psd = welch(avg_data, sfreq, nperseg=sfreq * 2)  # 2-second window\n",
    "\n",
    "    # Fit the power spectrum using FOOOF\n",
    "    fm = FOOOF(peak_width_limits=[1, 12], background_mode='knee')\n",
    "    fm.fit(freqs, psd)\n",
    "    \n",
    "    # Extract alpha peak and background parameters\n",
    "    alpha_peak = [peak for peak in fm.peak_params_ if ALPHA_RANGE[0] <= peak[0] <= ALPHA_RANGE[1]]\n",
    "    iaf = alpha_peak[0][0] if alpha_peak else None\n",
    "    alpha_power = alpha_peak[0][1] if alpha_peak else None\n",
    "    slope = fm.background_params_[1]  # Slope from 1/f fit\n",
    "    \n",
    "    return {\n",
    "        'iaf': iaf,\n",
    "        'alpha_power': alpha_power,\n",
    "        'slope': slope\n",
    "    }\n",
    "\n",
    "# Process all files in Group 1\n",
    "for file in group_1_files:\n",
    "    result = process_eeg(file)\n",
    "    result['Group'] = 'Group 1'\n",
    "    group_1_results.append(result)\n",
    "\n",
    "# Process all files in Group 2\n",
    "for file in group_2_files:\n",
    "    result = process_eeg(file)\n",
    "    result['Group'] = 'Group 2'\n",
    "    group_2_results.append(result)\n",
    "\n",
    "# Combine results into a DataFrame\n",
    "all_results = pd.DataFrame(group_1_results + group_2_results)\n",
    "\n",
    "# Save results to a CSV for further use\n",
    "all_results.to_csv(\"eeg_results.csv\", index=False)\n",
    "\n",
    "# === Visualization ===\n",
    "\n",
    "# Plot Alpha Power\n",
    "plt.figure(figsize=(10, 6))\n",
    "sns.violinplot(x='Group', y='alpha_power', data=all_results, palette='Set2')\n",
    "plt.title('Alpha Power Comparison')\n",
    "plt.ylabel('Alpha Power (log)')\n",
    "plt.show()\n",
    "\n",
    "# Plot Individual Alpha Frequency (IAF)\n",
    "plt.figure(figsize=(10, 6))\n",
    "sns.violinplot(x='Group', y='iaf', data=all_results, palette='Set2')\n",
    "plt.title('Individual Alpha Frequency (IAF) Comparison')\n",
    "plt.ylabel('IAF (Hz)')\n",
    "plt.show()\n",
    "\n",
    "# Plot 1/f Slope\n",
    "plt.figure(figsize=(10, 6))\n",
    "sns.violinplot(x='Group', y='slope', data=all_results, palette='Set2')\n",
    "plt.title('1/f Slope Comparison')\n",
    "plt.ylabel('Slope (γ)')\n",
    "plt.show()\n"
   ]
  },
  {
   "cell_type": "code",
   "execution_count": 2,
   "id": "78008818-94b6-4d55-bbb7-bfa52a4909bf",
   "metadata": {},
   "outputs": [
    {
     "name": "stderr",
     "output_type": "stream",
     "text": [
      "The syntax of the command is incorrect.\n"
     ]
    }
   ],
   "source": [
    "!pip install fooof==<version>\n"
   ]
  },
  {
   "cell_type": "code",
   "execution_count": 10,
   "id": "23e0673e-7682-4005-bb98-61474601fa60",
   "metadata": {},
   "outputs": [
    {
     "name": "stdout",
     "output_type": "stream",
     "text": [
      "Reading C:\\Users\\donat\\OneDrive\\Stalinis kompiuteris\\data\\NCF\\NCF_201_R2256_imp_ch_flt1-45_flt50_rejectedarte_ICA_prep.fdt\n",
      "Reading 0 ... 44388  =      0.000 ...   173.391 secs...\n",
      "\n",
      "FOOOF WARNING: Skipping frequency == 0, as this causes a problem with fitting.\n"
     ]
    },
    {
     "name": "stderr",
     "output_type": "stream",
     "text": [
      "C:\\Users\\donat\\AppData\\Local\\Temp\\ipykernel_9024\\2347169215.py:28: RuntimeWarning: The data contains 'boundary' events, indicating data discontinuities. Be cautious of filtering and epoching around these events.\n",
      "  eeg_data = read_raw_eeglab(file_path, preload=True)\n"
     ]
    },
    {
     "ename": "AttributeError",
     "evalue": "'FOOOF' object has no attribute 'background_params_'",
     "output_type": "error",
     "traceback": [
      "\u001b[1;31m---------------------------------------------------------------------------\u001b[0m",
      "\u001b[1;31mAttributeError\u001b[0m                            Traceback (most recent call last)",
      "Cell \u001b[1;32mIn[10], line 58\u001b[0m\n\u001b[0;32m     56\u001b[0m \u001b[38;5;66;03m# Process all files in Group 1\u001b[39;00m\n\u001b[0;32m     57\u001b[0m \u001b[38;5;28;01mfor\u001b[39;00m file \u001b[38;5;129;01min\u001b[39;00m group_1_files:\n\u001b[1;32m---> 58\u001b[0m     result \u001b[38;5;241m=\u001b[39m process_eeg(file)\n\u001b[0;32m     59\u001b[0m     result[\u001b[38;5;124m'\u001b[39m\u001b[38;5;124mGroup\u001b[39m\u001b[38;5;124m'\u001b[39m] \u001b[38;5;241m=\u001b[39m \u001b[38;5;124m'\u001b[39m\u001b[38;5;124mGroup 1\u001b[39m\u001b[38;5;124m'\u001b[39m\n\u001b[0;32m     60\u001b[0m     group_1_results\u001b[38;5;241m.\u001b[39mappend(result)\n",
      "Cell \u001b[1;32mIn[10], line 47\u001b[0m, in \u001b[0;36mprocess_eeg\u001b[1;34m(file_path)\u001b[0m\n\u001b[0;32m     44\u001b[0m alpha_power \u001b[38;5;241m=\u001b[39m alpha_peak[\u001b[38;5;241m0\u001b[39m][\u001b[38;5;241m1\u001b[39m] \u001b[38;5;28;01mif\u001b[39;00m alpha_peak \u001b[38;5;28;01melse\u001b[39;00m \u001b[38;5;28;01mNone\u001b[39;00m\n\u001b[0;32m     46\u001b[0m \u001b[38;5;66;03m# Extract the 1/f slope (typically the second value in the background parameters)\u001b[39;00m\n\u001b[1;32m---> 47\u001b[0m slope \u001b[38;5;241m=\u001b[39m fm\u001b[38;5;241m.\u001b[39mbackground_params_[\u001b[38;5;241m1\u001b[39m] \u001b[38;5;28;01mif\u001b[39;00m fm\u001b[38;5;241m.\u001b[39mbackground_params_ \u001b[38;5;28;01melse\u001b[39;00m \u001b[38;5;28;01mNone\u001b[39;00m\n\u001b[0;32m     49\u001b[0m \u001b[38;5;28;01mreturn\u001b[39;00m {\n\u001b[0;32m     50\u001b[0m     \u001b[38;5;124m'\u001b[39m\u001b[38;5;124miaf\u001b[39m\u001b[38;5;124m'\u001b[39m: iaf,\n\u001b[0;32m     51\u001b[0m     \u001b[38;5;124m'\u001b[39m\u001b[38;5;124malpha_power\u001b[39m\u001b[38;5;124m'\u001b[39m: alpha_power,\n\u001b[0;32m     52\u001b[0m     \u001b[38;5;124m'\u001b[39m\u001b[38;5;124mslope\u001b[39m\u001b[38;5;124m'\u001b[39m: slope\n\u001b[0;32m     53\u001b[0m }\n",
      "\u001b[1;31mAttributeError\u001b[0m: 'FOOOF' object has no attribute 'background_params_'"
     ]
    }
   ],
   "source": [
    "import os\n",
    "import numpy as np\n",
    "import pandas as pd\n",
    "import matplotlib.pyplot as plt\n",
    "import seaborn as sns\n",
    "from scipy.signal import welch\n",
    "from mne.io import read_raw_eeglab\n",
    "from fooof import FOOOF\n",
    "\n",
    "# === Define Paths to Folders Containing Group Data ===\n",
    "group_1_folder = r\"C:\\Users\\donat\\OneDrive\\Stalinis kompiuteris\\data\\NCF\"  # Replace with the actual folder path for Group 1\n",
    "group_2_folder = r\"C:\\Users\\donat\\OneDrive\\Stalinis kompiuteris\\data\\NCG\"  # Replace with the actual folder path for Group 2\n",
    "\n",
    "# Automatically list all .SET files for Group 1 and Group 2\n",
    "group_1_files = [os.path.join(group_1_folder, f) for f in os.listdir(group_1_folder) if f.endswith('.set')]\n",
    "group_2_files = [os.path.join(group_2_folder, f) for f in os.listdir(group_2_folder) if f.endswith('.set')]\n",
    "\n",
    "# === Frequency Range for Welch PSD and Alpha Band ===\n",
    "ALPHA_RANGE = [8, 12]\n",
    "\n",
    "# Initialize lists for results\n",
    "group_1_results = []\n",
    "group_2_results = []\n",
    "\n",
    "def process_eeg(file_path):\n",
    "    \"\"\"Process an EEG file and extract metrics using FOOOF.\"\"\"\n",
    "    # Load EEG data\n",
    "    eeg_data = read_raw_eeglab(file_path, preload=True)\n",
    "    data, sfreq = eeg_data.get_data(return_times=False), eeg_data.info['sfreq']\n",
    "    \n",
    "    # Average across electrodes\n",
    "    avg_data = np.mean(data, axis=0)\n",
    "    \n",
    "    # Compute Power Spectral Density (PSD)\n",
    "    freqs, psd = welch(avg_data, sfreq, nperseg=sfreq * 2)  # 2-second window\n",
    "\n",
    "    # Fit the power spectrum using FOOOF\n",
    "    fm = FOOOF(peak_width_limits=[1, 12])  # Removed `background_mode`\n",
    "    fm.fit(freqs, psd)\n",
    "    \n",
    "    # Extract alpha peak and background parameters\n",
    "    alpha_peak = [peak for peak in fm.peak_params_ if ALPHA_RANGE[0] <= peak[0] <= ALPHA_RANGE[1]]\n",
    "    iaf = alpha_peak[0][0] if alpha_peak else None\n",
    "    alpha_power = alpha_peak[0][1] if alpha_peak else None\n",
    "\n",
    "    # Extract the 1/f slope (typically the second value in the background parameters)\n",
    "    slope = fm.background_params_[1] if fm.background_params_ else None\n",
    "    \n",
    "    return {\n",
    "        'iaf': iaf,\n",
    "        'alpha_power': alpha_power,\n",
    "        'slope': slope\n",
    "    }\n",
    "# Process all files in Group 1\n",
    "for file in group_1_files:\n",
    "    result = process_eeg(file)\n",
    "    result['Group'] = 'Group 1'\n",
    "    group_1_results.append(result)\n",
    "\n",
    "# Process all files in Group 2\n",
    "for file in group_2_files:\n",
    "    result = process_eeg(file)\n",
    "    result['Group'] = 'Group 2'\n",
    "    group_2_results.append(result)\n",
    "\n",
    "# Combine results into a DataFrame\n",
    "all_results = pd.DataFrame(group_1_results + group_2_results)\n",
    "\n",
    "# Save results to a CSV for further use\n",
    "all_results.to_csv(\"eeg_results.csv\", index=False)\n",
    "\n",
    "# === Visualization ===\n",
    "\n",
    "# Plot Alpha Power\n",
    "plt.figure(figsize=(10, 6))\n",
    "sns.violinplot(x='Group', y='alpha_power', data=all_results, palette='Set2')\n",
    "plt.title('Alpha Power Comparison')\n",
    "plt.ylabel('Alpha Power (log)')\n",
    "plt.show()\n",
    "\n",
    "# Plot Individual Alpha Frequency (IAF)\n",
    "plt.figure(figsize=(10, 6))\n",
    "sns.violinplot(x='Group', y='iaf', data=all_results, palette='Set2')\n",
    "plt.title('Individual Alpha Frequency (IAF) Comparison')\n",
    "plt.ylabel('IAF (Hz)')\n",
    "plt.show()\n",
    "\n",
    "# Plot 1/f Slope\n",
    "plt.figure(figsize=(10, 6))\n",
    "sns.violinplot(x='Group', y='slope', data=all_results, palette='Set2')\n",
    "plt.title('1/f Slope Comparison')\n",
    "plt.ylabel('Slope (γ)')\n",
    "plt.show()\n"
   ]
  },
  {
   "cell_type": "code",
   "execution_count": 11,
   "id": "f0c85068-428c-4ffb-b791-caeef7474ee6",
   "metadata": {},
   "outputs": [
    {
     "name": "stdout",
     "output_type": "stream",
     "text": [
      "Requirement already satisfied: mne in c:\\users\\donat\\miniconda3\\envs\\test3\\lib\\site-packages (1.8.0)\n",
      "Requirement already satisfied: decorator in c:\\users\\donat\\miniconda3\\envs\\test3\\lib\\site-packages (from mne) (5.1.1)\n",
      "Requirement already satisfied: jinja2 in c:\\users\\donat\\miniconda3\\envs\\test3\\lib\\site-packages (from mne) (3.1.4)\n",
      "Requirement already satisfied: lazy-loader>=0.3 in c:\\users\\donat\\miniconda3\\envs\\test3\\lib\\site-packages (from mne) (0.4)\n",
      "Requirement already satisfied: matplotlib>=3.6 in c:\\users\\donat\\miniconda3\\envs\\test3\\lib\\site-packages (from mne) (3.9.2)\n",
      "Requirement already satisfied: numpy<3,>=1.23 in c:\\users\\donat\\miniconda3\\envs\\test3\\lib\\site-packages (from mne) (1.26.4)\n",
      "Requirement already satisfied: packaging in c:\\users\\donat\\miniconda3\\envs\\test3\\lib\\site-packages (from mne) (24.1)\n",
      "Requirement already satisfied: pooch>=1.5 in c:\\users\\donat\\miniconda3\\envs\\test3\\lib\\site-packages (from mne) (1.8.2)\n",
      "Requirement already satisfied: scipy>=1.9 in c:\\users\\donat\\miniconda3\\envs\\test3\\lib\\site-packages (from mne) (1.14.1)\n",
      "Requirement already satisfied: tqdm in c:\\users\\donat\\miniconda3\\envs\\test3\\lib\\site-packages (from mne) (4.66.6)\n",
      "Requirement already satisfied: contourpy>=1.0.1 in c:\\users\\donat\\miniconda3\\envs\\test3\\lib\\site-packages (from matplotlib>=3.6->mne) (1.3.0)\n",
      "Requirement already satisfied: cycler>=0.10 in c:\\users\\donat\\miniconda3\\envs\\test3\\lib\\site-packages (from matplotlib>=3.6->mne) (0.12.1)\n",
      "Requirement already satisfied: fonttools>=4.22.0 in c:\\users\\donat\\miniconda3\\envs\\test3\\lib\\site-packages (from matplotlib>=3.6->mne) (4.54.1)\n",
      "Requirement already satisfied: kiwisolver>=1.3.1 in c:\\users\\donat\\miniconda3\\envs\\test3\\lib\\site-packages (from matplotlib>=3.6->mne) (1.4.7)\n",
      "Requirement already satisfied: pillow>=8 in c:\\users\\donat\\miniconda3\\envs\\test3\\lib\\site-packages (from matplotlib>=3.6->mne) (11.0.0)\n",
      "Requirement already satisfied: pyparsing>=2.3.1 in c:\\users\\donat\\miniconda3\\envs\\test3\\lib\\site-packages (from matplotlib>=3.6->mne) (3.2.0)\n",
      "Requirement already satisfied: python-dateutil>=2.7 in c:\\users\\donat\\miniconda3\\envs\\test3\\lib\\site-packages (from matplotlib>=3.6->mne) (2.9.0.post0)\n",
      "Requirement already satisfied: platformdirs>=2.5.0 in c:\\users\\donat\\miniconda3\\envs\\test3\\lib\\site-packages (from pooch>=1.5->mne) (3.10.0)\n",
      "Requirement already satisfied: requests>=2.19.0 in c:\\users\\donat\\miniconda3\\envs\\test3\\lib\\site-packages (from pooch>=1.5->mne) (2.32.3)\n",
      "Requirement already satisfied: MarkupSafe>=2.0 in c:\\users\\donat\\miniconda3\\envs\\test3\\lib\\site-packages (from jinja2->mne) (2.1.3)\n",
      "Requirement already satisfied: colorama in c:\\users\\donat\\miniconda3\\envs\\test3\\lib\\site-packages (from tqdm->mne) (0.4.6)\n",
      "Requirement already satisfied: six>=1.5 in c:\\users\\donat\\miniconda3\\envs\\test3\\lib\\site-packages (from python-dateutil>=2.7->matplotlib>=3.6->mne) (1.16.0)\n",
      "Requirement already satisfied: charset-normalizer<4,>=2 in c:\\users\\donat\\miniconda3\\envs\\test3\\lib\\site-packages (from requests>=2.19.0->pooch>=1.5->mne) (3.3.2)\n",
      "Requirement already satisfied: idna<4,>=2.5 in c:\\users\\donat\\miniconda3\\envs\\test3\\lib\\site-packages (from requests>=2.19.0->pooch>=1.5->mne) (3.7)\n",
      "Requirement already satisfied: urllib3<3,>=1.21.1 in c:\\users\\donat\\miniconda3\\envs\\test3\\lib\\site-packages (from requests>=2.19.0->pooch>=1.5->mne) (2.2.2)\n",
      "Requirement already satisfied: certifi>=2017.4.17 in c:\\users\\donat\\miniconda3\\envs\\test3\\lib\\site-packages (from requests>=2.19.0->pooch>=1.5->mne) (2024.8.30)\n",
      "Requirement already satisfied: fooof in c:\\users\\donat\\miniconda3\\envs\\test3\\lib\\site-packages (1.1.0)\n",
      "Requirement already satisfied: numpy in c:\\users\\donat\\miniconda3\\envs\\test3\\lib\\site-packages (from fooof) (1.26.4)\n",
      "Requirement already satisfied: scipy>=0.19 in c:\\users\\donat\\miniconda3\\envs\\test3\\lib\\site-packages (from fooof) (1.14.1)\n"
     ]
    }
   ],
   "source": [
    "!pip install mne\n",
    "!pip install fooof\n"
   ]
  },
  {
   "cell_type": "code",
   "execution_count": 20,
   "id": "c21be58c-3733-433e-812b-5aaad18108ac",
   "metadata": {},
   "outputs": [
    {
     "name": "stdout",
     "output_type": "stream",
     "text": [
      "Reading C:\\Users\\donat\\Pratybos naujas\\NCF_201_R2256_imp_ch_flt1-45_flt50_rejectedarte_ICA_prep.fdt\n",
      "Reading 0 ... 44388  =      0.000 ...   173.391 secs...\n",
      "\n",
      "FOOOF WARNING: Skipping frequency == 0, as this causes a problem with fitting.\n",
      "Alpha Peak: [[ 10.86539549   1.3284169    2.15050519]\n",
      " [ 26.93262369   1.86807566   9.83737731]\n",
      " [ 36.71684692   2.79423414   7.53972162]\n",
      " [ 42.1174052    3.3676905    4.09469319]\n",
      " [ 44.92844446   3.6813127    1.94873079]\n",
      " [118.79951914   2.11415157  12.        ]]\n",
      "1/f Slope (Exponent): 8.739770569164115\n"
     ]
    },
    {
     "name": "stderr",
     "output_type": "stream",
     "text": [
      "C:\\Users\\donat\\AppData\\Local\\Temp\\ipykernel_9024\\880308416.py:14: RuntimeWarning: The data contains 'boundary' events, indicating data discontinuities. Be cautious of filtering and epoching around these events.\n",
      "  raw_data = mne.io.read_raw_eeglab(file_path, preload=True)\n"
     ]
    },
    {
     "data": {
      "image/png": "[encoded data removed]",
      "text/plain": [
       "<Figure size 850x650 with 1 Axes>"
      ]
     },
     "metadata": {},
     "output_type": "display_data"
    }
   ],
   "source": [
    "import mne\n",
    "from fooof import FOOOF\n",
    "import numpy as np\n",
    "import matplotlib.pyplot as plt\n",
    "from scipy.signal import welch\n",
    "import os\n",
    "\n",
    "# Correct file path using raw string format\n",
    "file_path = r'C:\\Users\\donat\\Pratybos naujas\\NCF_201_R2256_imp_ch_flt1-45_flt50_rejectedarte_ICA_prep.set'\n",
    "\n",
    "# Check if the file exists\n",
    "if os.path.exists(file_path):\n",
    "    # Load the EEG data using MNE (for .set format)\n",
    "    raw_data = mne.io.read_raw_eeglab(file_path, preload=True)\n",
    "\n",
    "    # Extract data and sampling frequency\n",
    "    eeg_data = raw_data.get_data()\n",
    "    sfreq = raw_data.info['sfreq']\n",
    "\n",
    "    # Compute the Power Spectral Density (PSD)\n",
    "    avg_data = eeg_data.mean(axis=0)\n",
    "    frequencies, psd = welch(avg_data, fs=sfreq, nperseg=sfreq*2)  # 2-second window\n",
    "\n",
    "    # Initialize FOOOF\n",
    "    fm = FOOOF(peak_width_limits=[1, 12], aperiodic_mode='knee')\n",
    "\n",
    "    # Fit the FOOOF model\n",
    "    fm.fit(frequencies, psd)\n",
    "\n",
    "    # Plot the fit\n",
    "    fm.plot()\n",
    "\n",
    "    # Extract the alpha peak\n",
    "    alpha_peak = fm.get_params('peak')\n",
    "\n",
    "    # Extract the 1/f slope (exponent)\n",
    "    slope = fm.get_params('aperiodic', 'exponent')\n",
    "\n",
    "    print(\"Alpha Peak:\", alpha_peak)\n",
    "    print(\"1/f Slope (Exponent):\", slope)\n",
    "else:\n",
    "    print(\"File does not exist at the given path.\")\n"
   ]
  },
  {
   "cell_type": "code",
   "execution_count": 21,
   "id": "6baee123-6c1f-4ed7-8be4-06427032a7a7",
   "metadata": {},
   "outputs": [
    {
     "name": "stdout",
     "output_type": "stream",
     "text": [
      "Reading C:\\Users\\donat\\OneDrive\\Stalinis kompiuteris\\data\\NCF\\NCF_202_R2256_imp_ch_flt1-45_flt50_rejectedarte_ICA_prep.fdt\n",
      "Reading 0 ... 43645  =      0.000 ...   170.488 secs...\n",
      "\n",
      "FOOOF WARNING: Skipping frequency == 0, as this causes a problem with fitting.\n",
      "Error processing file NCF_202_R2256_imp_ch_flt1-45_flt50_rejectedarte_ICA_prep.set: 'residual'\n",
      "Reading C:\\Users\\donat\\OneDrive\\Stalinis kompiuteris\\data\\NCF\\NCF_204_R2256_imp_ch_flt1-45_flt50_rejectedarte_ICA_prep.fdt\n",
      "Reading 0 ... 46182  =      0.000 ...   180.398 secs...\n"
     ]
    },
    {
     "name": "stderr",
     "output_type": "stream",
     "text": [
      "C:\\Users\\donat\\AppData\\Local\\Temp\\ipykernel_9024\\3852264803.py:34: RuntimeWarning: The data contains 'boundary' events, indicating data discontinuities. Be cautious of filtering and epoching around these events.\n",
      "  raw_data = mne.io.read_raw_eeglab(file_path, preload=True)\n",
      "C:\\Users\\donat\\AppData\\Local\\Temp\\ipykernel_9024\\3852264803.py:34: RuntimeWarning: The data contains 'boundary' events, indicating data discontinuities. Be cautious of filtering and epoching around these events.\n",
      "  raw_data = mne.io.read_raw_eeglab(file_path, preload=True)\n"
     ]
    },
    {
     "name": "stdout",
     "output_type": "stream",
     "text": [
      "\n",
      "FOOOF WARNING: Skipping frequency == 0, as this causes a problem with fitting.\n",
      "Error processing file NCF_204_R2256_imp_ch_flt1-45_flt50_rejectedarte_ICA_prep.set: 'residual'\n",
      "Reading C:\\Users\\donat\\OneDrive\\Stalinis kompiuteris\\data\\NCF\\NCF_205_R2256_imp_ch_flt1-45_flt50_rejectedarte_ICA_prep.fdt\n",
      "Reading 0 ... 41040  =      0.000 ...   160.312 secs...\n",
      "\n",
      "FOOOF WARNING: Skipping frequency == 0, as this causes a problem with fitting.\n",
      "Error processing file NCF_205_R2256_imp_ch_flt1-45_flt50_rejectedarte_ICA_prep.set: 'residual'\n",
      "Reading C:\\Users\\donat\\OneDrive\\Stalinis kompiuteris\\data\\NCF\\NCF_206_R2256_imp_ch_flt1-45_flt50_rejectedarte_ICA_prep.fdt\n",
      "Reading 0 ... 38087  =      0.000 ...   148.777 secs...\n"
     ]
    },
    {
     "name": "stderr",
     "output_type": "stream",
     "text": [
      "C:\\Users\\donat\\AppData\\Local\\Temp\\ipykernel_9024\\3852264803.py:34: RuntimeWarning: Limited 1 annotation(s) that were expanding outside the data range.\n",
      "  raw_data = mne.io.read_raw_eeglab(file_path, preload=True)\n",
      "C:\\Users\\donat\\AppData\\Local\\Temp\\ipykernel_9024\\3852264803.py:34: RuntimeWarning: The data contains 'boundary' events, indicating data discontinuities. Be cautious of filtering and epoching around these events.\n",
      "  raw_data = mne.io.read_raw_eeglab(file_path, preload=True)\n"
     ]
    },
    {
     "name": "stdout",
     "output_type": "stream",
     "text": [
      "\n",
      "FOOOF WARNING: Skipping frequency == 0, as this causes a problem with fitting.\n",
      "Error processing file NCF_206_R2256_imp_ch_flt1-45_flt50_rejectedarte_ICA_prep.set: 'residual'\n",
      "Reading C:\\Users\\donat\\OneDrive\\Stalinis kompiuteris\\data\\NCF\\NCF_207_R2256_imp_ch_flt1-45_flt50__rejectedarte_ICA_prep.fdt\n",
      "Reading 0 ... 43020  =      0.000 ...   168.047 secs...\n",
      "\n",
      "FOOOF WARNING: Skipping frequency == 0, as this causes a problem with fitting.\n",
      "Error processing file NCF_207_R2256_imp_ch_flt1-45_flt50__rejectedarte_ICA_prep.set: 'residual'\n",
      "Reading C:\\Users\\donat\\OneDrive\\Stalinis kompiuteris\\data\\NCF\\NCF_209_R2256_imp_ch_flt1-45_flt50_rejectedarte_ICA_prep.fdt\n",
      "Reading 0 ... 34802  =      0.000 ...   135.945 secs...\n"
     ]
    },
    {
     "name": "stderr",
     "output_type": "stream",
     "text": [
      "C:\\Users\\donat\\AppData\\Local\\Temp\\ipykernel_9024\\3852264803.py:34: RuntimeWarning: The data contains 'boundary' events, indicating data discontinuities. Be cautious of filtering and epoching around these events.\n",
      "  raw_data = mne.io.read_raw_eeglab(file_path, preload=True)\n"
     ]
    },
    {
     "name": "stdout",
     "output_type": "stream",
     "text": [
      "\n",
      "FOOOF WARNING: Skipping frequency == 0, as this causes a problem with fitting.\n",
      "Error processing file NCF_209_R2256_imp_ch_flt1-45_flt50_rejectedarte_ICA_prep.set: 'residual'\n",
      "Reading C:\\Users\\donat\\OneDrive\\Stalinis kompiuteris\\data\\NCF\\NCF_210_R2256_imp_ch_flt1-45_flt50_rejectedarte_ICA_prep.fdt\n",
      "Reading 0 ... 39445  =      0.000 ...   154.082 secs...\n"
     ]
    },
    {
     "name": "stderr",
     "output_type": "stream",
     "text": [
      "C:\\Users\\donat\\AppData\\Local\\Temp\\ipykernel_9024\\3852264803.py:34: RuntimeWarning: The data contains 'boundary' events, indicating data discontinuities. Be cautious of filtering and epoching around these events.\n",
      "  raw_data = mne.io.read_raw_eeglab(file_path, preload=True)\n",
      "C:\\Users\\donat\\AppData\\Local\\Temp\\ipykernel_9024\\3852264803.py:34: RuntimeWarning: The data contains 'boundary' events, indicating data discontinuities. Be cautious of filtering and epoching around these events.\n",
      "  raw_data = mne.io.read_raw_eeglab(file_path, preload=True)\n"
     ]
    },
    {
     "name": "stdout",
     "output_type": "stream",
     "text": [
      "\n",
      "FOOOF WARNING: Skipping frequency == 0, as this causes a problem with fitting.\n",
      "Error processing file NCF_210_R2256_imp_ch_flt1-45_flt50_rejectedarte_ICA_prep.set: 'residual'\n",
      "Reading C:\\Users\\donat\\OneDrive\\Stalinis kompiuteris\\data\\NCF\\NCF_211_R2256_imp_ch_flt1-45_flt50_rejectedarte_ICA_prep.fdt\n",
      "Reading 0 ... 40889  =      0.000 ...   159.723 secs...\n",
      "\n",
      "FOOOF WARNING: Skipping frequency == 0, as this causes a problem with fitting.\n",
      "Error processing file NCF_211_R2256_imp_ch_flt1-45_flt50_rejectedarte_ICA_prep.set: 'residual'\n",
      "Reading C:\\Users\\donat\\OneDrive\\Stalinis kompiuteris\\data\\NCF\\NCF_212_R2256_imp_ch_flt1-45_flt50_rejectedarte_ICA_prep.fdt\n",
      "Reading 0 ... 54504  =      0.000 ...   212.906 secs...\n"
     ]
    },
    {
     "name": "stderr",
     "output_type": "stream",
     "text": [
      "C:\\Users\\donat\\AppData\\Local\\Temp\\ipykernel_9024\\3852264803.py:34: RuntimeWarning: The data contains 'boundary' events, indicating data discontinuities. Be cautious of filtering and epoching around these events.\n",
      "  raw_data = mne.io.read_raw_eeglab(file_path, preload=True)\n"
     ]
    },
    {
     "name": "stdout",
     "output_type": "stream",
     "text": [
      "\n",
      "FOOOF WARNING: Skipping frequency == 0, as this causes a problem with fitting.\n",
      "Error processing file NCF_212_R2256_imp_ch_flt1-45_flt50_rejectedarte_ICA_prep.set: 'residual'\n",
      "Reading C:\\Users\\donat\\OneDrive\\Stalinis kompiuteris\\data\\NCF\\NCF_213_R2256_imp_ch_flt1-45_flt50_rejectedarte_ICA_prep.fdt\n",
      "Reading 0 ... 42572  =      0.000 ...   166.297 secs...\n"
     ]
    },
    {
     "name": "stderr",
     "output_type": "stream",
     "text": [
      "C:\\Users\\donat\\AppData\\Local\\Temp\\ipykernel_9024\\3852264803.py:34: RuntimeWarning: The data contains 'boundary' events, indicating data discontinuities. Be cautious of filtering and epoching around these events.\n",
      "  raw_data = mne.io.read_raw_eeglab(file_path, preload=True)\n",
      "C:\\Users\\donat\\AppData\\Local\\Temp\\ipykernel_9024\\3852264803.py:34: RuntimeWarning: The data contains 'boundary' events, indicating data discontinuities. Be cautious of filtering and epoching around these events.\n",
      "  raw_data = mne.io.read_raw_eeglab(file_path, preload=True)\n"
     ]
    },
    {
     "name": "stdout",
     "output_type": "stream",
     "text": [
      "\n",
      "FOOOF WARNING: Skipping frequency == 0, as this causes a problem with fitting.\n",
      "Error processing file NCF_213_R2256_imp_ch_flt1-45_flt50_rejectedarte_ICA_prep.set: 'residual'\n",
      "Reading C:\\Users\\donat\\OneDrive\\Stalinis kompiuteris\\data\\NCF\\NCF_215_R2256_imp_ch_flt1-45_flt50_rejectedarte_ICA_prep.fdt\n",
      "Reading 0 ... 43886  =      0.000 ...   171.430 secs...\n",
      "\n",
      "FOOOF WARNING: Skipping frequency == 0, as this causes a problem with fitting.\n",
      "Error processing file NCF_215_R2256_imp_ch_flt1-45_flt50_rejectedarte_ICA_prep.set: 'residual'\n",
      "Reading C:\\Users\\donat\\OneDrive\\Stalinis kompiuteris\\data\\NCF\\NCF_217_R2256_imp_ch_flt1-45_flt50_rejectedarte_ICA_prep.fdt\n",
      "Reading 0 ... 43940  =      0.000 ...   171.641 secs...\n"
     ]
    },
    {
     "name": "stderr",
     "output_type": "stream",
     "text": [
      "C:\\Users\\donat\\AppData\\Local\\Temp\\ipykernel_9024\\3852264803.py:34: RuntimeWarning: Limited 1 annotation(s) that were expanding outside the data range.\n",
      "  raw_data = mne.io.read_raw_eeglab(file_path, preload=True)\n",
      "C:\\Users\\donat\\AppData\\Local\\Temp\\ipykernel_9024\\3852264803.py:34: RuntimeWarning: The data contains 'boundary' events, indicating data discontinuities. Be cautious of filtering and epoching around these events.\n",
      "  raw_data = mne.io.read_raw_eeglab(file_path, preload=True)\n",
      "C:\\Users\\donat\\AppData\\Local\\Temp\\ipykernel_9024\\3852264803.py:34: RuntimeWarning: The data contains 'boundary' events, indicating data discontinuities. Be cautious of filtering and epoching around these events.\n",
      "  raw_data = mne.io.read_raw_eeglab(file_path, preload=True)\n"
     ]
    },
    {
     "name": "stdout",
     "output_type": "stream",
     "text": [
      "\n",
      "FOOOF WARNING: Skipping frequency == 0, as this causes a problem with fitting.\n",
      "Error processing file NCF_217_R2256_imp_ch_flt1-45_flt50_rejectedarte_ICA_prep.set: 'residual'\n",
      "Reading C:\\Users\\donat\\OneDrive\\Stalinis kompiuteris\\data\\NCF\\NCF_220_R2256_imp_ch_flt1-45_flt50_rejectedarte_ICA_prep.fdt\n",
      "Reading 0 ... 46157  =      0.000 ...   180.301 secs...\n",
      "\n",
      "FOOOF WARNING: Skipping frequency == 0, as this causes a problem with fitting.\n",
      "Error processing file NCF_220_R2256_imp_ch_flt1-45_flt50_rejectedarte_ICA_prep.set: 'residual'\n",
      "Reading C:\\Users\\donat\\OneDrive\\Stalinis kompiuteris\\data\\NCF\\NCF_221_R2256_imp_ch_flt1-45_flt50_rejectedarte_ICA_prep.fdt\n",
      "Reading 0 ... 43804  =      0.000 ...   171.109 secs...\n"
     ]
    },
    {
     "name": "stderr",
     "output_type": "stream",
     "text": [
      "C:\\Users\\donat\\AppData\\Local\\Temp\\ipykernel_9024\\3852264803.py:34: RuntimeWarning: The data contains 'boundary' events, indicating data discontinuities. Be cautious of filtering and epoching around these events.\n",
      "  raw_data = mne.io.read_raw_eeglab(file_path, preload=True)\n",
      "C:\\Users\\donat\\AppData\\Local\\Temp\\ipykernel_9024\\3852264803.py:34: RuntimeWarning: The data contains 'boundary' events, indicating data discontinuities. Be cautious of filtering and epoching around these events.\n",
      "  raw_data = mne.io.read_raw_eeglab(file_path, preload=True)\n"
     ]
    },
    {
     "name": "stdout",
     "output_type": "stream",
     "text": [
      "\n",
      "FOOOF WARNING: Skipping frequency == 0, as this causes a problem with fitting.\n",
      "Error processing file NCF_221_R2256_imp_ch_flt1-45_flt50_rejectedarte_ICA_prep.set: 'residual'\n",
      "Reading C:\\Users\\donat\\OneDrive\\Stalinis kompiuteris\\data\\NCF\\NCF_222_R2256_imp_ch_flt1-45_flt50_rejectedarte_ICA_prep.fdt\n",
      "Reading 0 ... 49486  =      0.000 ...   193.305 secs...\n",
      "\n",
      "FOOOF WARNING: Skipping frequency == 0, as this causes a problem with fitting.\n",
      "Error processing file NCF_222_R2256_imp_ch_flt1-45_flt50_rejectedarte_ICA_prep.set: 'residual'\n",
      "Reading C:\\Users\\donat\\OneDrive\\Stalinis kompiuteris\\data\\NCF\\NCF_223_R2256_imp_ch_flt1-45_flt50_rejectedarte_ICA_prep.fdt\n",
      "Reading 0 ... 46058  =      0.000 ...   179.914 secs...\n"
     ]
    },
    {
     "name": "stderr",
     "output_type": "stream",
     "text": [
      "C:\\Users\\donat\\AppData\\Local\\Temp\\ipykernel_9024\\3852264803.py:34: RuntimeWarning: The data contains 'boundary' events, indicating data discontinuities. Be cautious of filtering and epoching around these events.\n",
      "  raw_data = mne.io.read_raw_eeglab(file_path, preload=True)\n"
     ]
    },
    {
     "name": "stdout",
     "output_type": "stream",
     "text": [
      "\n",
      "FOOOF WARNING: Skipping frequency == 0, as this causes a problem with fitting.\n",
      "Error processing file NCF_223_R2256_imp_ch_flt1-45_flt50_rejectedarte_ICA_prep.set: 'residual'\n",
      "Reading C:\\Users\\donat\\OneDrive\\Stalinis kompiuteris\\data\\NCF\\NCF_224_R2256_imp_ch_flt1-45_flt50_rejectedarte_ICA_prep.fdt\n",
      "Reading 0 ... 48345  =      0.000 ...   188.848 secs...\n"
     ]
    },
    {
     "name": "stderr",
     "output_type": "stream",
     "text": [
      "C:\\Users\\donat\\AppData\\Local\\Temp\\ipykernel_9024\\3852264803.py:34: RuntimeWarning: The data contains 'boundary' events, indicating data discontinuities. Be cautious of filtering and epoching around these events.\n",
      "  raw_data = mne.io.read_raw_eeglab(file_path, preload=True)\n",
      "C:\\Users\\donat\\AppData\\Local\\Temp\\ipykernel_9024\\3852264803.py:34: RuntimeWarning: The data contains 'boundary' events, indicating data discontinuities. Be cautious of filtering and epoching around these events.\n",
      "  raw_data = mne.io.read_raw_eeglab(file_path, preload=True)\n"
     ]
    },
    {
     "name": "stdout",
     "output_type": "stream",
     "text": [
      "\n",
      "FOOOF WARNING: Skipping frequency == 0, as this causes a problem with fitting.\n",
      "Error processing file NCF_224_R2256_imp_ch_flt1-45_flt50_rejectedarte_ICA_prep.set: 'residual'\n",
      "Reading C:\\Users\\donat\\OneDrive\\Stalinis kompiuteris\\data\\NCF\\NCF_225_R2256_imp_ch_flt1-45_flt50_rejectedarte_ICA_prep.fdt\n",
      "Reading 0 ... 61030  =      0.000 ...   238.398 secs...\n",
      "\n",
      "FOOOF WARNING: Skipping frequency == 0, as this causes a problem with fitting.\n",
      "Error processing file NCF_225_R2256_imp_ch_flt1-45_flt50_rejectedarte_ICA_prep.set: 'residual'\n",
      "Reading C:\\Users\\donat\\OneDrive\\Stalinis kompiuteris\\data\\NCF\\NCF_226_R2256_imp_ch_flt1-45_flt50_rejectedarte_ICA_prep.fdt\n",
      "Reading 0 ... 48941  =      0.000 ...   191.176 secs...\n"
     ]
    },
    {
     "name": "stderr",
     "output_type": "stream",
     "text": [
      "C:\\Users\\donat\\AppData\\Local\\Temp\\ipykernel_9024\\3852264803.py:34: RuntimeWarning: The data contains 'boundary' events, indicating data discontinuities. Be cautious of filtering and epoching around these events.\n",
      "  raw_data = mne.io.read_raw_eeglab(file_path, preload=True)\n"
     ]
    },
    {
     "name": "stdout",
     "output_type": "stream",
     "text": [
      "\n",
      "FOOOF WARNING: Skipping frequency == 0, as this causes a problem with fitting.\n",
      "Error processing file NCF_226_R2256_imp_ch_flt1-45_flt50_rejectedarte_ICA_prep.set: 'residual'\n",
      "Reading C:\\Users\\donat\\OneDrive\\Stalinis kompiuteris\\data\\NCF\\NCF_227_R2256_imp_ch_flt1-45_flt50_rejectedarte_ICA_prep.fdt\n",
      "Reading 0 ... 42997  =      0.000 ...   167.957 secs...\n"
     ]
    },
    {
     "name": "stderr",
     "output_type": "stream",
     "text": [
      "C:\\Users\\donat\\AppData\\Local\\Temp\\ipykernel_9024\\3852264803.py:34: RuntimeWarning: The data contains 'boundary' events, indicating data discontinuities. Be cautious of filtering and epoching around these events.\n",
      "  raw_data = mne.io.read_raw_eeglab(file_path, preload=True)\n"
     ]
    },
    {
     "name": "stdout",
     "output_type": "stream",
     "text": [
      "\n",
      "FOOOF WARNING: Skipping frequency == 0, as this causes a problem with fitting.\n"
     ]
    },
    {
     "name": "stderr",
     "output_type": "stream",
     "text": [
      "C:\\Users\\donat\\AppData\\Local\\Temp\\ipykernel_9024\\3852264803.py:34: RuntimeWarning: The data contains 'boundary' events, indicating data discontinuities. Be cautious of filtering and epoching around these events.\n",
      "  raw_data = mne.io.read_raw_eeglab(file_path, preload=True)\n"
     ]
    },
    {
     "name": "stdout",
     "output_type": "stream",
     "text": [
      "Error processing file NCF_227_R2256_imp_ch_flt1-45_flt50_rejectedarte_ICA_prep.set: 'residual'\n",
      "Reading C:\\Users\\donat\\OneDrive\\Stalinis kompiuteris\\data\\NCF\\NCF_228_R2256_imp_ch_flt1-45_flt50_rejectedarte_ICA_prep.fdt\n",
      "Reading 0 ... 48056  =      0.000 ...   187.719 secs...\n",
      "\n",
      "FOOOF WARNING: Skipping frequency == 0, as this causes a problem with fitting.\n",
      "Error processing file NCF_228_R2256_imp_ch_flt1-45_flt50_rejectedarte_ICA_prep.set: 'residual'\n",
      "Reading C:\\Users\\donat\\OneDrive\\Stalinis kompiuteris\\data\\NCF\\NCF_229_R2256_imp_ch_flt1-45_flt50_rejectedarte_ICA_prep.fdt\n",
      "Reading 0 ... 44465  =      0.000 ...   173.691 secs...\n"
     ]
    },
    {
     "name": "stderr",
     "output_type": "stream",
     "text": [
      "C:\\Users\\donat\\AppData\\Local\\Temp\\ipykernel_9024\\3852264803.py:34: RuntimeWarning: The data contains 'boundary' events, indicating data discontinuities. Be cautious of filtering and epoching around these events.\n",
      "  raw_data = mne.io.read_raw_eeglab(file_path, preload=True)\n",
      "C:\\Users\\donat\\AppData\\Local\\Temp\\ipykernel_9024\\3852264803.py:34: RuntimeWarning: The data contains 'boundary' events, indicating data discontinuities. Be cautious of filtering and epoching around these events.\n",
      "  raw_data = mne.io.read_raw_eeglab(file_path, preload=True)\n"
     ]
    },
    {
     "name": "stdout",
     "output_type": "stream",
     "text": [
      "\n",
      "FOOOF WARNING: Skipping frequency == 0, as this causes a problem with fitting.\n",
      "Error processing file NCF_229_R2256_imp_ch_flt1-45_flt50_rejectedarte_ICA_prep.set: 'residual'\n",
      "Reading C:\\Users\\donat\\OneDrive\\Stalinis kompiuteris\\data\\NCF\\NCF_230_R2256_imp_ch_flt1-45_flt50_rejectedarte_ICA_prep.fdt\n",
      "Reading 0 ... 45094  =      0.000 ...   176.148 secs...\n",
      "\n",
      "FOOOF WARNING: Skipping frequency == 0, as this causes a problem with fitting.\n",
      "Error processing file NCF_230_R2256_imp_ch_flt1-45_flt50_rejectedarte_ICA_prep.set: 'residual'\n",
      "Reading C:\\Users\\donat\\OneDrive\\Stalinis kompiuteris\\data\\NCF\\NCF_231_R2256_imp_ch_flt1-45_flt50_rejectedarte_ICA_prep.fdt\n",
      "Reading 0 ... 47242  =      0.000 ...   184.539 secs...\n"
     ]
    },
    {
     "name": "stderr",
     "output_type": "stream",
     "text": [
      "C:\\Users\\donat\\AppData\\Local\\Temp\\ipykernel_9024\\3852264803.py:34: RuntimeWarning: The data contains 'boundary' events, indicating data discontinuities. Be cautious of filtering and epoching around these events.\n",
      "  raw_data = mne.io.read_raw_eeglab(file_path, preload=True)\n",
      "C:\\Users\\donat\\AppData\\Local\\Temp\\ipykernel_9024\\3852264803.py:34: RuntimeWarning: The data contains 'boundary' events, indicating data discontinuities. Be cautious of filtering and epoching around these events.\n",
      "  raw_data = mne.io.read_raw_eeglab(file_path, preload=True)\n"
     ]
    },
    {
     "name": "stdout",
     "output_type": "stream",
     "text": [
      "\n",
      "FOOOF WARNING: Skipping frequency == 0, as this causes a problem with fitting.\n",
      "Error processing file NCF_231_R2256_imp_ch_flt1-45_flt50_rejectedarte_ICA_prep.set: 'residual'\n",
      "Reading C:\\Users\\donat\\OneDrive\\Stalinis kompiuteris\\data\\NCF\\NCF_232_R2256_imp_ch_flt1-45_flt50_rejectedarte_ICA_prep.fdt\n",
      "Reading 0 ... 46513  =      0.000 ...   181.691 secs...\n",
      "\n",
      "FOOOF WARNING: Skipping frequency == 0, as this causes a problem with fitting.\n",
      "Error processing file NCF_232_R2256_imp_ch_flt1-45_flt50_rejectedarte_ICA_prep.set: 'residual'\n",
      "Reading C:\\Users\\donat\\OneDrive\\Stalinis kompiuteris\\data\\NCF\\NCF_233_R2256_imp_ch_flt1-45_flt50_rejectedarte_ICA_prep.fdt\n",
      "Reading 0 ... 45744  =      0.000 ...   178.688 secs...\n"
     ]
    },
    {
     "name": "stderr",
     "output_type": "stream",
     "text": [
      "C:\\Users\\donat\\AppData\\Local\\Temp\\ipykernel_9024\\3852264803.py:34: RuntimeWarning: The data contains 'boundary' events, indicating data discontinuities. Be cautious of filtering and epoching around these events.\n",
      "  raw_data = mne.io.read_raw_eeglab(file_path, preload=True)\n",
      "C:\\Users\\donat\\AppData\\Local\\Temp\\ipykernel_9024\\3852264803.py:34: RuntimeWarning: The data contains 'boundary' events, indicating data discontinuities. Be cautious of filtering and epoching around these events.\n",
      "  raw_data = mne.io.read_raw_eeglab(file_path, preload=True)\n"
     ]
    },
    {
     "name": "stdout",
     "output_type": "stream",
     "text": [
      "\n",
      "FOOOF WARNING: Skipping frequency == 0, as this causes a problem with fitting.\n",
      "Error processing file NCF_233_R2256_imp_ch_flt1-45_flt50_rejectedarte_ICA_prep.set: 'residual'\n",
      "Reading C:\\Users\\donat\\OneDrive\\Stalinis kompiuteris\\data\\NCF\\NCF_234_R2256_imp_ch_flt1-45_flt50_rejectedarte_ICA_prep.fdt\n",
      "Reading 0 ... 47126  =      0.000 ...   184.086 secs...\n",
      "\n",
      "FOOOF WARNING: Skipping frequency == 0, as this causes a problem with fitting.\n",
      "Error processing file NCF_234_R2256_imp_ch_flt1-45_flt50_rejectedarte_ICA_prep.set: 'residual'\n",
      "Reading C:\\Users\\donat\\OneDrive\\Stalinis kompiuteris\\data\\NCF\\NCF_235_R2256_imp_ch_flt1-45_flt50_rejectedarte_ICA_prep.fdt\n",
      "Reading 0 ... 46926  =      0.000 ...   183.305 secs...\n"
     ]
    },
    {
     "name": "stderr",
     "output_type": "stream",
     "text": [
      "C:\\Users\\donat\\AppData\\Local\\Temp\\ipykernel_9024\\3852264803.py:34: RuntimeWarning: The data contains 'boundary' events, indicating data discontinuities. Be cautious of filtering and epoching around these events.\n",
      "  raw_data = mne.io.read_raw_eeglab(file_path, preload=True)\n",
      "C:\\Users\\donat\\AppData\\Local\\Temp\\ipykernel_9024\\3852264803.py:34: RuntimeWarning: The data contains 'boundary' events, indicating data discontinuities. Be cautious of filtering and epoching around these events.\n",
      "  raw_data = mne.io.read_raw_eeglab(file_path, preload=True)\n"
     ]
    },
    {
     "name": "stdout",
     "output_type": "stream",
     "text": [
      "\n",
      "FOOOF WARNING: Skipping frequency == 0, as this causes a problem with fitting.\n",
      "Error processing file NCF_235_R2256_imp_ch_flt1-45_flt50_rejectedarte_ICA_prep.set: 'residual'\n",
      "Reading C:\\Users\\donat\\OneDrive\\Stalinis kompiuteris\\data\\NCF\\NCF_236_R2256_imp_ch_flt1-45_flt50_ch_rejectedarte_ICA_prep.fdt\n",
      "Reading 0 ... 41546  =      0.000 ...   162.289 secs...\n",
      "\n",
      "FOOOF WARNING: Skipping frequency == 0, as this causes a problem with fitting.\n",
      "Error processing file NCF_236_R2256_imp_ch_flt1-45_flt50_ch_rejectedarte_ICA_prep.set: 'residual'\n",
      "Reading C:\\Users\\donat\\OneDrive\\Stalinis kompiuteris\\data\\NCF\\NCF_238_R2256_imp_ch_flt1-45_flt50_rejectedarte_ICA_prep.fdt\n",
      "Reading 0 ... 46948  =      0.000 ...   183.391 secs...\n"
     ]
    },
    {
     "name": "stderr",
     "output_type": "stream",
     "text": [
      "C:\\Users\\donat\\AppData\\Local\\Temp\\ipykernel_9024\\3852264803.py:34: RuntimeWarning: The data contains 'boundary' events, indicating data discontinuities. Be cautious of filtering and epoching around these events.\n",
      "  raw_data = mne.io.read_raw_eeglab(file_path, preload=True)\n",
      "C:\\Users\\donat\\AppData\\Local\\Temp\\ipykernel_9024\\3852264803.py:34: RuntimeWarning: The data contains 'boundary' events, indicating data discontinuities. Be cautious of filtering and epoching around these events.\n",
      "  raw_data = mne.io.read_raw_eeglab(file_path, preload=True)\n"
     ]
    },
    {
     "name": "stdout",
     "output_type": "stream",
     "text": [
      "\n",
      "FOOOF WARNING: Skipping frequency == 0, as this causes a problem with fitting.\n",
      "Error processing file NCF_238_R2256_imp_ch_flt1-45_flt50_rejectedarte_ICA_prep.set: 'residual'\n",
      "Reading C:\\Users\\donat\\OneDrive\\Stalinis kompiuteris\\data\\NCG\\NCG_301_R2256_imp_ch_flt1-45_flt50_rejectedarte_chr_ICA_prep.fdt\n",
      "Reading 0 ... 43191  =      0.000 ...   168.715 secs...\n",
      "\n",
      "FOOOF WARNING: Skipping frequency == 0, as this causes a problem with fitting.\n"
     ]
    },
    {
     "name": "stderr",
     "output_type": "stream",
     "text": [
      "C:\\Users\\donat\\AppData\\Local\\Temp\\ipykernel_9024\\3852264803.py:76: RuntimeWarning: The data contains 'boundary' events, indicating data discontinuities. Be cautious of filtering and epoching around these events.\n",
      "  raw_data = mne.io.read_raw_eeglab(file_path, preload=True)\n"
     ]
    },
    {
     "name": "stdout",
     "output_type": "stream",
     "text": [
      "Error processing file NCG_301_R2256_imp_ch_flt1-45_flt50_rejectedarte_chr_ICA_prep.set: 'residual'\n",
      "Reading C:\\Users\\donat\\OneDrive\\Stalinis kompiuteris\\data\\NCG\\NCG_302_R2256_imp_ch_flt1-45_flt50_rejectedarte_ICA_prep.fdt\n",
      "Reading 0 ... 43049  =      0.000 ...   168.160 secs...\n",
      "\n",
      "FOOOF WARNING: Skipping frequency == 0, as this causes a problem with fitting.\n",
      "Error processing file NCG_302_R2256_imp_ch_flt1-45_flt50_rejectedarte_ICA_prep.set: 'residual'\n",
      "Reading C:\\Users\\donat\\OneDrive\\Stalinis kompiuteris\\data\\NCG\\NCG_303_R2256_imp_ch_flt1-45_flt50_rejectedarte_chr_ICA_prep.fdt\n",
      "Reading 0 ... 45283  =      0.000 ...   176.887 secs...\n"
     ]
    },
    {
     "name": "stderr",
     "output_type": "stream",
     "text": [
      "C:\\Users\\donat\\AppData\\Local\\Temp\\ipykernel_9024\\3852264803.py:76: RuntimeWarning: The data contains 'boundary' events, indicating data discontinuities. Be cautious of filtering and epoching around these events.\n",
      "  raw_data = mne.io.read_raw_eeglab(file_path, preload=True)\n",
      "C:\\Users\\donat\\AppData\\Local\\Temp\\ipykernel_9024\\3852264803.py:76: RuntimeWarning: The data contains 'boundary' events, indicating data discontinuities. Be cautious of filtering and epoching around these events.\n",
      "  raw_data = mne.io.read_raw_eeglab(file_path, preload=True)\n"
     ]
    },
    {
     "name": "stdout",
     "output_type": "stream",
     "text": [
      "\n",
      "FOOOF WARNING: Skipping frequency == 0, as this causes a problem with fitting.\n",
      "Error processing file NCG_303_R2256_imp_ch_flt1-45_flt50_rejectedarte_chr_ICA_prep.set: 'residual'\n",
      "Reading C:\\Users\\donat\\OneDrive\\Stalinis kompiuteris\\data\\NCG\\NCG_303_R2256_imp_ch_flt1-45_flt50_rejectedarte_ICA_prep.fdt\n",
      "Reading 0 ... 45283  =      0.000 ...   176.887 secs...\n",
      "\n",
      "FOOOF WARNING: Skipping frequency == 0, as this causes a problem with fitting.\n",
      "Error processing file NCG_303_R2256_imp_ch_flt1-45_flt50_rejectedarte_ICA_prep.set: 'residual'\n",
      "Reading C:\\Users\\donat\\OneDrive\\Stalinis kompiuteris\\data\\NCG\\NCG_304_R2256_imp_ch_flt1-45_flt50_rejectedarte_ICA_prep.fdt\n",
      "Reading 0 ... 43807  =      0.000 ...   171.121 secs...\n"
     ]
    },
    {
     "name": "stderr",
     "output_type": "stream",
     "text": [
      "C:\\Users\\donat\\AppData\\Local\\Temp\\ipykernel_9024\\3852264803.py:76: RuntimeWarning: The data contains 'boundary' events, indicating data discontinuities. Be cautious of filtering and epoching around these events.\n",
      "  raw_data = mne.io.read_raw_eeglab(file_path, preload=True)\n"
     ]
    },
    {
     "name": "stdout",
     "output_type": "stream",
     "text": [
      "\n",
      "FOOOF WARNING: Skipping frequency == 0, as this causes a problem with fitting.\n",
      "Error processing file NCG_304_R2256_imp_ch_flt1-45_flt50_rejectedarte_ICA_prep.set: 'residual'\n",
      "Reading C:\\Users\\donat\\OneDrive\\Stalinis kompiuteris\\data\\NCG\\NCG_305_R2256_imp_ch_flt1-45_flt50_rejectedarte_ICA_prep.fdt\n",
      "Reading 0 ... 41315  =      0.000 ...   161.387 secs...\n"
     ]
    },
    {
     "name": "stderr",
     "output_type": "stream",
     "text": [
      "C:\\Users\\donat\\AppData\\Local\\Temp\\ipykernel_9024\\3852264803.py:76: RuntimeWarning: The data contains 'boundary' events, indicating data discontinuities. Be cautious of filtering and epoching around these events.\n",
      "  raw_data = mne.io.read_raw_eeglab(file_path, preload=True)\n",
      "C:\\Users\\donat\\AppData\\Local\\Temp\\ipykernel_9024\\3852264803.py:76: RuntimeWarning: The data contains 'boundary' events, indicating data discontinuities. Be cautious of filtering and epoching around these events.\n",
      "  raw_data = mne.io.read_raw_eeglab(file_path, preload=True)\n"
     ]
    },
    {
     "name": "stdout",
     "output_type": "stream",
     "text": [
      "\n",
      "FOOOF WARNING: Skipping frequency == 0, as this causes a problem with fitting.\n",
      "Error processing file NCG_305_R2256_imp_ch_flt1-45_flt50_rejectedarte_ICA_prep.set: 'residual'\n",
      "Reading C:\\Users\\donat\\OneDrive\\Stalinis kompiuteris\\data\\NCG\\NCG_306_R2256_imp_ch_flt1-45_flt50_rejectedarte_chr1_ICA_prep.fdt\n",
      "Reading 0 ... 45327  =      0.000 ...   177.059 secs...\n",
      "\n",
      "FOOOF WARNING: Skipping frequency == 0, as this causes a problem with fitting.\n",
      "Error processing file NCG_306_R2256_imp_ch_flt1-45_flt50_rejectedarte_chr1_ICA_prep.set: 'residual'\n",
      "Reading C:\\Users\\donat\\OneDrive\\Stalinis kompiuteris\\data\\NCG\\NCG_306_R2256_imp_ch_flt1-45_flt50_rejectedarte_chr_ICA_prep.fdt\n",
      "Reading 0 ... 45327  =      0.000 ...   177.059 secs...\n"
     ]
    },
    {
     "name": "stderr",
     "output_type": "stream",
     "text": [
      "C:\\Users\\donat\\AppData\\Local\\Temp\\ipykernel_9024\\3852264803.py:76: RuntimeWarning: Limited 1 annotation(s) that were expanding outside the data range.\n",
      "  raw_data = mne.io.read_raw_eeglab(file_path, preload=True)\n",
      "C:\\Users\\donat\\AppData\\Local\\Temp\\ipykernel_9024\\3852264803.py:76: RuntimeWarning: The data contains 'boundary' events, indicating data discontinuities. Be cautious of filtering and epoching around these events.\n",
      "  raw_data = mne.io.read_raw_eeglab(file_path, preload=True)\n",
      "C:\\Users\\donat\\AppData\\Local\\Temp\\ipykernel_9024\\3852264803.py:76: RuntimeWarning: Limited 1 annotation(s) that were expanding outside the data range.\n",
      "  raw_data = mne.io.read_raw_eeglab(file_path, preload=True)\n",
      "C:\\Users\\donat\\AppData\\Local\\Temp\\ipykernel_9024\\3852264803.py:76: RuntimeWarning: The data contains 'boundary' events, indicating data discontinuities. Be cautious of filtering and epoching around these events.\n",
      "  raw_data = mne.io.read_raw_eeglab(file_path, preload=True)\n"
     ]
    },
    {
     "name": "stdout",
     "output_type": "stream",
     "text": [
      "\n",
      "FOOOF WARNING: Skipping frequency == 0, as this causes a problem with fitting.\n",
      "Error processing file NCG_306_R2256_imp_ch_flt1-45_flt50_rejectedarte_chr_ICA_prep.set: 'residual'\n",
      "Reading C:\\Users\\donat\\OneDrive\\Stalinis kompiuteris\\data\\NCG\\NCG_306_R2256_imp_ch_flt1-45_flt50_rejectedarte_ICA_prep.fdt\n",
      "Reading 0 ... 45327  =      0.000 ...   177.059 secs...\n",
      "\n",
      "FOOOF WARNING: Skipping frequency == 0, as this causes a problem with fitting.\n",
      "Error processing file NCG_306_R2256_imp_ch_flt1-45_flt50_rejectedarte_ICA_prep.set: 'residual'\n",
      "Reading C:\\Users\\donat\\OneDrive\\Stalinis kompiuteris\\data\\NCG\\NCG_307_R2256_imp_ch_flt1-45_flt50_rejectedarte_chr_ICA_prep.fdt\n",
      "Reading 0 ... 46815  =      0.000 ...   182.871 secs...\n"
     ]
    },
    {
     "name": "stderr",
     "output_type": "stream",
     "text": [
      "C:\\Users\\donat\\AppData\\Local\\Temp\\ipykernel_9024\\3852264803.py:76: RuntimeWarning: Limited 1 annotation(s) that were expanding outside the data range.\n",
      "  raw_data = mne.io.read_raw_eeglab(file_path, preload=True)\n",
      "C:\\Users\\donat\\AppData\\Local\\Temp\\ipykernel_9024\\3852264803.py:76: RuntimeWarning: The data contains 'boundary' events, indicating data discontinuities. Be cautious of filtering and epoching around these events.\n",
      "  raw_data = mne.io.read_raw_eeglab(file_path, preload=True)\n",
      "C:\\Users\\donat\\AppData\\Local\\Temp\\ipykernel_9024\\3852264803.py:76: RuntimeWarning: The data contains 'boundary' events, indicating data discontinuities. Be cautious of filtering and epoching around these events.\n",
      "  raw_data = mne.io.read_raw_eeglab(file_path, preload=True)\n"
     ]
    },
    {
     "name": "stdout",
     "output_type": "stream",
     "text": [
      "\n",
      "FOOOF WARNING: Skipping frequency == 0, as this causes a problem with fitting.\n",
      "Error processing file NCG_307_R2256_imp_ch_flt1-45_flt50_rejectedarte_chr_ICA_prep.set: 'residual'\n",
      "Reading C:\\Users\\donat\\OneDrive\\Stalinis kompiuteris\\data\\NCG\\NCG_308_R2256_imp_ch_flt1-45_flt50_rejectedarte_chr_ICA_prep.fdt\n",
      "Reading 0 ... 43241  =      0.000 ...   168.910 secs...\n",
      "\n",
      "FOOOF WARNING: Skipping frequency == 0, as this causes a problem with fitting.\n",
      "Error processing file NCG_308_R2256_imp_ch_flt1-45_flt50_rejectedarte_chr_ICA_prep.set: 'residual'\n",
      "Reading C:\\Users\\donat\\OneDrive\\Stalinis kompiuteris\\data\\NCG\\NCG_309_R2256_imp_ch_flt1-45_flt50_rejectedarte_chr_ICA_prep.fdt\n",
      "Reading 0 ... 46391  =      0.000 ...   181.215 secs...\n"
     ]
    },
    {
     "name": "stderr",
     "output_type": "stream",
     "text": [
      "C:\\Users\\donat\\AppData\\Local\\Temp\\ipykernel_9024\\3852264803.py:76: RuntimeWarning: The data contains 'boundary' events, indicating data discontinuities. Be cautious of filtering and epoching around these events.\n",
      "  raw_data = mne.io.read_raw_eeglab(file_path, preload=True)\n",
      "C:\\Users\\donat\\AppData\\Local\\Temp\\ipykernel_9024\\3852264803.py:76: RuntimeWarning: The data contains 'boundary' events, indicating data discontinuities. Be cautious of filtering and epoching around these events.\n",
      "  raw_data = mne.io.read_raw_eeglab(file_path, preload=True)\n"
     ]
    },
    {
     "name": "stdout",
     "output_type": "stream",
     "text": [
      "\n",
      "FOOOF WARNING: Skipping frequency == 0, as this causes a problem with fitting.\n",
      "Error processing file NCG_309_R2256_imp_ch_flt1-45_flt50_rejectedarte_chr_ICA_prep.set: 'residual'\n",
      "Reading C:\\Users\\donat\\OneDrive\\Stalinis kompiuteris\\data\\NCG\\NCG_310_R2256_imp_ch_flt1-45_flt50_rejectedarte_ICA_prep.fdt\n",
      "Reading 0 ... 43285  =      0.000 ...   169.082 secs...\n",
      "\n",
      "FOOOF WARNING: Skipping frequency == 0, as this causes a problem with fitting.\n"
     ]
    },
    {
     "name": "stderr",
     "output_type": "stream",
     "text": [
      "C:\\Users\\donat\\AppData\\Local\\Temp\\ipykernel_9024\\3852264803.py:76: RuntimeWarning: The data contains 'boundary' events, indicating data discontinuities. Be cautious of filtering and epoching around these events.\n",
      "  raw_data = mne.io.read_raw_eeglab(file_path, preload=True)\n"
     ]
    },
    {
     "name": "stdout",
     "output_type": "stream",
     "text": [
      "Error processing file NCG_310_R2256_imp_ch_flt1-45_flt50_rejectedarte_ICA_prep.set: 'residual'\n",
      "Reading C:\\Users\\donat\\OneDrive\\Stalinis kompiuteris\\data\\NCG\\NCG_311_R2256_imp_ch_flt1-45_flt50_rejectedarte_ICA_prep.fdt\n",
      "Reading 0 ... 46515  =      0.000 ...   181.699 secs...\n",
      "\n",
      "FOOOF WARNING: Skipping frequency == 0, as this causes a problem with fitting.\n",
      "Error processing file NCG_311_R2256_imp_ch_flt1-45_flt50_rejectedarte_ICA_prep.set: 'residual'\n",
      "Reading C:\\Users\\donat\\OneDrive\\Stalinis kompiuteris\\data\\NCG\\NCG_312_ER2256_imp_ch_flt1-45_flt50_rejectedarte_chr_ICA_prep.fdt\n",
      "Reading 0 ... 48703  =      0.000 ...   190.246 secs...\n"
     ]
    },
    {
     "name": "stderr",
     "output_type": "stream",
     "text": [
      "C:\\Users\\donat\\AppData\\Local\\Temp\\ipykernel_9024\\3852264803.py:76: RuntimeWarning: The data contains 'boundary' events, indicating data discontinuities. Be cautious of filtering and epoching around these events.\n",
      "  raw_data = mne.io.read_raw_eeglab(file_path, preload=True)\n",
      "C:\\Users\\donat\\AppData\\Local\\Temp\\ipykernel_9024\\3852264803.py:76: RuntimeWarning: The data contains 'boundary' events, indicating data discontinuities. Be cautious of filtering and epoching around these events.\n",
      "  raw_data = mne.io.read_raw_eeglab(file_path, preload=True)\n"
     ]
    },
    {
     "name": "stdout",
     "output_type": "stream",
     "text": [
      "\n",
      "FOOOF WARNING: Skipping frequency == 0, as this causes a problem with fitting.\n",
      "Error processing file NCG_312_ER2256_imp_ch_flt1-45_flt50_rejectedarte_chr_ICA_prep.set: 'residual'\n",
      "Reading C:\\Users\\donat\\OneDrive\\Stalinis kompiuteris\\data\\NCG\\NCG_313_R2256_imp_ch_flt1-45_flt50_rejectedarte_chr_ICA_prep.fdt\n",
      "Reading 0 ... 50105  =      0.000 ...   195.723 secs...\n",
      "\n",
      "FOOOF WARNING: Skipping frequency == 0, as this causes a problem with fitting.\n",
      "Error processing file NCG_313_R2256_imp_ch_flt1-45_flt50_rejectedarte_chr_ICA_prep.set: 'residual'\n",
      "Reading C:\\Users\\donat\\OneDrive\\Stalinis kompiuteris\\data\\NCG\\NCG_314_R2256_imp_ch_flt1-45_flt50_rejectedarte_chr_ICA_prep.fdt\n",
      "Reading 0 ... 68688  =      0.000 ...   268.312 secs...\n"
     ]
    },
    {
     "name": "stderr",
     "output_type": "stream",
     "text": [
      "C:\\Users\\donat\\AppData\\Local\\Temp\\ipykernel_9024\\3852264803.py:76: RuntimeWarning: The data contains 'boundary' events, indicating data discontinuities. Be cautious of filtering and epoching around these events.\n",
      "  raw_data = mne.io.read_raw_eeglab(file_path, preload=True)\n",
      "C:\\Users\\donat\\AppData\\Local\\Temp\\ipykernel_9024\\3852264803.py:76: RuntimeWarning: The data contains 'boundary' events, indicating data discontinuities. Be cautious of filtering and epoching around these events.\n",
      "  raw_data = mne.io.read_raw_eeglab(file_path, preload=True)\n"
     ]
    },
    {
     "name": "stdout",
     "output_type": "stream",
     "text": [
      "\n",
      "FOOOF WARNING: Skipping frequency == 0, as this causes a problem with fitting.\n",
      "Error processing file NCG_314_R2256_imp_ch_flt1-45_flt50_rejectedarte_chr_ICA_prep.set: 'residual'\n",
      "Reading C:\\Users\\donat\\OneDrive\\Stalinis kompiuteris\\data\\NCG\\NCG_315_R2256_imp_ch_flt1-45_flt50_rejectedarte_chr_ICA_prep.fdt\n",
      "Reading 0 ... 46114  =      0.000 ...   180.133 secs...\n",
      "\n",
      "FOOOF WARNING: Skipping frequency == 0, as this causes a problem with fitting.\n",
      "Error processing file NCG_315_R2256_imp_ch_flt1-45_flt50_rejectedarte_chr_ICA_prep.set: 'residual'\n",
      "Reading C:\\Users\\donat\\OneDrive\\Stalinis kompiuteris\\data\\NCG\\NCG_316_R2256_imp_ch_flt1-45_flt50_rejectedarte_chr_ICA_prep.fdt\n",
      "Reading 0 ... 47301  =      0.000 ...   184.770 secs...\n",
      "\n",
      "FOOOF WARNING: Skipping frequency == 0, as this causes a problem with fitting.\n",
      "Error processing file NCG_316_R2256_imp_ch_flt1-45_flt50_rejectedarte_chr_ICA_prep.set: 'residual'\n",
      "Reading C:\\Users\\donat\\OneDrive\\Stalinis kompiuteris\\data\\NCG\\NCG_317_R2256_imp_ch_flt1-45_flt50_rejectedarte_chr_ICA_prep.fdt\n"
     ]
    },
    {
     "name": "stderr",
     "output_type": "stream",
     "text": [
      "C:\\Users\\donat\\AppData\\Local\\Temp\\ipykernel_9024\\3852264803.py:76: RuntimeWarning: The data contains 'boundary' events, indicating data discontinuities. Be cautious of filtering and epoching around these events.\n",
      "  raw_data = mne.io.read_raw_eeglab(file_path, preload=True)\n",
      "C:\\Users\\donat\\AppData\\Local\\Temp\\ipykernel_9024\\3852264803.py:76: RuntimeWarning: The data contains 'boundary' events, indicating data discontinuities. Be cautious of filtering and epoching around these events.\n",
      "  raw_data = mne.io.read_raw_eeglab(file_path, preload=True)\n"
     ]
    },
    {
     "name": "stdout",
     "output_type": "stream",
     "text": [
      "Reading 0 ... 46300  =      0.000 ...   180.859 secs...\n",
      "\n",
      "FOOOF WARNING: Skipping frequency == 0, as this causes a problem with fitting.\n",
      "Error processing file NCG_317_R2256_imp_ch_flt1-45_flt50_rejectedarte_chr_ICA_prep.set: 'residual'\n",
      "Reading C:\\Users\\donat\\OneDrive\\Stalinis kompiuteris\\data\\NCG\\NCG_318_R2256_imp_ch_flt1-45_flt50_rejectedarte_chr_ICA_prep.fdt\n",
      "Reading 0 ... 46848  =      0.000 ...   183.000 secs...\n",
      "\n",
      "FOOOF WARNING: Skipping frequency == 0, as this causes a problem with fitting.\n"
     ]
    },
    {
     "name": "stderr",
     "output_type": "stream",
     "text": [
      "C:\\Users\\donat\\AppData\\Local\\Temp\\ipykernel_9024\\3852264803.py:76: RuntimeWarning: The data contains 'boundary' events, indicating data discontinuities. Be cautious of filtering and epoching around these events.\n",
      "  raw_data = mne.io.read_raw_eeglab(file_path, preload=True)\n",
      "C:\\Users\\donat\\AppData\\Local\\Temp\\ipykernel_9024\\3852264803.py:76: RuntimeWarning: The data contains 'boundary' events, indicating data discontinuities. Be cautious of filtering and epoching around these events.\n",
      "  raw_data = mne.io.read_raw_eeglab(file_path, preload=True)\n"
     ]
    },
    {
     "name": "stdout",
     "output_type": "stream",
     "text": [
      "Error processing file NCG_318_R2256_imp_ch_flt1-45_flt50_rejectedarte_chr_ICA_prep.set: 'residual'\n",
      "Reading C:\\Users\\donat\\OneDrive\\Stalinis kompiuteris\\data\\NCG\\NCG_319_R2256_imp_ch_flt1-45_flt50_rejectedarte_chr_ICA_prep.fdt\n",
      "Reading 0 ... 44383  =      0.000 ...   173.371 secs...\n",
      "\n",
      "FOOOF WARNING: Skipping frequency == 0, as this causes a problem with fitting.\n",
      "Error processing file NCG_319_R2256_imp_ch_flt1-45_flt50_rejectedarte_chr_ICA_prep.set: 'residual'\n",
      "Reading C:\\Users\\donat\\OneDrive\\Stalinis kompiuteris\\data\\NCG\\NCG_320_R2256_imp_ch_flt1-45_flt50_rejectedarte_chr_ICA_prep.fdt\n",
      "Reading 0 ... 47300  =      0.000 ...   184.766 secs...\n",
      "\n",
      "FOOOF WARNING: Skipping frequency == 0, as this causes a problem with fitting.\n",
      "Error processing file NCG_320_R2256_imp_ch_flt1-45_flt50_rejectedarte_chr_ICA_prep.set: 'residual'\n",
      "Reading C:\\Users\\donat\\OneDrive\\Stalinis kompiuteris\\data\\NCG\\NCG_321_R2256_imp_ch_flt1-45_flt50_rejectedarte_ICA_prep.fdt\n"
     ]
    },
    {
     "name": "stderr",
     "output_type": "stream",
     "text": [
      "C:\\Users\\donat\\AppData\\Local\\Temp\\ipykernel_9024\\3852264803.py:76: RuntimeWarning: The data contains 'boundary' events, indicating data discontinuities. Be cautious of filtering and epoching around these events.\n",
      "  raw_data = mne.io.read_raw_eeglab(file_path, preload=True)\n",
      "C:\\Users\\donat\\AppData\\Local\\Temp\\ipykernel_9024\\3852264803.py:76: RuntimeWarning: The data contains 'boundary' events, indicating data discontinuities. Be cautious of filtering and epoching around these events.\n",
      "  raw_data = mne.io.read_raw_eeglab(file_path, preload=True)\n"
     ]
    },
    {
     "name": "stdout",
     "output_type": "stream",
     "text": [
      "Reading 0 ... 46902  =      0.000 ...   183.211 secs...\n",
      "\n",
      "FOOOF WARNING: Skipping frequency == 0, as this causes a problem with fitting.\n",
      "Error processing file NCG_321_R2256_imp_ch_flt1-45_flt50_rejectedarte_ICA_prep.set: 'residual'\n",
      "Reading C:\\Users\\donat\\OneDrive\\Stalinis kompiuteris\\data\\NCG\\NCG_322_R2256_imp_ch_flt1-45_flt50_rejectedarte_ICA_prep.fdt\n",
      "Reading 0 ... 49947  =      0.000 ...   195.105 secs...\n",
      "\n",
      "FOOOF WARNING: Skipping frequency == 0, as this causes a problem with fitting.\n",
      "Error processing file NCG_322_R2256_imp_ch_flt1-45_flt50_rejectedarte_ICA_prep.set: 'residual'\n",
      "Reading C:\\Users\\donat\\OneDrive\\Stalinis kompiuteris\\data\\NCG\\NCG_323_R2256_imp_ch_flt1-45_flt50_rejectedarte_ICA_prep.fdt\n"
     ]
    },
    {
     "name": "stderr",
     "output_type": "stream",
     "text": [
      "C:\\Users\\donat\\AppData\\Local\\Temp\\ipykernel_9024\\3852264803.py:76: RuntimeWarning: Limited 1 annotation(s) that were expanding outside the data range.\n",
      "  raw_data = mne.io.read_raw_eeglab(file_path, preload=True)\n",
      "C:\\Users\\donat\\AppData\\Local\\Temp\\ipykernel_9024\\3852264803.py:76: RuntimeWarning: The data contains 'boundary' events, indicating data discontinuities. Be cautious of filtering and epoching around these events.\n",
      "  raw_data = mne.io.read_raw_eeglab(file_path, preload=True)\n",
      "C:\\Users\\donat\\AppData\\Local\\Temp\\ipykernel_9024\\3852264803.py:76: RuntimeWarning: The data contains 'boundary' events, indicating data discontinuities. Be cautious of filtering and epoching around these events.\n",
      "  raw_data = mne.io.read_raw_eeglab(file_path, preload=True)\n"
     ]
    },
    {
     "name": "stdout",
     "output_type": "stream",
     "text": [
      "Reading 0 ... 44989  =      0.000 ...   175.738 secs...\n",
      "\n",
      "FOOOF WARNING: Skipping frequency == 0, as this causes a problem with fitting.\n",
      "Error processing file NCG_323_R2256_imp_ch_flt1-45_flt50_rejectedarte_ICA_prep.set: 'residual'\n",
      "Reading C:\\Users\\donat\\OneDrive\\Stalinis kompiuteris\\data\\NCG\\NCG_324_R2256_imp_ch_flt1-45_flt50_rejectedarte_ICA_prep.fdt\n",
      "Reading 0 ... 51417  =      0.000 ...   200.848 secs...\n"
     ]
    },
    {
     "name": "stderr",
     "output_type": "stream",
     "text": [
      "C:\\Users\\donat\\AppData\\Local\\Temp\\ipykernel_9024\\3852264803.py:76: RuntimeWarning: The data contains 'boundary' events, indicating data discontinuities. Be cautious of filtering and epoching around these events.\n",
      "  raw_data = mne.io.read_raw_eeglab(file_path, preload=True)\n",
      "C:\\Users\\donat\\AppData\\Local\\Temp\\ipykernel_9024\\3852264803.py:76: RuntimeWarning: Limited 1 annotation(s) that were expanding outside the data range.\n",
      "  raw_data = mne.io.read_raw_eeglab(file_path, preload=True)\n",
      "C:\\Users\\donat\\AppData\\Local\\Temp\\ipykernel_9024\\3852264803.py:76: RuntimeWarning: The data contains 'boundary' events, indicating data discontinuities. Be cautious of filtering and epoching around these events.\n",
      "  raw_data = mne.io.read_raw_eeglab(file_path, preload=True)\n"
     ]
    },
    {
     "name": "stdout",
     "output_type": "stream",
     "text": [
      "\n",
      "FOOOF WARNING: Skipping frequency == 0, as this causes a problem with fitting.\n",
      "Error processing file NCG_324_R2256_imp_ch_flt1-45_flt50_rejectedarte_ICA_prep.set: 'residual'\n",
      "Reading C:\\Users\\donat\\OneDrive\\Stalinis kompiuteris\\data\\NCG\\NCG_325_R2256_imp_ch_flt1-45_flt50_rejectedarte_ICA_prep.fdt\n",
      "Reading 0 ... 52459  =      0.000 ...   204.918 secs...\n",
      "\n",
      "FOOOF WARNING: Skipping frequency == 0, as this causes a problem with fitting.\n",
      "Error processing file NCG_325_R2256_imp_ch_flt1-45_flt50_rejectedarte_ICA_prep.set: 'residual'\n",
      "Reading C:\\Users\\donat\\OneDrive\\Stalinis kompiuteris\\data\\NCG\\NCG_326_R2256_imp_ch_flt1-45_flt50_rejecetedarte_ICA_prep.fdt\n",
      "Reading 0 ... 45771  =      0.000 ...   178.793 secs...\n",
      "\n",
      "FOOOF WARNING: Skipping frequency == 0, as this causes a problem with fitting.\n",
      "Error processing file NCG_326_R2256_imp_ch_flt1-45_flt50_rejecetedarte_ICA_prep.set: 'residual'\n",
      "Reading C:\\Users\\donat\\OneDrive\\Stalinis kompiuteris\\data\\NCG\\NCG_327_R2256_imp_ch_flt1-45_flt50_rejectedarte_ICA_prep.fdt\n"
     ]
    },
    {
     "name": "stderr",
     "output_type": "stream",
     "text": [
      "C:\\Users\\donat\\AppData\\Local\\Temp\\ipykernel_9024\\3852264803.py:76: RuntimeWarning: The data contains 'boundary' events, indicating data discontinuities. Be cautious of filtering and epoching around these events.\n",
      "  raw_data = mne.io.read_raw_eeglab(file_path, preload=True)\n",
      "C:\\Users\\donat\\AppData\\Local\\Temp\\ipykernel_9024\\3852264803.py:76: RuntimeWarning: The data contains 'boundary' events, indicating data discontinuities. Be cautious of filtering and epoching around these events.\n",
      "  raw_data = mne.io.read_raw_eeglab(file_path, preload=True)\n"
     ]
    },
    {
     "name": "stdout",
     "output_type": "stream",
     "text": [
      "Reading 0 ... 48278  =      0.000 ...   188.586 secs...\n",
      "\n",
      "FOOOF WARNING: Skipping frequency == 0, as this causes a problem with fitting.\n",
      "Error processing file NCG_327_R2256_imp_ch_flt1-45_flt50_rejectedarte_ICA_prep.set: 'residual'\n",
      "Reading C:\\Users\\donat\\OneDrive\\Stalinis kompiuteris\\data\\NCG\\NCG_328_R2256_imp_ch_flt1-45_flt50_rejectedarte_ICA_prep.fdt\n",
      "Reading 0 ... 47530  =      0.000 ...   185.664 secs...\n",
      "\n",
      "FOOOF WARNING: Skipping frequency == 0, as this causes a problem with fitting.\n",
      "Error processing file NCG_328_R2256_imp_ch_flt1-45_flt50_rejectedarte_ICA_prep.set: 'residual'\n",
      "Reading C:\\Users\\donat\\OneDrive\\Stalinis kompiuteris\\data\\NCG\\NCG_329_R2256_imp_ch_flt1-45_flt50_rejectedarte_ICA_prep.fdt\n"
     ]
    },
    {
     "name": "stderr",
     "output_type": "stream",
     "text": [
      "C:\\Users\\donat\\AppData\\Local\\Temp\\ipykernel_9024\\3852264803.py:76: RuntimeWarning: The data contains 'boundary' events, indicating data discontinuities. Be cautious of filtering and epoching around these events.\n",
      "  raw_data = mne.io.read_raw_eeglab(file_path, preload=True)\n",
      "C:\\Users\\donat\\AppData\\Local\\Temp\\ipykernel_9024\\3852264803.py:76: RuntimeWarning: The data contains 'boundary' events, indicating data discontinuities. Be cautious of filtering and epoching around these events.\n",
      "  raw_data = mne.io.read_raw_eeglab(file_path, preload=True)\n"
     ]
    },
    {
     "name": "stdout",
     "output_type": "stream",
     "text": [
      "Reading 0 ... 47742  =      0.000 ...   186.492 secs...\n",
      "\n",
      "FOOOF WARNING: Skipping frequency == 0, as this causes a problem with fitting.\n",
      "Error processing file NCG_329_R2256_imp_ch_flt1-45_flt50_rejectedarte_ICA_prep.set: 'residual'\n",
      "Reading C:\\Users\\donat\\OneDrive\\Stalinis kompiuteris\\data\\NCG\\NCG_330_R2256_imp_ch_flt1-45_flt50_rejectedarte_ICA_prep.fdt\n",
      "Reading 0 ... 48818  =      0.000 ...   190.695 secs...\n"
     ]
    },
    {
     "name": "stderr",
     "output_type": "stream",
     "text": [
      "C:\\Users\\donat\\AppData\\Local\\Temp\\ipykernel_9024\\3852264803.py:76: RuntimeWarning: The data contains 'boundary' events, indicating data discontinuities. Be cautious of filtering and epoching around these events.\n",
      "  raw_data = mne.io.read_raw_eeglab(file_path, preload=True)\n",
      "C:\\Users\\donat\\AppData\\Local\\Temp\\ipykernel_9024\\3852264803.py:76: RuntimeWarning: The data contains 'boundary' events, indicating data discontinuities. Be cautious of filtering and epoching around these events.\n",
      "  raw_data = mne.io.read_raw_eeglab(file_path, preload=True)\n"
     ]
    },
    {
     "name": "stdout",
     "output_type": "stream",
     "text": [
      "\n",
      "FOOOF WARNING: Skipping frequency == 0, as this causes a problem with fitting.\n",
      "Error processing file NCG_330_R2256_imp_ch_flt1-45_flt50_rejectedarte_ICA_prep.set: 'residual'\n",
      "Reading C:\\Users\\donat\\OneDrive\\Stalinis kompiuteris\\data\\NCG\\NCG_331_R2256_imp_ch_flt1-45_flt50_rejectedarte_ICA_prep.fdt\n",
      "Reading 0 ... 46687  =      0.000 ...   182.371 secs...\n",
      "\n",
      "FOOOF WARNING: Skipping frequency == 0, as this causes a problem with fitting.\n",
      "Error processing file NCG_331_R2256_imp_ch_flt1-45_flt50_rejectedarte_ICA_prep.set: 'residual'\n",
      "Reading C:\\Users\\donat\\OneDrive\\Stalinis kompiuteris\\data\\NCG\\NCG_332_R2256_imp_ch_flt1-45_flt50_rejectedarte_ICA_prep.fdt\n",
      "Reading 0 ... 48245  =      0.000 ...   188.457 secs...\n"
     ]
    },
    {
     "name": "stderr",
     "output_type": "stream",
     "text": [
      "C:\\Users\\donat\\AppData\\Local\\Temp\\ipykernel_9024\\3852264803.py:76: RuntimeWarning: The data contains 'boundary' events, indicating data discontinuities. Be cautious of filtering and epoching around these events.\n",
      "  raw_data = mne.io.read_raw_eeglab(file_path, preload=True)\n",
      "C:\\Users\\donat\\AppData\\Local\\Temp\\ipykernel_9024\\3852264803.py:76: RuntimeWarning: The data contains 'boundary' events, indicating data discontinuities. Be cautious of filtering and epoching around these events.\n",
      "  raw_data = mne.io.read_raw_eeglab(file_path, preload=True)\n"
     ]
    },
    {
     "name": "stdout",
     "output_type": "stream",
     "text": [
      "\n",
      "FOOOF WARNING: Skipping frequency == 0, as this causes a problem with fitting.\n",
      "Error processing file NCG_332_R2256_imp_ch_flt1-45_flt50_rejectedarte_ICA_prep.set: 'residual'\n",
      "Reading C:\\Users\\donat\\OneDrive\\Stalinis kompiuteris\\data\\NCG\\NCG_333_R2256_imp_ch_flt1-45_flt50_rejectedarte_ICA_prep.fdt\n",
      "Reading 0 ... 46861  =      0.000 ...   183.051 secs...\n",
      "\n",
      "FOOOF WARNING: Skipping frequency == 0, as this causes a problem with fitting.\n",
      "Error processing file NCG_333_R2256_imp_ch_flt1-45_flt50_rejectedarte_ICA_prep.set: 'residual'\n",
      "Reading C:\\Users\\donat\\OneDrive\\Stalinis kompiuteris\\data\\NCG\\NCG_334_R2256_imp_ch_flt1-45_flt50_rejectedarte_ICA_prep.fdt\n",
      "Reading 0 ... 53461  =      0.000 ...   208.832 secs...\n",
      "\n",
      "FOOOF WARNING: Skipping frequency == 0, as this causes a problem with fitting.\n",
      "Error processing file NCG_334_R2256_imp_ch_flt1-45_flt50_rejectedarte_ICA_prep.set: 'residual'\n",
      "Reading C:\\Users\\donat\\OneDrive\\Stalinis kompiuteris\\data\\NCG\\NCG_335_R2256_imp_ch_flt1-45_flt50_rejectedarte_ICA_prep.fdt\n"
     ]
    },
    {
     "name": "stderr",
     "output_type": "stream",
     "text": [
      "C:\\Users\\donat\\AppData\\Local\\Temp\\ipykernel_9024\\3852264803.py:76: RuntimeWarning: The data contains 'boundary' events, indicating data discontinuities. Be cautious of filtering and epoching around these events.\n",
      "  raw_data = mne.io.read_raw_eeglab(file_path, preload=True)\n",
      "C:\\Users\\donat\\AppData\\Local\\Temp\\ipykernel_9024\\3852264803.py:76: RuntimeWarning: The data contains 'boundary' events, indicating data discontinuities. Be cautious of filtering and epoching around these events.\n",
      "  raw_data = mne.io.read_raw_eeglab(file_path, preload=True)\n"
     ]
    },
    {
     "name": "stdout",
     "output_type": "stream",
     "text": [
      "Reading 0 ... 47723  =      0.000 ...   186.418 secs...\n",
      "\n",
      "FOOOF WARNING: Skipping frequency == 0, as this causes a problem with fitting.\n",
      "Error processing file NCG_335_R2256_imp_ch_flt1-45_flt50_rejectedarte_ICA_prep.set: 'residual'\n",
      "Reading C:\\Users\\donat\\OneDrive\\Stalinis kompiuteris\\data\\NCG\\NCG_336_R2256_imp_ch_flt1-45_flt50_rejectedarte_ICA_prep.fdt\n",
      "Reading 0 ... 48146  =      0.000 ...   188.070 secs...\n"
     ]
    },
    {
     "name": "stderr",
     "output_type": "stream",
     "text": [
      "C:\\Users\\donat\\AppData\\Local\\Temp\\ipykernel_9024\\3852264803.py:76: RuntimeWarning: The data contains 'boundary' events, indicating data discontinuities. Be cautious of filtering and epoching around these events.\n",
      "  raw_data = mne.io.read_raw_eeglab(file_path, preload=True)\n",
      "C:\\Users\\donat\\AppData\\Local\\Temp\\ipykernel_9024\\3852264803.py:76: RuntimeWarning: The data contains 'boundary' events, indicating data discontinuities. Be cautious of filtering and epoching around these events.\n",
      "  raw_data = mne.io.read_raw_eeglab(file_path, preload=True)\n"
     ]
    },
    {
     "name": "stdout",
     "output_type": "stream",
     "text": [
      "\n",
      "FOOOF WARNING: Skipping frequency == 0, as this causes a problem with fitting.\n",
      "Error processing file NCG_336_R2256_imp_ch_flt1-45_flt50_rejectedarte_ICA_prep.set: 'residual'\n",
      "Reading C:\\Users\\donat\\OneDrive\\Stalinis kompiuteris\\data\\NCG\\NCG_337_R2256_imp_ch_flt1-45_flt50_rejectedarte_ICA_prep.fdt\n",
      "Reading 0 ... 46596  =      0.000 ...   182.016 secs...\n",
      "\n",
      "FOOOF WARNING: Skipping frequency == 0, as this causes a problem with fitting.\n",
      "Error processing file NCG_337_R2256_imp_ch_flt1-45_flt50_rejectedarte_ICA_prep.set: 'residual'\n"
     ]
    },
    {
     "name": "stderr",
     "output_type": "stream",
     "text": [
      "C:\\Users\\donat\\AppData\\Local\\Temp\\ipykernel_9024\\3852264803.py:76: RuntimeWarning: The data contains 'boundary' events, indicating data discontinuities. Be cautious of filtering and epoching around these events.\n",
      "  raw_data = mne.io.read_raw_eeglab(file_path, preload=True)\n"
     ]
    },
    {
     "ename": "KeyError",
     "evalue": "'Fit Quality'",
     "output_type": "error",
     "traceback": [
      "\u001b[1;31m---------------------------------------------------------------------------\u001b[0m",
      "\u001b[1;31mKeyError\u001b[0m                                  Traceback (most recent call last)",
      "Cell \u001b[1;32mIn[21], line 121\u001b[0m\n\u001b[0;32m    118\u001b[0m group_2_df\u001b[38;5;241m.\u001b[39mto_csv(\u001b[38;5;124m'\u001b[39m\u001b[38;5;124mgroup_2_results.csv\u001b[39m\u001b[38;5;124m'\u001b[39m, index\u001b[38;5;241m=\u001b[39m\u001b[38;5;28;01mFalse\u001b[39;00m)\n\u001b[0;32m    120\u001b[0m \u001b[38;5;66;03m# Calculate the average alpha peak and 1/f slope for each group (excluding bad fits)\u001b[39;00m\n\u001b[1;32m--> 121\u001b[0m group_1_avg \u001b[38;5;241m=\u001b[39m group_1_df[group_1_df[\u001b[38;5;124m'\u001b[39m\u001b[38;5;124mFit Quality\u001b[39m\u001b[38;5;124m'\u001b[39m] \u001b[38;5;241m==\u001b[39m \u001b[38;5;124m'\u001b[39m\u001b[38;5;124mGood\u001b[39m\u001b[38;5;124m'\u001b[39m][[\u001b[38;5;124m'\u001b[39m\u001b[38;5;124mAlpha Peak\u001b[39m\u001b[38;5;124m'\u001b[39m, \u001b[38;5;124m'\u001b[39m\u001b[38;5;124m1/f Slope\u001b[39m\u001b[38;5;124m'\u001b[39m]]\u001b[38;5;241m.\u001b[39mmean()\n\u001b[0;32m    122\u001b[0m group_2_avg \u001b[38;5;241m=\u001b[39m group_2_df[group_2_df[\u001b[38;5;124m'\u001b[39m\u001b[38;5;124mFit Quality\u001b[39m\u001b[38;5;124m'\u001b[39m] \u001b[38;5;241m==\u001b[39m \u001b[38;5;124m'\u001b[39m\u001b[38;5;124mGood\u001b[39m\u001b[38;5;124m'\u001b[39m][[\u001b[38;5;124m'\u001b[39m\u001b[38;5;124mAlpha Peak\u001b[39m\u001b[38;5;124m'\u001b[39m, \u001b[38;5;124m'\u001b[39m\u001b[38;5;124m1/f Slope\u001b[39m\u001b[38;5;124m'\u001b[39m]]\u001b[38;5;241m.\u001b[39mmean()\n\u001b[0;32m    124\u001b[0m \u001b[38;5;28mprint\u001b[39m(\u001b[38;5;124m\"\u001b[39m\u001b[38;5;124mGroup 1 Averages:\u001b[39m\u001b[38;5;124m\"\u001b[39m)\n",
      "File \u001b[1;32m~\\miniconda3\\envs\\test3\\Lib\\site-packages\\pandas\\core\\frame.py:4102\u001b[0m, in \u001b[0;36mDataFrame.__getitem__\u001b[1;34m(self, key)\u001b[0m\n\u001b[0;32m   4100\u001b[0m \u001b[38;5;28;01mif\u001b[39;00m \u001b[38;5;28mself\u001b[39m\u001b[38;5;241m.\u001b[39mcolumns\u001b[38;5;241m.\u001b[39mnlevels \u001b[38;5;241m>\u001b[39m \u001b[38;5;241m1\u001b[39m:\n\u001b[0;32m   4101\u001b[0m     \u001b[38;5;28;01mreturn\u001b[39;00m \u001b[38;5;28mself\u001b[39m\u001b[38;5;241m.\u001b[39m_getitem_multilevel(key)\n\u001b[1;32m-> 4102\u001b[0m indexer \u001b[38;5;241m=\u001b[39m \u001b[38;5;28mself\u001b[39m\u001b[38;5;241m.\u001b[39mcolumns\u001b[38;5;241m.\u001b[39mget_loc(key)\n\u001b[0;32m   4103\u001b[0m \u001b[38;5;28;01mif\u001b[39;00m is_integer(indexer):\n\u001b[0;32m   4104\u001b[0m     indexer \u001b[38;5;241m=\u001b[39m [indexer]\n",
      "File \u001b[1;32m~\\miniconda3\\envs\\test3\\Lib\\site-packages\\pandas\\core\\indexes\\range.py:417\u001b[0m, in \u001b[0;36mRangeIndex.get_loc\u001b[1;34m(self, key)\u001b[0m\n\u001b[0;32m    415\u001b[0m         \u001b[38;5;28;01mraise\u001b[39;00m \u001b[38;5;167;01mKeyError\u001b[39;00m(key) \u001b[38;5;28;01mfrom\u001b[39;00m \u001b[38;5;21;01merr\u001b[39;00m\n\u001b[0;32m    416\u001b[0m \u001b[38;5;28;01mif\u001b[39;00m \u001b[38;5;28misinstance\u001b[39m(key, Hashable):\n\u001b[1;32m--> 417\u001b[0m     \u001b[38;5;28;01mraise\u001b[39;00m \u001b[38;5;167;01mKeyError\u001b[39;00m(key)\n\u001b[0;32m    418\u001b[0m \u001b[38;5;28mself\u001b[39m\u001b[38;5;241m.\u001b[39m_check_indexing_error(key)\n\u001b[0;32m    419\u001b[0m \u001b[38;5;28;01mraise\u001b[39;00m \u001b[38;5;167;01mKeyError\u001b[39;00m(key)\n",
      "\u001b[1;31mKeyError\u001b[0m: 'Fit Quality'"
     ]
    }
   ],
   "source": [
    "import mne\n",
    "from fooof import FOOOF\n",
    "import numpy as np\n",
    "import os\n",
    "import pandas as pd\n",
    "from scipy.signal import welch\n",
    "import matplotlib.pyplot as plt\n",
    "\n",
    "# Define the path where your EEG .set files are stored\n",
    "data_dir_group_1 = r'C:\\Users\\donat\\OneDrive\\Stalinis kompiuteris\\data\\NCF'  # Change this to the correct directory for Group 1\n",
    "data_dir_group_2 = r'C:\\Users\\donat\\OneDrive\\Stalinis kompiuteris\\data\\NCG'  # Change this to the correct directory for Group 2\n",
    "\n",
    "# List all the .set files in the directories for each group\n",
    "file_list_group_1 = [f for f in os.listdir(data_dir_group_1) if f.endswith('.set')]\n",
    "file_list_group_2 = [f for f in os.listdir(data_dir_group_2) if f.endswith('.set')]\n",
    "\n",
    "# Initialize empty lists to store results\n",
    "group_1_results = []\n",
    "group_2_results = []\n",
    "\n",
    "# Function to check if the fitting is correct\n",
    "def check_fit_quality(fm):\n",
    "    # You can use the residuals or other criteria to flag bad fits\n",
    "    # Here we're using a simple check: if the residuals are too high\n",
    "    residuals = fm.get_params('aperiodic', 'residual')\n",
    "    return residuals < 0.1  # Threshold for \"good\" fit (you can adjust this)\n",
    "\n",
    "# Process files for Group 1\n",
    "for file_name in file_list_group_1:\n",
    "    file_path = os.path.join(data_dir_group_1, file_name)\n",
    "    if os.path.exists(file_path):\n",
    "        try:\n",
    "            # Load the EEG data\n",
    "            raw_data = mne.io.read_raw_eeglab(file_path, preload=True)\n",
    "            eeg_data = raw_data.get_data()\n",
    "            sfreq = raw_data.info['sfreq']\n",
    "\n",
    "            # Compute Power Spectral Density (PSD)\n",
    "            avg_data = eeg_data.mean(axis=0)\n",
    "            frequencies, psd = welch(avg_data, fs=sfreq, nperseg=sfreq*2)  # 2-second window\n",
    "\n",
    "            # Initialize and fit the FOOOF model\n",
    "            fm = FOOOF(peak_width_limits=[1, 12], aperiodic_mode='knee')\n",
    "            fm.fit(frequencies, psd)\n",
    "\n",
    "            # Check if the fit is good\n",
    "            if check_fit_quality(fm):\n",
    "                # Extract alpha peak and 1/f slope\n",
    "                alpha_peak = fm.get_params('peak')\n",
    "                slope = fm.get_params('aperiodic', 'exponent')\n",
    "\n",
    "                group_1_results.append({\n",
    "                    'File': file_name,\n",
    "                    'Alpha Peak': alpha_peak,\n",
    "                    '1/f Slope': slope,\n",
    "                    'Fit Quality': 'Good'\n",
    "                })\n",
    "            else:\n",
    "                group_1_results.append({\n",
    "                    'File': file_name,\n",
    "                    'Alpha Peak': None,\n",
    "                    '1/f Slope': None,\n",
    "                    'Fit Quality': 'Poor'\n",
    "                })\n",
    "        except Exception as e:\n",
    "            print(f\"Error processing file {file_name}: {e}\")\n",
    "    else:\n",
    "        print(f\"File not found: {file_name}\")\n",
    "\n",
    "# Process files for Group 2\n",
    "for file_name in file_list_group_2:\n",
    "    file_path = os.path.join(data_dir_group_2, file_name)\n",
    "    if os.path.exists(file_path):\n",
    "        try:\n",
    "            # Load the EEG data\n",
    "            raw_data = mne.io.read_raw_eeglab(file_path, preload=True)\n",
    "            eeg_data = raw_data.get_data()\n",
    "            sfreq = raw_data.info['sfreq']\n",
    "\n",
    "            # Compute Power Spectral Density (PSD)\n",
    "            avg_data = eeg_data.mean(axis=0)\n",
    "            frequencies, psd = welch(avg_data, fs=sfreq, nperseg=sfreq*2)  # 2-second window\n",
    "\n",
    "            # Initialize and fit the FOOOF model\n",
    "            fm = FOOOF(peak_width_limits=[1, 12], aperiodic_mode='knee')\n",
    "            fm.fit(frequencies, psd)\n",
    "\n",
    "            # Check if the fit is good\n",
    "            if check_fit_quality(fm):\n",
    "                # Extract alpha peak and 1/f slope\n",
    "                alpha_peak = fm.get_params('peak')\n",
    "                slope = fm.get_params('aperiodic', 'exponent')\n",
    "\n",
    "                group_2_results.append({\n",
    "                    'File': file_name,\n",
    "                    'Alpha Peak': alpha_peak,\n",
    "                    '1/f Slope': slope,\n",
    "                    'Fit Quality': 'Good'\n",
    "                })\n",
    "            else:\n",
    "                group_2_results.append({\n",
    "                    'File': file_name,\n",
    "                    'Alpha Peak': None,\n",
    "                    '1/f Slope': None,\n",
    "                    'Fit Quality': 'Poor'\n",
    "                })\n",
    "        except Exception as e:\n",
    "            print(f\"Error processing file {file_name}: {e}\")\n",
    "    else:\n",
    "        print(f\"File not found: {file_name}\")\n",
    "\n",
    "# Convert results for both groups to DataFrames\n",
    "group_1_df = pd.DataFrame(group_1_results)\n",
    "group_2_df = pd.DataFrame(group_2_results)\n",
    "\n",
    "# Save the results to CSV files for each group\n",
    "group_1_df.to_csv('group_1_results.csv', index=False)\n",
    "group_2_df.to_csv('group_2_results.csv', index=False)\n",
    "\n",
    "# Calculate the average alpha peak and 1/f slope for each group (excluding bad fits)\n",
    "group_1_avg = group_1_df[group_1_df['Fit Quality'] == 'Good'][['Alpha Peak', '1/f Slope']].mean()\n",
    "group_2_avg = group_2_df[group_2_df['Fit Quality'] == 'Good'][['Alpha Peak', '1/f Slope']].mean()\n",
    "\n",
    "print(\"Group 1 Averages:\")\n",
    "print(group_1_avg)\n",
    "\n",
    "print(\"Group 2 Averages:\")\n",
    "print(group_2_avg)\n",
    "\n",
    "# Plotting the averages for both groups\n",
    "plt.figure(figsize=(10, 6))\n",
    "\n",
    "# Plot Alpha Peaks\n",
    "plt.subplot(1, 2, 1)\n",
    "plt.bar(['Group 1', 'Group 2'], [group_1_avg['Alpha Peak'], group_2_avg['Alpha Peak']])\n",
    "plt.ylabel('Alpha Peak Frequency (Hz)')\n",
    "plt.title('Average Alpha Peak Frequency')\n",
    "\n",
    "# Plot 1/f Slope\n",
    "plt.subplot(1, 2, 2)\n",
    "plt.bar(['Group 1', 'Group 2'], [group_1_avg['1/f Slope'], group_2_avg['1/f Slope']])\n",
    "plt.ylabel('1/f Slope')\n",
    "plt.title('Average 1/f Slope')\n",
    "\n",
    "# Show the plots\n",
    "plt.tight_layout()\n",
    "plt.show()\n"
   ]
  }
 ],
 "metadata": {
  "kernelspec": {
   "display_name": "Python 3 (ipykernel)",
   "language": "python",
   "name": "python3"
  },
  "language_info": {
   "codemirror_mode": {
    "name": "ipython",
    "version": 3
   },
   "file_extension": ".py",
   "mimetype": "text/x-python",
   "name": "python",
   "nbconvert_exporter": "python",
   "pygments_lexer": "ipython3",
   "version": "3.12.4"
  }
 },
 "nbformat": 4,
 "nbformat_minor": 5
}
